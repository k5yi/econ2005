{
 "cells": [
  {
   "cell_type": "markdown",
   "id": "ee07ad3e",
   "metadata": {},
   "source": [
    "# python\n",
    "\n",
    "- python version: 2.7.18, 3.7, 3.8, **3.9**, 3.10, 3.11\n",
    "\n",
    "- 시작준비 [cs231 참고](https://cs231n.github.io/python-numpy-tutorial/)\n",
    "\n",
    "<a href=\"https://colab.research.google.com/github/k5yi/econ2005/blob/master/notebooks/01PythonReview.ipynb\">\n",
    "  <img src=\"https://img.shields.io/badge/%EC%84%9C%EA%B0%95%EA%B2%BD%EC%A0%9C-1%20Python%20Review-crimson?labelColor=navy&logo=googlecolab&logoClolor=crimson\" align='left'/>\n",
    "</a>"
   ]
  },
  {
   "cell_type": "code",
   "execution_count": 1,
   "id": "a5a25c96",
   "metadata": {},
   "outputs": [
    {
     "name": "stdout",
     "output_type": "stream",
     "text": [
      "Python 3.8.8\n"
     ]
    }
   ],
   "source": [
    "!python --version"
   ]
  },
  {
   "cell_type": "markdown",
   "id": "cfda8621",
   "metadata": {},
   "source": [
    "## basic data type\n",
    "\n",
    "정수, 실수, 불리안, 문자열\n",
    "\n",
    "### 숫자 numbers"
   ]
  },
  {
   "cell_type": "code",
   "execution_count": 2,
   "id": "ec54c2c5",
   "metadata": {},
   "outputs": [
    {
     "name": "stdout",
     "output_type": "stream",
     "text": [
      "<class 'int'> <class 'float'> <class 'bool'> <class 'str'>\n",
      "1 2 10 1.5 4\n",
      "-1\n",
      "1.0\n"
     ]
    }
   ],
   "source": [
    "print(type(1), type(1.), type(True), type(\"\"))\n",
    "print(1, 1+1, 2*5, 3/2, 2**2)\n",
    "print(int(-1.2))\n",
    "print(float(1))"
   ]
  },
  {
   "cell_type": "markdown",
   "id": "7b32861e",
   "metadata": {},
   "source": [
    "### 불리안 booleans\n",
    "\n",
    "논리자료형으로 두 개의 값으로 이루어진 자료로 보통 True와 False\n",
    "\n",
    "`0`, `nan`, `None` 을 제외하곤 모두 `True`"
   ]
  },
  {
   "cell_type": "code",
   "execution_count": 3,
   "id": "7527f5b3",
   "metadata": {},
   "outputs": [
    {
     "name": "stdout",
     "output_type": "stream",
     "text": [
      "True\n",
      "1\n",
      "False\n",
      "True\n",
      "False\n"
     ]
    }
   ],
   "source": [
    "print(True)\n",
    "print(int(True))\n",
    "print(True and False)\n",
    "print(True or False)\n",
    "print(not True)"
   ]
  },
  {
   "cell_type": "code",
   "execution_count": 4,
   "id": "a90e9863",
   "metadata": {},
   "outputs": [
    {
     "name": "stdout",
     "output_type": "stream",
     "text": [
      "True\n",
      "False\n"
     ]
    }
   ],
   "source": [
    "print(any([True, False]))\n",
    "print(all([True, False]))"
   ]
  },
  {
   "cell_type": "markdown",
   "id": "8a033ca1",
   "metadata": {},
   "source": [
    "<p style=\"color:navy; font-size:1.25em; font-weight:bold\"> 참고 Bitwise Operator </p>\n",
    "\n",
    "다수의 원소를 갖는 container 자료의 논리값 계산에 유용하다."
   ]
  },
  {
   "cell_type": "code",
   "execution_count": 5,
   "id": "e2e255dc",
   "metadata": {},
   "outputs": [
    {
     "name": "stdout",
     "output_type": "stream",
     "text": [
      "c: 12, d: 61, e: -61\n"
     ]
    }
   ],
   "source": [
    "a = 60       # 60 = 0011 1100\n",
    "b = 13       # 13 = 0000 1101\n",
    "c = 0\n",
    "\n",
    "c = a & b    # 12 = 0000 1100\n",
    "d = a | b    # 61 = 0011 1101\n",
    "e = ~a       #-61 = 1100 0011\n",
    "\n",
    "print(f\"c: {c}, d: {d}, e: {e}\")"
   ]
  },
  {
   "cell_type": "markdown",
   "id": "2dfb02d8",
   "metadata": {},
   "source": [
    "bitwise logical operator는 boolean array에 대해 `any()`나 `all()`과 같이 사용할 수 있다.\n",
    "\n",
    "`&`, `|`, `~`"
   ]
  },
  {
   "cell_type": "code",
   "execution_count": 6,
   "id": "a393866c",
   "metadata": {},
   "outputs": [
    {
     "name": "stdout",
     "output_type": "stream",
     "text": [
      "True\n",
      "[ True False]\n"
     ]
    }
   ],
   "source": [
    "import numpy as np\n",
    "\n",
    "print(np.array([True, False]).any())\n",
    "print(np.array([True, False]) & np.array([True, False]))"
   ]
  },
  {
   "cell_type": "markdown",
   "id": "894816ba",
   "metadata": {},
   "source": [
    "### 문자열 strings\n",
    "\n",
    "순서가 있는 sequence유형"
   ]
  },
  {
   "cell_type": "code",
   "execution_count": 7,
   "id": "ada7a066",
   "metadata": {},
   "outputs": [
    {
     "name": "stdout",
     "output_type": "stream",
     "text": [
      "ab\n",
      "hahaha\n",
      "\n"
     ]
    }
   ],
   "source": [
    "print(\"a\"+\"b\")\n",
    "print(\"ha\"*3)\n",
    "print()"
   ]
  },
  {
   "cell_type": "code",
   "execution_count": 8,
   "id": "929866af",
   "metadata": {},
   "outputs": [
    {
     "name": "stdout",
     "output_type": "stream",
     "text": [
      "cut\n",
      " cat . \n",
      "cat .\n",
      "cat.\n"
     ]
    }
   ],
   "source": [
    "print(\"cat\".replace(\"a\", \"u\"))\n",
    "print(\" cat . \")\n",
    "print(\" cat . \".strip())\n",
    "print(\" cat . \".replace(\" \", \"\"))"
   ]
  },
  {
   "cell_type": "code",
   "execution_count": 9,
   "id": "f1c46722",
   "metadata": {},
   "outputs": [
    {
     "name": "stdout",
     "output_type": "stream",
     "text": [
      "Name: 소방서, Phone: 119\n",
      "Name: 소방서, Phone: 119\n",
      "Name: 소방서, Phone:   119\n"
     ]
    }
   ],
   "source": [
    "name = \"소방서\"\n",
    "phone = 119\n",
    "\n",
    "template = \"Name: %s, Phone: %d\"\n",
    "print(template % (name, phone))\n",
    "\n",
    "template = \"Name: {}, Phone: {}\"\n",
    "print(template.format(name, phone))\n",
    "\n",
    "print(f\"Name: {name}, Phone: {phone:5}\")"
   ]
  },
  {
   "cell_type": "markdown",
   "id": "bbfff371",
   "metadata": {},
   "source": [
    "## 컨테이너 Containers\n",
    "\n",
    "container는 다른 유형의 자료를 원소로 하는 유형으로 (range는 예외), `__contains__` method의 정의 여부로 구분한다.\n",
    "\n",
    "기본 자료유형 중 list, tuple, range는 순서가 정의된 sequence 이며 dict와 set의 원소에는 순서가 없다. \n",
    "\n",
    "모든 container는 iterator로 사용할 수 있지만, set의 경우 순서는 미리 결정할 수 없다.\n",
    "\n",
    "tuple과 range는 Immutable, 나머지는 모두 mutable이다.\n",
    "\n",
    "### 리스트 lists\n",
    "\n",
    "String과 함께 대표적인 mutable이며, dict의 key나 set의 원소로 사용할 수 없다."
   ]
  },
  {
   "cell_type": "code",
   "execution_count": 10,
   "id": "a0c44fdb",
   "metadata": {},
   "outputs": [
    {
     "name": "stdout",
     "output_type": "stream",
     "text": [
      "True\n",
      "True\n",
      "[1, 1.0, 'foo', 'bar']\n",
      "[1, 1.0, 'foo']\n",
      "[1, 1.0, 'foo', 'bar']\n",
      "[1, 1.0, 'foo']  와  bar\n",
      "['a', 'b', 'c']\n",
      "[1, 1.0]\n"
     ]
    }
   ],
   "source": [
    "x  = [1, 1., \"foo\"]\n",
    "print(x.__contains__('foo'))\n",
    "print('foo' in x)\n",
    "print(x+[\"bar\"])\n",
    "print(x)\n",
    "x.append(\"bar\") # copy를 만들지 않는다.\n",
    "print(x)\n",
    "y = x.pop(-1)\n",
    "print(x, \" 와 \", y)\n",
    "print(list(\"abc\"))\n",
    "del x[2]\n",
    "print(x)"
   ]
  },
  {
   "cell_type": "markdown",
   "id": "0cb58153",
   "metadata": {},
   "source": [
    "### indexing과 slicing\n",
    "\n",
    "sequence는 위치 정보를 이용하여 원하는 원소들을 추출할 수 있다.<br>\n",
    "index는 `0`부터 시작하며 마지막 원소는 `-1`로 구분하기도 한다.<br>\n",
    "python의 모든 자료 유형의 slicing은 `[start:stop:step]`을 이용하며 start에서 stop-1번째 까지 원소를 추출한다."
   ]
  },
  {
   "cell_type": "code",
   "execution_count": 11,
   "id": "1ffc3b52",
   "metadata": {},
   "outputs": [
    {
     "name": "stdout",
     "output_type": "stream",
     "text": [
      "[[1, 1.0], True, 'foo', 'bar']\n",
      "foo\n",
      "bar\n"
     ]
    }
   ],
   "source": [
    "y  = [x, True, \"foo\", \"bar\"]\n",
    "print(y)\n",
    "print(y[2])\n",
    "print(y[-1])"
   ]
  },
  {
   "cell_type": "markdown",
   "id": "10410cd4",
   "metadata": {},
   "source": [
    "### Conditional statement\n",
    "\n",
    "If statement와 for loop, while loop, 그리고 함께 사용하는 `pass`, `break`, `continue`는 code의 실행 순서를 통제하기 위해 사용한다."
   ]
  },
  {
   "cell_type": "code",
   "execution_count": 12,
   "id": "2c30f055",
   "metadata": {},
   "outputs": [
    {
     "name": "stdout",
     "output_type": "stream",
     "text": [
      "cat, dog, "
     ]
    }
   ],
   "source": [
    "pets = ['cat', 'dog']\n",
    "\n",
    "for pet in pets:\n",
    "    \n",
    "    print(pet, end=', ')"
   ]
  },
  {
   "cell_type": "code",
   "execution_count": 13,
   "id": "de4bbbcc",
   "metadata": {},
   "outputs": [
    {
     "name": "stdout",
     "output_type": "stream",
     "text": [
      "[0, 1, 1, 2, 3, 5, 8, 13]\n"
     ]
    }
   ],
   "source": [
    "fibonacci = [0,1]\n",
    "\n",
    "n = 8 # length of the sequence\n",
    "\n",
    "for num in range(n-2):\n",
    "    \n",
    "    fibonacci.append(sum(fibonacci[-2:]))\n",
    "    \n",
    "print(fibonacci)"
   ]
  },
  {
   "cell_type": "code",
   "execution_count": 14,
   "id": "9178c474",
   "metadata": {},
   "outputs": [],
   "source": [
    "from math import sqrt"
   ]
  },
  {
   "cell_type": "code",
   "execution_count": 15,
   "id": "831bfa66",
   "metadata": {},
   "outputs": [
    {
     "name": "stdout",
     "output_type": "stream",
     "text": [
      "29.1 µs ± 296 ns per loop (mean ± std. dev. of 7 runs, 10000 loops each)\n"
     ]
    }
   ],
   "source": [
    "%%timeit\n",
    "\n",
    "n = 10 # max length of a \n",
    "\n",
    "Pythagorean_triple =  []\n",
    "\n",
    "for a in range(1,n):\n",
    "    \n",
    "    for b in range(a,n):\n",
    "\n",
    "        c =  sqrt(a**2 + b**2)\n",
    "        \n",
    "        if c == int(c):\n",
    "            Pythagorean_triple.append((a,b,int(c)))\n",
    "            \n",
    "#print(Pythagorean_triple)"
   ]
  },
  {
   "cell_type": "markdown",
   "id": "3e1a1b15",
   "metadata": {},
   "source": [
    "### List comprehension\n",
    "\n",
    "Loop의 특수한 형태로 결과물은 list"
   ]
  },
  {
   "cell_type": "code",
   "execution_count": 16,
   "id": "b26bab02",
   "metadata": {},
   "outputs": [
    {
     "name": "stdout",
     "output_type": "stream",
     "text": [
      "205 µs ± 1.82 µs per loop (mean ± std. dev. of 7 runs, 1000 loops each)\n"
     ]
    }
   ],
   "source": [
    "%%timeit\n",
    "\n",
    "Pythagorean_triple = [(a,b,c)\n",
    "                     for a in range(1,n)\n",
    "                     for b in range(1,n)\n",
    "                     for c in range(1,n)\n",
    "                     if a**2 + b**2 == c**2 and a >= b]\n",
    "\n",
    "#print(Pythagorean_triple)"
   ]
  },
  {
   "cell_type": "code",
   "execution_count": 17,
   "id": "1d3a23ed",
   "metadata": {},
   "outputs": [
    {
     "name": "stdout",
     "output_type": "stream",
     "text": [
      "17.5 µs ± 148 ns per loop (mean ± std. dev. of 7 runs, 100000 loops each)\n"
     ]
    }
   ],
   "source": [
    "%%timeit\n",
    "\n",
    "Pythagorean_triple = [(a, b, int(sqrt(a**2 + b**2))) \n",
    "                      for a in range(1,n) \n",
    "                      for b in range(a,n) \n",
    "                      if sqrt(a**2 + b**2) % 1 == 0]\n",
    "\n",
    "#print(Pythagorean_triple)"
   ]
  },
  {
   "cell_type": "markdown",
   "id": "a48021b9",
   "metadata": {},
   "source": [
    "### 튜플 tuple\n",
    "\n",
    "tuple은 immutable 이란 것 이외에는 list와 유사하며, list와는 다르게 dictionary의 key나 set의 원소로 사용할 수 있다.<br>\n",
    "Tuple comprehension은 generator 를 생성한다."
   ]
  },
  {
   "cell_type": "code",
   "execution_count": 18,
   "id": "2cb922b4",
   "metadata": {},
   "outputs": [
    {
     "name": "stdout",
     "output_type": "stream",
     "text": [
      "(0, 1, 2)\n"
     ]
    }
   ],
   "source": [
    "tuple_comprehension = (i for i in range(3))\n",
    "print(tuple(tuple_comprehension))"
   ]
  },
  {
   "cell_type": "code",
   "execution_count": 19,
   "id": "6dde074e",
   "metadata": {},
   "outputs": [
    {
     "name": "stdout",
     "output_type": "stream",
     "text": [
      "()\n"
     ]
    }
   ],
   "source": [
    "print(tuple(tuple_comprehension))"
   ]
  },
  {
   "cell_type": "markdown",
   "id": "c34931b4",
   "metadata": {},
   "source": [
    "### 레인지 range\n",
    "\n",
    "모든 원소는 정수이며 generator와 마찬가지로 \"식\"을 이용하여 원소를 필요에 따라 생성한다.\n",
    "용량이 작으며 generator와는 다르게 자료생성 이후에도 계속 메모리에 남아있다."
   ]
  },
  {
   "cell_type": "code",
   "execution_count": 20,
   "id": "44f8c3ca",
   "metadata": {},
   "outputs": [
    {
     "name": "stdout",
     "output_type": "stream",
     "text": [
      "range(0, 4)\n",
      "range(0, 4)\n",
      "[0, 1, 2, 3]\n",
      "[4, 3, 2, 1]\n"
     ]
    }
   ],
   "source": [
    "print(range(0, 4, 1))\n",
    "print(range(4))\n",
    "print(list(range(4)))\n",
    "print(list(range(4, 0, -1)))"
   ]
  },
  {
   "cell_type": "markdown",
   "id": "73ac8e2c",
   "metadata": {},
   "source": [
    "### 사전 Dictionaries\n",
    "\n",
    "Container의 각 원소에 tag를 붙여둔 자료형"
   ]
  },
  {
   "cell_type": "code",
   "execution_count": 21,
   "id": "d10fa94a",
   "metadata": {},
   "outputs": [
    {
     "name": "stdout",
     "output_type": "stream",
     "text": [
      "wise\n",
      "{'cat': 'wise', 'dog': 'loyal', 'ferret': 'brave'}\n",
      "None\n",
      "{'cat': 'wise', 'ferret': 'brave'}\n",
      "{'cat': 'wise'}\n"
     ]
    }
   ],
   "source": [
    "pets = {\"cat\": 'wise', \"dog\": 'loyal'}\n",
    "print(pets[\"cat\"])\n",
    "pets[\"ferret\"] = 'brave'\n",
    "print(pets)\n",
    "print(pets.get(\"hamster\"))\n",
    "del pets[\"dog\"]\n",
    "print(pets)\n",
    "pets.pop(\"ferret\")\n",
    "print(pets)"
   ]
  },
  {
   "cell_type": "code",
   "execution_count": 22,
   "id": "5cc70632",
   "metadata": {},
   "outputs": [
    {
     "name": "stdout",
     "output_type": "stream",
     "text": [
      "{'cat': 'wise', 'cameleon': 'docile'}\n"
     ]
    }
   ],
   "source": [
    "pets.update({'cameleon': 'docile'})\n",
    "print(pets)"
   ]
  },
  {
   "cell_type": "markdown",
   "id": "9d17e54d",
   "metadata": {},
   "source": [
    "Loop over dictionary"
   ]
  },
  {
   "cell_type": "code",
   "execution_count": 23,
   "id": "9bc4a422",
   "metadata": {},
   "outputs": [
    {
     "name": "stdout",
     "output_type": "stream",
     "text": [
      "Cat is wise.\n",
      "Cameleon is docile.\n",
      "\n",
      "Cat is wise.\n",
      "Cameleon is docile.\n"
     ]
    }
   ],
   "source": [
    "for pet in pets:\n",
    "    print(f'{pet.title()} is {pets[pet]}.')\n",
    "print()\n",
    "for pet, trait in pets.items():\n",
    "    print(f'{pet.title()} is {trait}.')"
   ]
  },
  {
   "cell_type": "markdown",
   "id": "0bf48533",
   "metadata": {},
   "source": [
    "원소의 수를 세는데 유용하다."
   ]
  },
  {
   "cell_type": "code",
   "execution_count": 24,
   "id": "541ec987",
   "metadata": {},
   "outputs": [
    {
     "name": "stdout",
     "output_type": "stream",
     "text": [
      "{'s': 7, 'u': 5, 'c': 5, 'e': 5, ' ': 15, 'i': 7, 'n': 6, 'o': 6, 't': 10, 'f': 3, 'a': 6, 'l': 3, ',': 1, 'r': 2, ':': 1, 'h': 2, 'g': 1, '.': 1}\n"
     ]
    }
   ],
   "source": [
    "Winston_Churchill = \"Success is not final, failure is not fatal: it is the courage to continue that counts.\"\n",
    "\n",
    "counts = {}\n",
    "for char in Winston_Churchill.lower():\n",
    "    counts[char] = counts.get(char, 0) + 1\n",
    "    \n",
    "print(counts)"
   ]
  },
  {
   "cell_type": "markdown",
   "id": "089fe166",
   "metadata": {},
   "source": [
    "Dictionary comprehension"
   ]
  },
  {
   "cell_type": "code",
   "execution_count": 25,
   "id": "2c272804",
   "metadata": {},
   "outputs": [
    {
     "data": {
      "text/plain": [
       "{0: 0, 1: 1, 2: 4}"
      ]
     },
     "execution_count": 25,
     "metadata": {},
     "output_type": "execute_result"
    }
   ],
   "source": [
    "{x: x**2 for x in range(3)}"
   ]
  },
  {
   "cell_type": "markdown",
   "id": "46172729",
   "metadata": {},
   "source": [
    "### 집합 set"
   ]
  },
  {
   "cell_type": "code",
   "execution_count": 26,
   "id": "0e559428",
   "metadata": {},
   "outputs": [
    {
     "name": "stdout",
     "output_type": "stream",
     "text": [
      "{'dog', 'cat', 'cameleon'}\n",
      "{'cat', 'cameleon'}\n",
      "{'ferret', 'cat', 'cameleon'}\n"
     ]
    }
   ],
   "source": [
    "pets = {\"cat\", \"dog\"}\n",
    "pets.add('cameleon')\n",
    "print(pets)\n",
    "pets.remove('dog')\n",
    "print(pets)\n",
    "pets.update({'cameleon', 'ferret'}) # or use union\n",
    "print(pets)"
   ]
  },
  {
   "cell_type": "markdown",
   "id": "789c7220",
   "metadata": {},
   "source": [
    "Loop and set comprehension\n",
    "\n",
    "Set은 interable로 loop에 사용할 수 있다. 다만 순서는 사전에 지정할 수 없다. Set comprehension 역시 다른 container와 비슷하게 사용할 수 있다."
   ]
  },
  {
   "cell_type": "code",
   "execution_count": 27,
   "id": "d9157c35",
   "metadata": {},
   "outputs": [
    {
     "name": "stdout",
     "output_type": "stream",
     "text": [
      "{'.', 'a', 's', 'u', 'h', 't', 'l', 'i', 'r', ':', 'o', ' ', ',', 'f', 'e', 'c', 'g', 'n'}\n"
     ]
    }
   ],
   "source": [
    "Winston_Churchill = \"Success is not final, failure is not fatal: it is the courage to continue that counts.\"\n",
    "\n",
    "print(set(Winston_Churchill.lower()))"
   ]
  },
  {
   "cell_type": "markdown",
   "id": "7cba098b",
   "metadata": {},
   "source": [
    "## input 과 output\n",
    "\n",
    "자료분석에서 입력과 출력은 자판과 화면, 혹은 파일을 읽고 쓰는 것으로 이루어진다."
   ]
  },
  {
   "cell_type": "markdown",
   "id": "226803cc",
   "metadata": {},
   "source": [
    "### 자판입력\n",
    "\n",
    "`input([prompt])`은 입력된 값은 문자열로 저장한다. 필요하면 유형을 바꿔 사용한다."
   ]
  },
  {
   "cell_type": "code",
   "execution_count": 28,
   "id": "42b145cb",
   "metadata": {},
   "outputs": [
    {
     "name": "stdout",
     "output_type": "stream",
     "text": [
      "나이를 입력하시오.16\n",
      "입력값의 유형:  <class 'str'>\n"
     ]
    }
   ],
   "source": [
    "age = input(\"나이를 입력하시오.\")\n",
    "print(\"입력값의 유형: \", type(age))"
   ]
  },
  {
   "cell_type": "markdown",
   "id": "1b99101e",
   "metadata": {},
   "source": [
    "### 화면 출력\n",
    "\n",
    "`print([*objects][, sep =' '][, end ='\\n'])`\n",
    "\n",
    "`print`는 argument를 화면에 출력한다.\n",
    "\n",
    "계산 결과를 정리하거나 format을 바꿀 때 사용할 수 있다."
   ]
  },
  {
   "cell_type": "code",
   "execution_count": 29,
   "id": "0cfd4af8",
   "metadata": {},
   "outputs": [
    {
     "name": "stdout",
     "output_type": "stream",
     "text": [
      "고양이 강아지\n",
      "고양이, 강아지\n",
      "\n",
      "고양이, 강아지\n"
     ]
    }
   ],
   "source": [
    "print(\"고양이\", \"강아지\")\n",
    "print(\"고양이\", \"강아지\", sep=\", \")\n",
    "print()\n",
    "print(\"고양이\", end=\", \")\n",
    "print(\"강아지\")"
   ]
  },
  {
   "cell_type": "markdown",
   "id": "08832ad9",
   "metadata": {},
   "source": [
    "### Format string\n",
    "\n",
    "\n",
    "1. Formatted String Literals (f-string format) <br>\n",
    "python 3.6 이후로는 f-String을 많이 사용한다.\n",
    "```\n",
    "code, credit = 110, 3\n",
    "f\"Econ{code:03d} ({credit:2.1f} Credits)\"\n",
    "```\n",
    "\n",
    "2. string format method, `str.format()` <br>\n",
    "%-format의 계량형으로 `% format`과 함께 기존 code에 자주 등장한다.\n",
    "```\n",
    "\"Econ{a:03d} ({b:2.1f} Credits)\".format(a=code, b=credit)\n",
    "```\n",
    "\n",
    "3. Old string formatting (%-format method) <br>\n",
    "python 초기에 사용하던 형식으로 기존 code에서도 쉽게 찾아 볼 수 있다.\n",
    "```\n",
    "\"Econ%03d (%2.1f Credits)\" % (code, credit)\n",
    "```\n",
    "\n",
    "\n",
    "\n"
   ]
  },
  {
   "cell_type": "code",
   "execution_count": 30,
   "id": "911ffcc0",
   "metadata": {},
   "outputs": [
    {
     "name": "stdout",
     "output_type": "stream",
     "text": [
      "그 소년의 나이는 10 \b살입니다.\n",
      "\n",
      "그 소년의 나이는 10살입니다.\n",
      "\n",
      "그 소년의 나이는 10살입니다.\n",
      "\n",
      "그 소년의 나이는 10살입니다.\n"
     ]
    }
   ],
   "source": [
    "age=10\n",
    "\n",
    "print(\"그 소년의 나이는\", str(age), \"\\b살입니다.\")\n",
    "print()\n",
    "print(\"그 소년의 나이는 %2d살입니다.\" % age)\n",
    "print()\n",
    "print(\"그 소년의 나이는 {}살입니다.\".format(age))\n",
    "print()\n",
    "print(f\"그 소년의 나이는 {age}살입니다.\")"
   ]
  },
  {
   "cell_type": "markdown",
   "id": "f49b9cec",
   "metadata": {},
   "source": [
    "\"Econ%(code)03d (%(credit)2.1f Credits)\" % {\"code\":110, \"credit\":3}"
   ]
  },
  {
   "cell_type": "markdown",
   "id": "856fb4fb",
   "metadata": {},
   "source": [
    "## Reading and writing files\n",
    "\n",
    "파일을 읽을 때나 결과물을 파일에 쓸때는 \n",
    "1. 파일을 열고  `file = open(filename, mode)`\n",
    "2. 파일의 내용을 한 줄씩 혹은 전체를 한번에 읽는다.  `file.read()`, `file.write()`\n",
    "3. 자원 절약을 위해 모든 작업을 마치면 파일을 닫는 것이 좋다. `file.closed()`"
   ]
  },
  {
   "cell_type": "markdown",
   "id": "90324227",
   "metadata": {},
   "source": [
    "### http로 file 읽어오기\n",
    "\n",
    "- urlib이나 requests를 주로 사용한다.\n",
    "\n",
    "```python\n",
    "import urllib\n",
    "file = urllib.request.urlopen(url)  \n",
    "url.read().decode(\"utf-8\")\n",
    "```\n",
    "\n",
    "- `requests.get()`은 `headers`나 `content` attribute으로 내용을 확인할 수 있다."
   ]
  },
  {
   "cell_type": "code",
   "execution_count": 31,
   "id": "c91d000b",
   "metadata": {},
   "outputs": [
    {
     "name": "stdout",
     "output_type": "stream",
     "text": [
      "\r\n",
      "한 잔의 술을 마시고\r\n",
      "\r\n",
      "우리는 버지니아 울프의 생애(生涯)와\r\n",
      "\r\n",
      "목마를 타고 떠난 숙녀의 옷자락을 이야기한다.\r\n",
      "\r\n",
      "목마는 주인을 버리고 거저 방울 소리만 울리며\r\n",
      "\r\n",
      "가을 속으로 떠났다. 술병에서 별이 떨어진다.\r\n",
      "\r\n",
      "상심(傷心)한 별은 내 가슴에 가벼웁게 \n"
     ]
    }
   ],
   "source": [
    "import requests\n",
    "\n",
    "url = \"https://raw.githubusercontent.com/k5yi/econ2005/master/datasets/a_wooden_horse_and_a_lady.txt\"\n",
    "poem = requests.get(url).content.decode('utf-8')\n",
    "\n",
    "print(poem[:150])"
   ]
  },
  {
   "cell_type": "markdown",
   "id": "ce28c4c5",
   "metadata": {
    "hideCode": true,
    "hideOutput": true
   },
   "source": [
    "- 줄 사이에 빈 칸은 `replace`나 regular expression으로 제거할 수 있다.\n",
    "- 줄바꿈에 사용하는 character는 Windows 에서 '\\r\\n', MacOS 에선 '\\r', linux에선 '\\n'이므로 확인하고 정리한다."
   ]
  },
  {
   "cell_type": "code",
   "execution_count": 32,
   "id": "f603b5e7",
   "metadata": {},
   "outputs": [
    {
     "data": {
      "text/plain": [
       "'\\r\\n한 잔의 술을 마시고\\r\\n\\r\\n우리는'"
      ]
     },
     "execution_count": 32,
     "metadata": {},
     "output_type": "execute_result"
    }
   ],
   "source": [
    "poem[:20]"
   ]
  },
  {
   "cell_type": "code",
   "execution_count": 33,
   "id": "b9ab95c9",
   "metadata": {},
   "outputs": [
    {
     "name": "stdout",
     "output_type": "stream",
     "text": [
      "\n",
      "한 잔의 술을 마시고\n",
      "우리는 버지니아 울프의 생애(生涯)와\n",
      "목마를 타고 떠난 숙녀의 옷자락을 이야기한다.\n",
      "목마는 주인을 버리고 거저 방울 소리만 울리며\n",
      "가을 속으로 떠났다. 술병에서 별이 떨어진다.\n",
      "상심(傷心)한 별은 내 가슴에 가벼웁게 부서진다.\n",
      "그러한 잠시 내가 알던 소녀는\n",
      "정원(庭園)의 초목 옆에서 자라고\n",
      "문학이 죽고 인생이 죽고\n",
      "사랑의 진리마저 애증(愛憎)의 그림자를 버릴 때\n",
      "목마를 탄 사랑의 사람은 보이지 않는다.\n",
      "세월은 가고 오는 것\n",
      "한때는 고립을 피하여 시들어 가고\n",
      "이제 우리는 작별하여야 한다.\n",
      "술병이 바람에 쓰러지는 소리를 들으며\n",
      "늙은 여류작가(女流作家)의 눈을 바라다보아야 한다.\n",
      "··· 등대(燈臺)에···\n",
      "불이 보이지 않아도\n",
      "그저 페시미즘의 미래를 위하여\n",
      "우리는 처량한 목마 소리를 기억하여야 한다.\n",
      "모든 것이 떠나든 죽든\n",
      "그저 가슴에 남은 희미한 의식(意識)을 붙잡고\n",
      "우리는 버지니아 울프의 서러운 이야기를 들어야 한다.\n",
      "두 개의 바위틈을 지나 청춘을 찾는 뱀과 같이\n",
      "눈을 뜨고 한 잔의 술을 마셔야 한다.\n",
      "인생은 외롭지도 않고\n",
      "그저 잡지의 표지처럼 통속(通俗)하거늘\n",
      "한탄할 그 무엇이 무서워서 우리는 떠나는 것일까.\n",
      "목마는 하늘에 있고\n",
      "방울 소리는 귓전에 철렁거리는데\n",
      "가을바람 소리는\n",
      "내 쓰러진 술병 속에서 목메어 우는데\n",
      "\n"
     ]
    }
   ],
   "source": [
    "import re\n",
    "\n",
    "poem = re.sub('[\\r\\n]+', '\\n', poem)\n",
    "print(poem)"
   ]
  },
  {
   "cell_type": "markdown",
   "id": "fd4cded3",
   "metadata": {},
   "source": [
    "- 앞에서 불러온 파일을 저장한 후 다시 읽어보자.\n",
    "\n",
    "### local drive의 file 쓰기\n",
    "\n",
    "```python\n",
    "with open('a_wooden_horse_and_a_lady.txt', 'w', encoding=\"utf-8\") as file:\n",
    "    file.write('박인환, 시작(詩作) 7호, 1955. 10.' )\n",
    "file.close()\n",
    "```\n",
    "\n",
    "- 위 code는 `a_wooden_horse_and_a_lady.txt` 파일을 새로 만들고 (기존에 같은 이름의 file이 있으면 덮어쓴다)\n",
    "문자열을 생성한 파일에 기록한다.\n",
    "\n",
    "\n",
    "- 기존 file에 추가하려면 option을 `a`로 지정한다."
   ]
  },
  {
   "cell_type": "code",
   "execution_count": 34,
   "id": "50a10f33",
   "metadata": {},
   "outputs": [],
   "source": [
    "file = open('a_wooden_horse_and_a_lady.txt', 'w', encoding=\"utf-8\")\n",
    "file.write(poem)\n",
    "file.close()"
   ]
  },
  {
   "cell_type": "markdown",
   "id": "8ddb331f",
   "metadata": {},
   "source": [
    "- 위 code에서 열어둔 file은 `.__exit__` 이 실행되지 않으면 계속 자원을 차지하게 된다.\n",
    "- 파일을 닫을 때에는 명시적으로 `close`를 사용할 수도 있고, `with` statement를 사용할 수 있다.\n",
    "\n",
    "```python\n",
    "with expression as variable:\n",
    "    code block\n",
    "```\n",
    "- expression을 실행한 후 `var.__enter__()` method 에 그 결과를 담고, <br>\n",
    "이후 code block의 실행여부에 관계없이 var에 할당된 자원을 회수한다.\n",
    "- 파일의 입출력 작업에서는 작업을 마친 후 파일을 닫아버리므로 파일 보호나 자원관리를 쉽게 해준다."
   ]
  },
  {
   "cell_type": "code",
   "execution_count": 35,
   "id": "a1fa10e4",
   "metadata": {},
   "outputs": [],
   "source": [
    "with open('a_wooden_horse_and_a_lady.txt', 'a', encoding=\"utf-8\") as file:\n",
    "    file.write('박인환, 목마와 숙녀, 시작(詩作) 7호, 1955. 10.' )\n",
    "file.close()"
   ]
  },
  {
   "cell_type": "markdown",
   "id": "051a90fe",
   "metadata": {},
   "source": [
    "### local drive의 file 읽기\n",
    "\n",
    "- 자료파일은 보통 pandas의 `pd.read_xxx(filename)`, `df.to_xxx(filename)`을 이용하여 읽고 저장한다.\n",
    "- Text 파일은 `open(filename)`로 generator로 변환한 뒤 바로 사용하거나\n",
    "- read, readlines, readline 을 이용하여 읽을 수 있다."
   ]
  },
  {
   "cell_type": "code",
   "execution_count": 6,
   "id": "a72bfb7e",
   "metadata": {},
   "outputs": [
    {
     "name": "stdout",
     "output_type": "stream",
     "text": [
      "\n",
      "한 잔의 술을 마시고\n",
      "우리는 버지니아 울프의 생애(生涯)와\n",
      "목마를 타고 떠난 숙녀의 옷자락을 이야기한다.\n"
     ]
    }
   ],
   "source": [
    "file = open('a_wooden_horse_and_a_lady.txt', 'r', encoding=\"utf-8\")\n",
    "\n",
    "n = 0\n",
    "for i in file:\n",
    "    print(i, end=\"\")\n",
    "    \n",
    "    n += 1\n",
    "    if n >= 4: break"
   ]
  },
  {
   "cell_type": "code",
   "execution_count": 4,
   "id": "af609daa",
   "metadata": {
    "scrolled": false
   },
   "outputs": [
    {
     "name": "stdout",
     "output_type": "stream",
     "text": [
      "\n",
      "한 잔의 술을 마시고\n",
      "우리는 버지니아 울프의 생애(生涯)와\n",
      "목마를 타고 떠난 숙녀의 옷자락을 이야기한다.\n"
     ]
    }
   ],
   "source": [
    "with open('a_wooden_horse_and_a_lady.txt', 'r', encoding=\"utf-8\") as file:\n",
    "    poem = file.read()\n",
    "    \n",
    "print(poem[:59])"
   ]
  },
  {
   "cell_type": "code",
   "execution_count": 38,
   "id": "3948ea12",
   "metadata": {},
   "outputs": [
    {
     "name": "stdout",
     "output_type": "stream",
     "text": [
      "['\\n', '한 잔의 술을 마시고\\n', '우리는 버지니아 울프의 생애(生涯)와\\n', '목마를 타고 떠난 숙녀의 옷자락을 이야기한다.\\n', '목마는 주인을 버리고 거저 방울 소리만 울리며\\n', '가을 속으로 떠났다. 술병에서 별이 떨어진다.\\n', '상심(傷心)한 별은 내 가슴에 가벼웁게 부서진다.\\n', '그러한 잠시 내가 알던 소녀는\\n', '정원(庭園)의 초목 옆에서 자라고\\n', '문학이 죽고 인생이 죽고\\n']\n"
     ]
    }
   ],
   "source": [
    "with open('a_wooden_horse_and_a_lady.txt', 'r', encoding=\"utf-8\") as file:\n",
    "    lines = file.readlines()\n",
    "    \n",
    "print(lines[:10])"
   ]
  },
  {
   "cell_type": "code",
   "execution_count": 39,
   "id": "8cb38a7e",
   "metadata": {},
   "outputs": [],
   "source": [
    "file = open('a_wooden_horse_and_a_lady.txt', 'r', encoding=\"utf-8\")"
   ]
  },
  {
   "cell_type": "code",
   "execution_count": 40,
   "id": "0762e6c3",
   "metadata": {},
   "outputs": [
    {
     "name": "stdout",
     "output_type": "stream",
     "text": [
      "\n",
      "\n"
     ]
    }
   ],
   "source": [
    "print(file.readline())"
   ]
  },
  {
   "cell_type": "markdown",
   "id": "2d56764e",
   "metadata": {},
   "source": [
    "## Function\n",
    "\n",
    "```python\n",
    "def functionname( arguments ):     # 함수이름과 입력할 변수를 지정\n",
    "\t\"\"\"function docstring\"\"\"       # 함수에 대한 설명\n",
    "\tfunction suite                 # 함수 정의에 필요한 모든 것들\n",
    "\treturn [expression]            # 선택 항목 \n",
    "```\n",
    "\n",
    "### positional argument vs. keyword argument\n",
    "\n",
    "- positional argument는 입력한 순서, keyword argument는 key값을 이용해 식별한다.\n",
    "- keyword argument는 positional argument 앞에 올 수 없다.\n",
    "- Default value는 함수의 keyword argument를 이용해서 지정한다.\n",
    "\n",
    "\n",
    "- python 3.8 부터는 `/`와 `*`를 이용하여 positional argument와 keyword argument를 명시적으로 지정하여 사용할 수 있다.\n",
    "- 다음 함수에서 a와 b는 positional-only, c와 d는 positional이나 keyword로 사용할 수 있고, e와 f는 keywords로 지정하여야 한다.\n",
    "\n",
    "```python\n",
    "def f(a, b, /, c, d, *, e, f):\n",
    "    print(a, b, c, d, e, f)\n",
    "```\n",
    "\n",
    "### argument의 수\n",
    "\n",
    "- positional argument의 수에 제한이 없다면 `*`로 표시한다.\n",
    "- keyword argument의 수에 제한이 없다면 `**`로 표시한다.\n",
    "\n",
    "\n",
    "### 일회용함수: lamda function, lambda expression\n",
    "\n",
    "- Argument가 함수이거나 조건식을 이용을 확인해야 하는 경우 사용한다.\n",
    "- 일반 함수와 동일한 기능을 하지만 lambda expression은 하나의 expression만 사용할 수 있다.\n",
    "- 일회용이므로 보통 이름을 지정하여 사용하지 않지만 때로는 일반 함수와 같이 사용하기도 한다.\n",
    "\n",
    "$$f\\mathrm{(argument) \\rightarrow (value, expression)}\\\\\n",
    "\\mathrm{lambda \\,(argument): (expression)}$$\n",
    "\n",
    "```python\n",
    "lambda x, y: x**2*y\n",
    "```"
   ]
  },
  {
   "cell_type": "markdown",
   "id": "fde3eac7",
   "metadata": {},
   "source": [
    "## Class\n",
    "\n",
    "Sklearn과 같은 package에선 변수에 특정한 attribute이나 method를 요구하는 경우가 있다.<br>\n",
    "이때는 새로운 class를 만들어 필요한 특성을 정의하거나 class를 상속받아 처리할 수 있다.<br>\n",
    "Class를 이용하여 자료의 처리과정을 간단히 정리하기도 한다.\n",
    "\n",
    "Class를 이용해 객체의 attributes와 methods를 지정한다."
   ]
  },
  {
   "cell_type": "code",
   "execution_count": 41,
   "id": "079ebcb0",
   "metadata": {},
   "outputs": [],
   "source": [
    "class team(dict):\n",
    "    \n",
    "    # constructor\n",
    "    def __init__(self, members):\n",
    "        self.members = members # create an instance\n",
    "        \n",
    "    # instance method\n",
    "    def __len__(self):\n",
    "        print(len(self.members))\n",
    "        \n",
    "    def starting_lineup(self, x):\n",
    "        return [(k, self.members[k]) for k in self.members.keys() if k in x]"
   ]
  },
  {
   "cell_type": "markdown",
   "id": "c66317bd",
   "metadata": {},
   "source": [
    "1. `self`는 attribute나 method를 정의할 때 default로 요구하는 argument\n",
    "다른 변수명을 사용할 수 있지만 대부분 self를 사용한다.\n",
    "2. `__init__`은 객체를 생성하며 argument를 이용하여 attribute을 정의할 수 있다.\n",
    "3. 이후 method를 정의할 때는 argument에 `self`를 반드시 포함시킨다."
   ]
  },
  {
   "cell_type": "code",
   "execution_count": 42,
   "id": "c2fb2ac2",
   "metadata": {},
   "outputs": [
    {
     "name": "stdout",
     "output_type": "stream",
     "text": [
      "roster:  {}\n",
      "member attribute:  {12: 'Dr. Q', 7: 'Sohn'}\n",
      "type of member instance:  <class 'dict'>\n",
      "starting_lineup method:  [(7, 'Sohn')]\n"
     ]
    }
   ],
   "source": [
    "members = {12: \"Dr. Q\", 7: \"Sohn\"}\n",
    "roster = team(members)\n",
    "print('roster: ', roster)\n",
    "print('member attribute: ', roster.members)\n",
    "print('type of member instance: ', type(roster.members))\n",
    "print('starting_lineup method: ', roster.starting_lineup([7]))"
   ]
  }
 ],
 "metadata": {
  "hide_input": false,
  "kernelspec": {
   "display_name": "Python 3 (ipykernel)",
   "language": "python",
   "name": "python3"
  },
  "language_info": {
   "codemirror_mode": {
    "name": "ipython",
    "version": 3
   },
   "file_extension": ".py",
   "mimetype": "text/x-python",
   "name": "python",
   "nbconvert_exporter": "python",
   "pygments_lexer": "ipython3",
   "version": "3.8.8"
  },
  "toc": {
   "base_numbering": 1,
   "nav_menu": {},
   "number_sections": true,
   "sideBar": true,
   "skip_h1_title": true,
   "title_cell": "Table of Contents",
   "title_sidebar": "Contents",
   "toc_cell": false,
   "toc_position": {},
   "toc_section_display": true,
   "toc_window_display": true
  }
 },
 "nbformat": 4,
 "nbformat_minor": 5
}
