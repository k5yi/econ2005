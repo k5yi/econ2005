{
 "cells": [
  {
   "cell_type": "markdown",
   "metadata": {},
   "source": [
    "<a href=\"https://colab.research.google.com/github/k5yi/econ2005/blob/master/notebooks/03Datetime.ipynb\">\n",
    "  <img src=\"https://img.shields.io/badge/%EC%84%9C%EA%B0%95%EA%B2%BD%EC%A0%9C-3%20datetime-crimson?labelColor=navy&logo=googlecolab&logoClolor=crimson\" align='left'/>\n",
    "</a> <br>\n",
    "\n",
    "# datetime\n",
    "\n",
    "- 시간 표시법은 상당히 복잡하고 비체계적으로 정의와 비교가 쉽지 않다.<br>\n",
    "- 시간은 24진수, 분과 초는 60진수, 그 이하 단위는 10진수를 사용한다.<br>\n",
    "- 12시간제(12 hour clock)를 사용하면서 오전/오후로 나누기도 하고 정오를 사용하는 경우도 있다.<br>\n",
    "- 1개월의 날짜 수는 달마다 다르고 1년의 정확한 길이는 정기적으로 조정된다.<br>\n",
    "- 여기에 time zone과 daylight saving까지 고려하면 시간 비교는 아주 골치아픈 문제가 된다.\n",
    "\n",
    "\n",
    "- 여기선 기본적인 구조와 pandas에서 사용할 datatime 관련 명령어를 살펴본다.\n",
    "\n",
    "[참고 블로그](https://spoqa.github.io/2019/02/15/python-timezone.html)"
   ]
  },
  {
   "cell_type": "markdown",
   "metadata": {},
   "source": [
    "## import datetime\n",
    "\n",
    "- `datetime`을 alias `dt`로 import하여 사용하는 경우가 많다.\n",
    "\n",
    "```python\n",
    "import datetime as dt\n",
    "```\n",
    "\n",
    "- 조심하면 별 문제는 없지만 dt를 시간변화량으로 사용하는 경우도 있고\n",
    "- `pandas.Series`의 속성으로 `pd.Series.dt.date`과 같이 자료 정리에 `dt`가 흔히 등장한다.\n",
    "\n",
    "\n",
    "- datetime에서 많이 사용하는 sub-module 중 `time`을 제외한 `datetime`, `tzinfo`, `timezone` 등은\n",
    "다른 함수나 속성들의 이름과 중복되는 일이 거의 없으므로 각 sub-module의 이름을 그대로 사용하는 것을 많이 볼 수 있다."
   ]
  },
  {
   "cell_type": "markdown",
   "metadata": {},
   "source": [
    "## datetime object의 생성\n",
    "\n",
    "- `datetime.date` object는 date(년월일),<br>\n",
    "- `datetime.time` object는 time(시분초, timezone)에 대한 정보를 포함하고 있으며,<br>\n",
    "- `datetime.datetime()`은 `datetime.date`와 `datetime.time`의 모든 attribute을 포함하고 있다.\n",
    "\n",
    "\n",
    "- datetime의 기본 format은 `년-월-일 시:분:초:백만분의 1초`이므로 순서대로 입력하여 생성한다."
   ]
  },
  {
   "cell_type": "code",
   "execution_count": 1,
   "metadata": {},
   "outputs": [
    {
     "name": "stdout",
     "output_type": "stream",
     "text": [
      "1443-12-30 00:00:00\n"
     ]
    }
   ],
   "source": [
    "from datetime import datetime, timedelta, tzinfo, timezone\n",
    "\n",
    "hangul_publish_day = datetime(1443, 12, 30)\n",
    "print(hangul_publish_day)"
   ]
  },
  {
   "cell_type": "markdown",
   "metadata": {},
   "source": [
    "### 현재 시각\n",
    "\n",
    "현재 시간 필요할 때는 `now`나 `today`를 사용한다."
   ]
  },
  {
   "cell_type": "code",
   "execution_count": 2,
   "metadata": {
    "scrolled": true
   },
   "outputs": [
    {
     "name": "stdout",
     "output_type": "stream",
     "text": [
      "2022-03-11 14:36:47.593095\n",
      "2022-03-11 14:36:47.594148\n"
     ]
    }
   ],
   "source": [
    "print(datetime.now()) # tz=pytz.timezone('Asia/Seoul')\n",
    "print(datetime.today())"
   ]
  },
  {
   "cell_type": "markdown",
   "metadata": {},
   "source": [
    "## attributes\n",
    "\n",
    "- 유럽방식은 일주일의 시작이 월요일, 미국은 일요일이다. 요일은 0-6으로 표시하며 0은 월요일에 해당한다.<br>\n",
    "- 날짜 역시 유럽은 DD/MM/YYYY, 미국은 MM/DD/YYYY로 사용한다. Python의 기본형식은 YYYY-MM-DD이다."
   ]
  },
  {
   "cell_type": "code",
   "execution_count": 3,
   "metadata": {},
   "outputs": [
    {
     "name": "stdout",
     "output_type": "stream",
     "text": [
      "date        : 1443-12-30 00:00:00\n",
      "year        : 1443\n",
      "month       : 12\n",
      "day         : 30\n",
      "weekday     : 5 \b, Saturday\n",
      "hour        : 0\n",
      "minute      : 0\n",
      "second      : 0\n",
      "microsecond : 0\n",
      "time zone   : None\n",
      "\n",
      "First day   : 0001-01-01 00:00:00\n",
      "Last day    : 9999-12-31 23:59:59.999999\n",
      "Resolution  : 0:00:00.000001\n"
     ]
    }
   ],
   "source": [
    "day_names = (\"Monday\",\"Tuesday\",\"Wednesday\",\"Thursday\",\"Friday\",\"Saturday\",\"Sunday\")\n",
    "weekdays = dict(zip(range(6), day_names))\n",
    "\n",
    "print(\"date        :\", hangul_publish_day)\n",
    "print(\"year        :\", hangul_publish_day.year)\n",
    "print(\"month       :\", hangul_publish_day.month)\n",
    "print(\"day         :\", hangul_publish_day.day)\n",
    "print(\"weekday     :\", hangul_publish_day.weekday(), \"\\b,\", weekdays[hangul_publish_day.weekday()])\n",
    "print(\"hour        :\", hangul_publish_day.hour)\n",
    "print(\"minute      :\", hangul_publish_day.minute)\n",
    "print(\"second      :\", hangul_publish_day.second)\n",
    "print(\"microsecond :\", hangul_publish_day.microsecond)\n",
    "print(\"time zone   :\", hangul_publish_day.tzinfo)\n",
    "print(\"\\nFirst day   :\", hangul_publish_day.min)\n",
    "print(\"Last day    :\", hangul_publish_day.max)\n",
    "print(\"Resolution  :\", hangul_publish_day.resolution)"
   ]
  },
  {
   "cell_type": "markdown",
   "metadata": {},
   "source": [
    "## Time interval\n",
    "\n",
    "- 시간에 대한 정보는 시(time)과 시간(interval, period)을 구분해야 한다.\n",
    "- Time zone의 offset과 시간 차이(time gap)는 기준의 변화이며, \n",
    "- 시간의 흐름은 `timedelta`로 계산한다.\n",
    "\n",
    "```python\n",
    "datetime.timedelta(days=0, seconds=0, microseconds=0, milliseconds=0, minutes=0, hours=0, weeks=0)\n",
    "```"
   ]
  },
  {
   "cell_type": "code",
   "execution_count": 4,
   "metadata": {},
   "outputs": [
    {
     "name": "stdout",
     "output_type": "stream",
     "text": [
      "War began on July 14, 1969 at 04:00 PM.\n",
      "War duration was 4 days.\n",
      "War ended on July 18, 1969."
     ]
    }
   ],
   "source": [
    "from datetime import timedelta\n",
    "\n",
    "first_attack_launched = datetime(1969,7,14,16)\n",
    "print(\"War began on\", first_attack_launched.strftime(\"%B %d, %Y\"),\n",
    "      \"at\", first_attack_launched.strftime(\"%I:00 %p\"), end=\".\\n\")\n",
    "\n",
    "football_war_duration = timedelta(hours=100)\n",
    "print(\"War duration was\", football_war_duration.days, end=\" days.\")\n",
    "\n",
    "end_war = first_attack_launched + football_war_duration\n",
    "print(\"\\nWar ended on\", end_war.strftime(\"%B %d, %Y\"), end=\".\")"
   ]
  },
  {
   "cell_type": "markdown",
   "metadata": {},
   "source": [
    "월과 년 단위 기간은 `dateutil.relativedelta.relativedelta`를 이용한다.<br>\n",
    "복수를 표시하는 `s`를 사용하지 않으면 `month=10`는 시월로 해석한다. 주의하자."
   ]
  },
  {
   "cell_type": "code",
   "execution_count": 5,
   "metadata": {},
   "outputs": [
    {
     "name": "stdout",
     "output_type": "stream",
     "text": [
      "1592-05-23 00:00:00\n"
     ]
    }
   ],
   "source": [
    "import dateutil\n",
    "print(hangul_publish_day + dateutil.relativedelta.relativedelta(years=148, months=5, days=-7, hours=0))"
   ]
  },
  {
   "cell_type": "markdown",
   "metadata": {},
   "source": [
    "가능한 연산은 다음과 같다.\n",
    "\n",
    "- `datetime2 = datetime1 + timedelta`\n",
    "- `datetime2 = datetime1 - timedelta`\n",
    "- `timedelta = datetime2 - datetime1`\n",
    "\n",
    "\n",
    "- `timedelta1 + timedelta2`\n",
    "- `timedelta1 - timedelta2`\n",
    "- `timedelta1 / timedelta2`\n",
    "- `timedelta1 % timedelta2`\n",
    "- `float * timedelta`"
   ]
  },
  {
   "cell_type": "markdown",
   "metadata": {},
   "source": [
    "## Timezone\n",
    "\n",
    "### Aware and Naive Objects\n",
    "\n",
    "- timezone 정보의 포함 여부로 offset-naive와 offset-aware datetime으로 구분한다.\n",
    " - offset-naive: timezone 정보가 `None`, 즉 정보가 없는 object\n",
    " - offset-aware: timezone 정보가 포함된 object\n",
    "\n",
    "```python\n",
    "offset_naive_datetime.tzinfo\n",
    "> None\n",
    "```\n",
    "\n",
    "- `datetime.datetime()`은 time zone에 대한 정보를 포함하지 않으므로 \n",
    "`datetime.datetime(tz)`와 구분하여 사용한다.\n",
    "- 두 형식은 서로 호완성이 없어 연산을 하려면 변환을 거쳐야 한다.\n",
    "\n",
    "```python\n",
    "offset_naive_datetime.replace(tzinfo=timezone(timedelta(hours=9)))\n",
    "offset_aware_datetime.replace(tzinfo=None)\n",
    "```\n",
    "\n",
    "- `replace`는 datatime object의 내용을 바꾸는데 사용하는 method이다.\n",
    "- 시간 자체를 변환하는 것이 아니라 속성만 바꾸므로 사용에 주의한다.\n",
    "\n",
    "```python\n",
    "KST = pytz.timezone('Asia/Seoul')\n",
    "assert KST.localize(datetime.now()) != datetime.now().replace(tzinfo=KST)\n",
    "```"
   ]
  },
  {
   "cell_type": "markdown",
   "metadata": {},
   "source": [
    "### datetime(tzinfo)를 이용하는 방법\n",
    "\n",
    "- timezone object를 생성하여 tzinfo 지정에 사용한다.\n",
    "- offset을 직접 지정하여 사용한다. offset은 timedelta 유형이다.\n",
    "\n",
    "\n",
    "- localized timezone은 명시적으로 지정해야 한다.\n",
    "- `datetime.timezone`은 fixed offset from the UTC 크기를 직접 지정한다."
   ]
  },
  {
   "cell_type": "code",
   "execution_count": 6,
   "metadata": {},
   "outputs": [
    {
     "name": "stdout",
     "output_type": "stream",
     "text": [
      "1945-08-15 12:00:00+09:00\n"
     ]
    }
   ],
   "source": [
    "kr = timedelta(hours=9)\n",
    "\n",
    "independence_day = datetime(1945,8,15,12,0,0,0, tzinfo = timezone(kr))\n",
    "\n",
    "print(independence_day)"
   ]
  },
  {
   "cell_type": "markdown",
   "metadata": {},
   "source": [
    "### pytz.timezone 을 이용하는 방법"
   ]
  },
  {
   "cell_type": "code",
   "execution_count": 7,
   "metadata": {},
   "outputs": [
    {
     "data": {
      "text/plain": [
       "'Asia/Seoul'"
      ]
     },
     "execution_count": 7,
     "metadata": {},
     "output_type": "execute_result"
    }
   ],
   "source": [
    "import pytz\n",
    "\n",
    "time_zones = pytz.all_timezones\n",
    "\n",
    "def name(subs):\n",
    "    country_name = list(filter(lambda x: subs.lower() in x.lower(), time_zones))\n",
    "    if subs in country_name: return subs\n",
    "    else: return \", \".join(country_name)\n",
    "    \n",
    "name('seoul')"
   ]
  },
  {
   "cell_type": "code",
   "execution_count": 8,
   "metadata": {},
   "outputs": [
    {
     "name": "stdout",
     "output_type": "stream",
     "text": [
      "1945-08-15 12:00:00+08:28\n"
     ]
    }
   ],
   "source": [
    "ko = pytz.timezone('Asia/Seoul')\n",
    "naive_aware_independence_day = datetime(1945,8,15,12,0,0,0, tzinfo = ko)\n",
    "\n",
    "print(naive_aware_independence_day)"
   ]
  },
  {
   "cell_type": "markdown",
   "metadata": {},
   "source": [
    "- 마지막 `+08:28`는 timezone offset 크기이며, pytz.timezone은 naive한 offset을 사용한다. (naive를 두가지 의미로.)\n",
    "  - 오래전 사용하던 offset으로 현재는 UTC+9:00을 사용한다."
   ]
  },
  {
   "cell_type": "code",
   "execution_count": 9,
   "metadata": {},
   "outputs": [
    {
     "name": "stdout",
     "output_type": "stream",
     "text": [
      "1945-08-15 12:00:00+09:00\n"
     ]
    }
   ],
   "source": [
    "local_independence_day = ko.localize(datetime(1945,8,15,12,0,0,0))\n",
    "\n",
    "print(local_independence_day)"
   ]
  },
  {
   "cell_type": "markdown",
   "metadata": {},
   "source": [
    "#### dateutil.tz를 이용한 방법"
   ]
  },
  {
   "cell_type": "code",
   "execution_count": 10,
   "metadata": {},
   "outputs": [],
   "source": [
    "import dateutil\n",
    "kor = dateutil.tz.gettz('Asia/Seoul')"
   ]
  },
  {
   "cell_type": "code",
   "execution_count": 11,
   "metadata": {},
   "outputs": [
    {
     "name": "stdout",
     "output_type": "stream",
     "text": [
      "1945-08-15 12:00:00+09:00\n"
     ]
    }
   ],
   "source": [
    "independence_day = datetime(1945,8,15,12,0,0,0, tzinfo=kor)\n",
    "print(independence_day)"
   ]
  },
  {
   "cell_type": "markdown",
   "metadata": {},
   "source": [
    "- 이 timezone은 dateutil에 일본 표준시로 등록이 되어 있다."
   ]
  },
  {
   "cell_type": "code",
   "execution_count": 12,
   "metadata": {},
   "outputs": [
    {
     "data": {
      "text/plain": [
       "'JST'"
      ]
     },
     "execution_count": 12,
     "metadata": {},
     "output_type": "execute_result"
    }
   ],
   "source": [
    "independence_day.tzname() #Japan Standard Time"
   ]
  },
  {
   "cell_type": "markdown",
   "metadata": {},
   "source": [
    "- dateutil.tz는 사용하는 operating system을 이용해 시간을 결정한다.<br>\n",
    "- 이에 반해 pytz는 자체 timezone file을 이용하므로 좀더 일관성이 있다."
   ]
  },
  {
   "cell_type": "markdown",
   "metadata": {},
   "source": [
    "### timezone 의 변환\n",
    "\n",
    "- 여러 시간대의 자료를 사용할 때는 시간대를 통일시켜 분석하기도 한다.\n",
    "- 모든 자료를 표준시간대로 변환한 후 지역 시간으로 변환하는 것이 편할 수 있다."
   ]
  },
  {
   "cell_type": "code",
   "execution_count": 13,
   "metadata": {},
   "outputs": [
    {
     "data": {
      "text/plain": [
       "datetime.datetime(1945, 8, 15, 12, 0, tzinfo=<DstTzInfo 'Asia/Seoul' JST+9:00:00 STD>)"
      ]
     },
     "execution_count": 13,
     "metadata": {},
     "output_type": "execute_result"
    }
   ],
   "source": [
    "#ko = pytz.timezone('Asia/Seoul')\n",
    "independence_day = datetime(1945,8,15,12,0,0,0)\n",
    "independence_day_local = ko.localize(independence_day)\n",
    "independence_day_local"
   ]
  },
  {
   "cell_type": "code",
   "execution_count": 14,
   "metadata": {},
   "outputs": [
    {
     "data": {
      "text/plain": [
       "datetime.datetime(1945, 8, 15, 3, 0, tzinfo=<UTC>)"
      ]
     },
     "execution_count": 14,
     "metadata": {},
     "output_type": "execute_result"
    }
   ],
   "source": [
    "independence_day_utc = independence_day_local.astimezone(pytz.utc)\n",
    "independence_day_utc"
   ]
  },
  {
   "cell_type": "code",
   "execution_count": 15,
   "metadata": {},
   "outputs": [
    {
     "data": {
      "text/plain": [
       "datetime.datetime(1945, 8, 15, 12, 0, tzinfo=<DstTzInfo 'Asia/Seoul' LMT+8:28:00 STD>)"
      ]
     },
     "execution_count": 15,
     "metadata": {},
     "output_type": "execute_result"
    }
   ],
   "source": [
    "independence_day_local.replace(tzinfo=ko)"
   ]
  },
  {
   "cell_type": "markdown",
   "metadata": {},
   "source": [
    "## time module\n",
    "\n",
    "Runtime을 구할 때는 `time` module을 많이 사용한다.<br>\n",
    "datetime을 사용해도 결과는 동일하다. 편한데로 사용하자."
   ]
  },
  {
   "cell_type": "code",
   "execution_count": 16,
   "metadata": {},
   "outputs": [
    {
     "data": {
      "text/plain": [
       "1.51"
      ]
     },
     "execution_count": 16,
     "metadata": {},
     "output_type": "execute_result"
    }
   ],
   "source": [
    "import time\n",
    "\n",
    "start = time.time()\n",
    "time.sleep(1.5)  # the execution is pause for 1.5 seconds\n",
    "end = time.time()\n",
    "round(end-start, 2)"
   ]
  },
  {
   "cell_type": "code",
   "execution_count": 17,
   "metadata": {},
   "outputs": [
    {
     "data": {
      "text/plain": [
       "1.51"
      ]
     },
     "execution_count": 17,
     "metadata": {},
     "output_type": "execute_result"
    }
   ],
   "source": [
    "start = datetime.now()\n",
    "time.sleep(1.5)\n",
    "end = datetime.now()\n",
    "round((end-start).total_seconds(),2)"
   ]
  },
  {
   "cell_type": "markdown",
   "metadata": {},
   "source": [
    "## 구문해석 parsing\n",
    "\n",
    "### dateutil module\n",
    "\n",
    "입력으로 string을 사용할 수도 있다. <br>\n",
    "자료를 정리할 때 유용하며 `dateutil`을 이용하면 형식을 자동으로 인식해 변환한다."
   ]
  },
  {
   "cell_type": "code",
   "execution_count": 18,
   "metadata": {},
   "outputs": [
    {
     "name": "stdout",
     "output_type": "stream",
     "text": [
      "2020-06-09 15:30:00\n",
      "2020-06-09 15:30:00-09:00\n",
      "2020-06-09 15:30:00-09:00\n",
      "2020-06-09 15:30:00\n"
     ]
    }
   ],
   "source": [
    "import dateutil\n",
    "\n",
    "print(dateutil.parser.parse('06/09/2020 15:30:00'))\n",
    "print(dateutil.parser.parse('06.09.2020, 15:30:00-09:00'))\n",
    "print(dateutil.parser.parse('Jun 09, 2020. 15:30:00-09:00'))\n",
    "print(dateutil.parser.parse('06/09/2020, 03h30 PM'))"
   ]
  },
  {
   "cell_type": "markdown",
   "metadata": {},
   "source": [
    "연도의 두 자리만 사용할 경우\n",
    "연월일의 순서는 `yearfirst`와 `dayfirst`로 구분한다.\n",
    "\n",
    "`yearfirst=True`인 경우 `dayfirst`은 YDM과 YMD를 구분한다."
   ]
  },
  {
   "cell_type": "code",
   "execution_count": 19,
   "metadata": {},
   "outputs": [
    {
     "data": {
      "text/plain": [
       "datetime.datetime(2020, 9, 6, 0, 0)"
      ]
     },
     "execution_count": 19,
     "metadata": {},
     "output_type": "execute_result"
    }
   ],
   "source": [
    "dateutil.parser.parse('06/09/2020', dayfirst=True)"
   ]
  },
  {
   "cell_type": "markdown",
   "metadata": {},
   "source": [
    "### sub-modules of datetime\n",
    "\n",
    "datetime의 기본 format과 다른 형식으로 정리된 시간을 읽거나 출력해야 하는 경우에는<br>\n",
    "`datetime.strptime()`과 `datetime.strftime()`\n",
    "\n",
    "\n",
    "표현에 대한 거의 완벽한 통제가 가능하다.<br>\n",
    "표준화된 [format code](https://docs.python.org/3/library/datetime.html#strftime-and-strptime-format-codes) 참조\n",
    "\n",
    "\n",
    "**str**ing **p**arse **time**과 **str**ing **f**ormat(from) **time**으로 기억하자."
   ]
  },
  {
   "cell_type": "markdown",
   "metadata": {},
   "source": [
    "#### parsing strings - strptime(), string parse time\n",
    "\n",
    "- 자료를 정리하다보면 특히 날짜의 경우에 여러가지 형식으로 입력을 한다. <br> (한국 통계 사이트에서 내려받은 자료들은 숫자들도 string으로 입력되어 있는 경우도 흔하게 볼 수 있다.)\n",
    "\n",
    "\n",
    "- `dateutil.parser.parse`는 사용이 간편하지만 string의 형태가 특이하거나 정확한 변환이 필요할 때는 strptime을 사용한다."
   ]
  },
  {
   "cell_type": "code",
   "execution_count": 20,
   "metadata": {},
   "outputs": [
    {
     "data": {
      "text/plain": [
       "datetime.datetime(2017, 3, 1, 22, 3)"
      ]
     },
     "execution_count": 20,
     "metadata": {},
     "output_type": "execute_result"
    }
   ],
   "source": [
    "# string parse time\n",
    "datetime.strptime('03/01/17, 10h03 PM', '%m/%d/%y, %Ih%M %p')"
   ]
  },
  {
   "cell_type": "code",
   "execution_count": 21,
   "metadata": {},
   "outputs": [
    {
     "name": "stdout",
     "output_type": "stream",
     "text": [
      "1982-11-22 00:00:00\n",
      "1900-02-09 00:00:00\n"
     ]
    }
   ],
   "source": [
    "a = datetime.strptime(\"82/11/22\", '%y/%m/%d')\n",
    "b = datetime.strptime(\"09-Feb\", '%d-%b')\n",
    "print(a)\n",
    "print(b)"
   ]
  },
  {
   "cell_type": "markdown",
   "metadata": {},
   "source": [
    "- strptime은 연월일시분을 출력한다. 만일 정보가 없으면 연은 1900, 월과 일은 1, 시간과 분은 0을 default 값으로 사용한다."
   ]
  },
  {
   "cell_type": "code",
   "execution_count": 22,
   "metadata": {},
   "outputs": [
    {
     "data": {
      "text/plain": [
       "datetime.datetime(2022, 2, 9, 0, 0)"
      ]
     },
     "execution_count": 22,
     "metadata": {},
     "output_type": "execute_result"
    }
   ],
   "source": [
    "datetime.strptime(\"09-Feb\", '%d-%b').replace(year=2022)"
   ]
  },
  {
   "cell_type": "markdown",
   "metadata": {},
   "source": [
    "#### customize string format - strftime(), string format time\n",
    "\n",
    "- datetime format에서 시간에 대한 정보를 원하는 형식의 문자열로 만들 수 있다.\n",
    "\n",
    "\n",
    "- 출력 방법은 [format code](https://docs.python.org/3/library/datetime.html#strftime-and-strptime-format-codes)를 참고하자."
   ]
  },
  {
   "cell_type": "code",
   "execution_count": 23,
   "metadata": {},
   "outputs": [
    {
     "data": {
      "text/plain": [
       "'It is Wednesday, the 15th of August in 1945.'"
      ]
     },
     "execution_count": 23,
     "metadata": {},
     "output_type": "execute_result"
    }
   ],
   "source": [
    "# string from time\n",
    "datetime.strftime(independence_day, 'It is %A, the %dth of %B in %Y.')"
   ]
  },
  {
   "cell_type": "code",
   "execution_count": 24,
   "metadata": {},
   "outputs": [
    {
     "name": "stdout",
     "output_type": "stream",
     "text": [
      "American style : 08/15/1945\n",
      "European style : 15/Aug/1945\n"
     ]
    }
   ],
   "source": [
    "print(\"American style :\", independence_day.strftime(\"%m/%d/%Y\"))\n",
    "print(\"European style :\", independence_day.strftime(\"%d/%b/%Y\"))"
   ]
  },
  {
   "cell_type": "code",
   "execution_count": 25,
   "metadata": {},
   "outputs": [
    {
     "name": "stdout",
     "output_type": "stream",
     "text": [
      "British style  : Wednesday, the 15th of August, 1945\n"
     ]
    }
   ],
   "source": [
    "format_list = [independence_day.strftime(i) for i in [\"%A\", \"%d\", \"%B\", \"%Y\"]]\n",
    "print(\"British style  : {:}, the {:}th of {:}, {:}\".format(*format_list))"
   ]
  },
  {
   "cell_type": "code",
   "execution_count": 26,
   "metadata": {},
   "outputs": [
    {
     "name": "stdout",
     "output_type": "stream",
     "text": [
      "month and date : November 22, February 09\n"
     ]
    }
   ],
   "source": [
    "print(\"month and date :\", a.strftime(\"%B %d\")+\",\", b.strftime(\"%B %d\"))"
   ]
  },
  {
   "cell_type": "markdown",
   "metadata": {},
   "source": [
    "## ISO 8601 format\n",
    "\n",
    "- ISO week date system은 복잡한 Gregorian calendar 체계를 윤주(leap week)로 정리한 것으로<br>\n",
    "- Gregorian 달력에서 매년 첫 번째 목요일이 포함된 주를 그 해의 시작 주로 정하고<br>\n",
    "- 온전한 52주 혹은 53주가 1년이 되며 모든 해는 월요일에서 시작해 일요일로 마친다."
   ]
  },
  {
   "cell_type": "code",
   "execution_count": 27,
   "metadata": {},
   "outputs": [
    {
     "name": "stdout",
     "output_type": "stream",
     "text": [
      "2\n",
      "3\n"
     ]
    }
   ],
   "source": [
    "print(independence_day.weekday())     # Wednesday (Monday is 0)\n",
    "print(independence_day.isoweekday())  # Wednesday (Monday is 1)"
   ]
  },
  {
   "cell_type": "markdown",
   "metadata": {},
   "source": [
    "- ISO format은 week date system과는 무관하게 Gregorian 달력의 날짜를 표시하는 방법으로<br>\n",
    "- 날짜와 시간을 T로 분리하며 timezone offset을 포함한다.\n",
    "\n",
    "<center> YYYY-MM-DD T HH:MM:SS+HH:MM </center> \n",
    "\n",
    "\n",
    "- ISO calendar는 1년은 W1-W52, 혹은 W1-W53으로 표시하므로 날짜는 년,주,요일로 표시한다.\n",
    "- year, week of the year, day of the week "
   ]
  },
  {
   "cell_type": "code",
   "execution_count": 28,
   "metadata": {},
   "outputs": [
    {
     "name": "stdout",
     "output_type": "stream",
     "text": [
      "1945-08-15T12:00:00\n",
      "(1945, 33, 3)\n"
     ]
    }
   ],
   "source": [
    "print(independence_day.isoformat())\n",
    "print(independence_day.isocalendar())"
   ]
  },
  {
   "cell_type": "markdown",
   "metadata": {},
   "source": [
    "2010년 1월 2일은 iso calendar의 2009년 마지막 주 토요일에 해당한다."
   ]
  },
  {
   "cell_type": "code",
   "execution_count": 29,
   "metadata": {},
   "outputs": [
    {
     "name": "stdout",
     "output_type": "stream",
     "text": [
      "2010-01-02 00:00:00\n",
      "(2009, 53, 6)\n"
     ]
    }
   ],
   "source": [
    "print(datetime(2010,1,2))\n",
    "print(datetime(2010,1,2).isocalendar())"
   ]
  },
  {
   "cell_type": "markdown",
   "metadata": {},
   "source": [
    "## Epoch time\n",
    "\n",
    "- Unix가 표준으로 자리잡은 시점인 1970년 1월 1일 00:00:00 (UTC)을 기준으로 경과시간을 초단위로 측정하는\n",
    "- 날짜 체계 말미에 소개했던 `time` module이다.\n",
    "\n",
    "경과시간을 `timestamp`라고 부르며, 사용은 1901년에서 2038년까지로 제한한다.\n",
    "\n",
    "<img src=\"https://upload.wikimedia.org/wikipedia/commons/e/e9/Year_2038_problem.gif\" alt=\"Year 2038 problem.gif\">\n",
    "\n",
    "- UTC(Coordinated Universal Time)는 Unix 표준시간으로 time zone의 기준인 GMT(Greenwich Mean Time)와 동일한 값이다."
   ]
  },
  {
   "cell_type": "code",
   "execution_count": 30,
   "metadata": {},
   "outputs": [
    {
     "name": "stdout",
     "output_type": "stream",
     "text": [
      "1646977011.4988525\n",
      "Fri Mar 11 14:36:51 2022\n",
      "time.struct_time(tm_year=2022, tm_mon=3, tm_mday=11, tm_hour=14, tm_min=36, tm_sec=51, tm_wday=4, tm_yday=70, tm_isdst=0)\n",
      "time.struct_time(tm_year=2022, tm_mon=3, tm_mday=11, tm_hour=5, tm_min=36, tm_sec=51, tm_wday=4, tm_yday=70, tm_isdst=0)\n"
     ]
    }
   ],
   "source": [
    "import time\n",
    "\n",
    "print(time.time())         # seconds passed since epoch\n",
    "print(time.ctime())        # local time\n",
    "print(time.localtime())    # local time in struct_time\n",
    "print(time.gmtime())       # UTC/GMT in struct_time"
   ]
  },
  {
   "cell_type": "markdown",
   "metadata": {},
   "source": [
    "- 요일은 0 (Monday)부터 시작하고 `dst`가 분명하지 않을 때는 `tm_isdst=-1`이 된다."
   ]
  },
  {
   "cell_type": "markdown",
   "metadata": {},
   "source": [
    "`datatime`, `timestamp`,`struct_time` 객체는 서로 호완히 된다.\n",
    "\n",
    "from timestamp to datetime: `datetime.fromtimestamp(timestamp)`, `datetime.utcfromtimestamp(timestamp)`<br>\n",
    "from timestamp to struct_time:  `time.localtime(timestamp)`, `time.gmtime(timestamp)`<br>\n",
    "from struct_time to timestamp: `time.mktime(struct)` <br>\n",
    "from struct_time to datetime: `datetime(*time_tuple[0:6])`, `datetime.fromtimestamp(mktime(struct))` <br>\n",
    "from datetime to timestamp: `DATETIME.timestamp()` <br>\n",
    "from datetime to struct_time: `DATETIME.timetuple()` <br>"
   ]
  },
  {
   "cell_type": "code",
   "execution_count": 31,
   "metadata": {},
   "outputs": [
    {
     "data": {
      "text/plain": [
       "time.struct_time(tm_year=2022, tm_mon=3, tm_mday=11, tm_hour=14, tm_min=36, tm_sec=51, tm_wday=4, tm_yday=70, tm_isdst=-1)"
      ]
     },
     "execution_count": 31,
     "metadata": {},
     "output_type": "execute_result"
    }
   ],
   "source": [
    "datetime.now().timetuple()"
   ]
  },
  {
   "cell_type": "code",
   "execution_count": 32,
   "metadata": {},
   "outputs": [
    {
     "data": {
      "text/plain": [
       "datetime.datetime(2022, 3, 11, 14, 36, 51, 530768)"
      ]
     },
     "execution_count": 32,
     "metadata": {},
     "output_type": "execute_result"
    }
   ],
   "source": [
    "timestamp = time.time()\n",
    "datetime.fromtimestamp(timestamp)"
   ]
  },
  {
   "cell_type": "code",
   "execution_count": 33,
   "metadata": {},
   "outputs": [
    {
     "name": "stdout",
     "output_type": "stream",
     "text": [
      "time.struct_time(tm_year=2020, tm_mon=9, tm_mday=6, tm_hour=0, tm_min=0, tm_sec=0, tm_wday=6, tm_yday=250, tm_isdst=-1)\n",
      "1599318000.0\n"
     ]
    }
   ],
   "source": [
    "t = time.strptime('09/06/2020', '%m/%d/%Y')  # localtime\n",
    "\n",
    "print(t)\n",
    "print(time.mktime(t))   # to convert a struct_time in seconds"
   ]
  },
  {
   "cell_type": "markdown",
   "metadata": {},
   "source": [
    "## Proleptic Gregorian ordinal\n",
    "\n",
    "- `.toordinal()` 와 `.fromordinal()` methods 는 0001.01.00를 시작으로 일 단위로 시간을 계산한다.\n",
    "- `.timestamp()`과 마찬가지로 날짜를 정수로 표시한다."
   ]
  },
  {
   "cell_type": "code",
   "execution_count": 34,
   "metadata": {},
   "outputs": [
    {
     "name": "stdout",
     "output_type": "stream",
     "text": [
      "number of days from Anno Domini : 738225\n",
      "143572 days after Anno Domini   : 0394-02-01 00:00:00\n",
      "143572 seconds after Epoch      : 1970-01-03 00:52:52\n"
     ]
    }
   ],
   "source": [
    "print(\"number of days from Anno Domini :\", datetime.today().toordinal())\n",
    "print(\"143572 days after Anno Domini   :\", datetime.fromordinal(143572))\n",
    "print(\"143572 seconds after Epoch      :\", datetime.fromtimestamp(143572, tz=None))"
   ]
  },
  {
   "cell_type": "markdown",
   "metadata": {},
   "source": [
    "## Numpy\n",
    "\n",
    "- Numpy는 자체 date system인 [Numpy datetime](https://numpy.org/doc/stable/reference/arrays.datetime.html)를 사용하기 떄문에 \n",
    "Numpy array로 변환한 날짜자료의 연산을 하려면 구조를 이해하고 있어야 한다.\n",
    "- 하지만 시간과 관련된 자표를 변환할 때는 Pandas가 편리하다.\n",
    "\n",
    "\n",
    "- ISO format을 사용하며, 함수 말미의 64는 datetime의 sub-module과 혼동을 피하기 위해 사용한다.\n",
    "\n",
    "```python\n",
    "np.datetime64\n",
    "np.timedelta64\n",
    "```"
   ]
  },
  {
   "cell_type": "code",
   "execution_count": 35,
   "metadata": {},
   "outputs": [
    {
     "name": "stdout",
     "output_type": "stream",
     "text": [
      "2005-02-25T03:30\n",
      "2009-01-21\n"
     ]
    }
   ],
   "source": [
    "import numpy as np\n",
    "\n",
    "print(np.datetime64('2005-02-25T03:30'))\n",
    "print(np.datetime64('2009') + np.timedelta64(20, 'D'))"
   ]
  },
  {
   "cell_type": "markdown",
   "metadata": {},
   "source": [
    "| code | meaning |\n",
    "|----|----|\n",
    "| Y |  year |\n",
    "| M | month |\n",
    "| W | week |\n",
    "| D | day |\n",
    "| h | hour |\n",
    "| m | minute |\n",
    "| s | second |\n",
    "| ms | millisecond |"
   ]
  },
  {
   "cell_type": "markdown",
   "metadata": {},
   "source": [
    "Conversion\n",
    "\n",
    "> This convention is also used to define coarser types of date. So datetime64 [D] is a date to the day and datetime64 [m] to the minute. This is used when defining a dtype in Numpy (to round a date or to have a set of homogeneous dates by examples)."
   ]
  },
  {
   "cell_type": "code",
   "execution_count": 36,
   "metadata": {},
   "outputs": [
    {
     "name": "stdout",
     "output_type": "stream",
     "text": [
      "2022-03-11T14:36:51.736878\n",
      "2022-03-11\n"
     ]
    }
   ],
   "source": [
    "now = np.datetime64(datetime.now())\n",
    "print(now) \n",
    "today = now.astype('datetime64[D]')\n",
    "print(today)"
   ]
  },
  {
   "cell_type": "markdown",
   "metadata": {},
   "source": [
    "- Numpy로 '영업일'을 계산할 수 있지만 단순히 토요일과 일요일을 제외한 것으로 각 국가별 공휴일 정보는 [holidays](https://pypi.org/project/holidays/)를 이용한다. 정확히 말하면 'weekdays'를 계산하는 함수이다.\n",
    "- 아직 한국 공휴일에 대한 정보는 정리되어 있지 않다."
   ]
  },
  {
   "cell_type": "code",
   "execution_count": 37,
   "metadata": {},
   "outputs": [
    {
     "data": {
      "text/plain": [
       "572"
      ]
     },
     "execution_count": 37,
     "metadata": {},
     "output_type": "execute_result"
    }
   ],
   "source": [
    "np.busday_count(np.datetime64('2020'), today)"
   ]
  },
  {
   "cell_type": "markdown",
   "metadata": {},
   "source": [
    "## Pandas\n",
    "\n",
    "[Pandas](https://pandas.pydata.org/docs/user_guide/timeseries.html)의 시간 관련 명령어들은 Pandas에서 다룬다.\n",
    "\n",
    "```pandas\n",
    "pd.to_datetime\n",
    "pd.DatetimeIndex\n",
    "pd.timedelta_range\n",
    "```"
   ]
  }
 ],
 "metadata": {
  "hide_input": false,
  "kernelspec": {
   "display_name": "Python 3 (ipykernel)",
   "language": "python",
   "name": "python3"
  },
  "language_info": {
   "codemirror_mode": {
    "name": "ipython",
    "version": 3
   },
   "file_extension": ".py",
   "mimetype": "text/x-python",
   "name": "python",
   "nbconvert_exporter": "python",
   "pygments_lexer": "ipython3",
   "version": "3.8.8"
  },
  "toc": {
   "base_numbering": 1,
   "nav_menu": {},
   "number_sections": true,
   "sideBar": true,
   "skip_h1_title": true,
   "title_cell": "Table of Contents",
   "title_sidebar": "Contents",
   "toc_cell": false,
   "toc_position": {},
   "toc_section_display": true,
   "toc_window_display": true
  }
 },
 "nbformat": 4,
 "nbformat_minor": 4
}
