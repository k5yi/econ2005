{
 "cells": [
  {
   "cell_type": "code",
   "execution_count": 1,
   "metadata": {
    "hideCode": false,
    "hidePrompt": false,
    "slideshow": {
     "slide_type": "slide"
    }
   },
   "outputs": [],
   "source": [
    "import numpy as np\n",
    "import pandas as pd\n",
    "import matplotlib.pyplot as plt\n",
    "\n",
    "import dateutil"
   ]
  },
  {
   "cell_type": "code",
   "execution_count": 3,
   "metadata": {},
   "outputs": [
    {
     "data": {
      "text/plain": [
       "[<matplotlib.lines.Line2D at 0x26df8631a00>]"
      ]
     },
     "execution_count": 3,
     "metadata": {},
     "output_type": "execute_result"
    },
    {
     "data": {
      "image/png": "[encoded data removed]",
      "text/plain": [
       "<Figure size 432x288 with 1 Axes>"
      ]
     },
     "metadata": {
      "needs_background": "light"
     },
     "output_type": "display_data"
    }
   ],
   "source": [
    "plt.plot(np.arange(10))\n",
    "plt.plot(np.arange(10)+1)"
   ]
  },
  {
   "cell_type": "markdown",
   "metadata": {
    "hideCode": false,
    "hidePrompt": false,
    "slideshow": {
     "slide_type": "slide"
    }
   },
   "source": [
    "<a href=\"https://colab.research.google.com/github/k5yi/econ2005/blob/master/notebooks/05Pandas.ipynb\">\n",
    "  <img src=\"https://img.shields.io/badge/%EC%84%9C%EA%B0%95%EA%B2%BD%EC%A0%9C-5%20Pandas-crimson?labelColor=navy&logo=googlecolab&logoClolor=crimson\" align='left'/>\n",
    "</a> <br>\n",
    "\n",
    "# Pandas - PANel DAta \n",
    "\n",
    "- Pandas는 numpy의 확장형으로 \n",
    "  - 다양한 자료형태를 동시에 사용할 수 있으며\n",
    "  - 각 관찰값에 순서나 변수명 등의 index를 부여하여 사용할 수 있다.\n",
    "\n",
    "\n",
    "- Pandas는 관찰값의 고유의 label을 유지하면서 수행하는 조작과 분석에 특화되어 있으며,\n",
    "- 기본자료 유형들은 Numpy array에 표본의 이름과 feature의 이름을 부여한 것이다.\n",
    "\n",
    "\n",
    "- Pandas 를 이용한 분석에는 numpy 관련 명령어를 자주 사용한다. <br> \n",
    "- Scipy 와 Matplotlib 도 pandas와 같이 많이 사용하는 package들이다.\n",
    "- Numpy는 함수 위주로, Pandas는 거의 전적으로 method로 적용한다.\n",
    "\n",
    "\n",
    "- Pandas의 기본 자료유형은 다음과 같다.\n",
    " - pd.Series: 1차원 자료\n",
    " - pd.DataFrame: 2차원 자료\n",
    " - pd.Index, pd.MultiIndex\n"
   ]
  },
  {
   "cell_type": "code",
   "execution_count": 2,
   "metadata": {
    "hideCode": false,
    "hidePrompt": false,
    "slideshow": {
     "slide_type": "fragment"
    }
   },
   "outputs": [
    {
     "data": {
      "text/plain": [
       "'1.2.4'"
      ]
     },
     "execution_count": 2,
     "metadata": {},
     "output_type": "execute_result"
    }
   ],
   "source": [
    "pd.__version__"
   ]
  },
  {
   "cell_type": "markdown",
   "metadata": {
    "hideCode": false,
    "hidePrompt": false,
    "slideshow": {
     "slide_type": "slide"
    }
   },
   "source": [
    "## Series\n",
    "\n",
    "- pd.Series는 shape 이 $(n,2)$인 `array`, 즉 두 개의 단일 `array`로 이루어져 있다. \n",
    "- 하나는 index 혹은 label의 역할을 하며, 다른 하나는 자료 저장에 사용된다.\n",
    "\n",
    "\n",
    "### Series의 생성\n",
    "\n",
    "```python\n",
    "pd.Series(data=None, index=None, dtype=None, name=None, copy=False, fastpath=False)\n",
    "```\n",
    "\n",
    "\n",
    "- 자료 유형이 `dict`인 경우 keys를 index로 한 `pd.Series`를 생성한다.\n",
    "- ndarray의 attributes를 갖고 있으며, 이외에 다양한 [attributes와 method](https://pandas.pydata.org/pandas-docs/stable/reference/api/pandas.Series.html)를 지원한다."
   ]
  },
  {
   "cell_type": "code",
   "execution_count": 3,
   "metadata": {
    "hideCode": false,
    "hidePrompt": false,
    "slideshow": {
     "slide_type": "slide"
    }
   },
   "outputs": [
    {
     "data": {
      "text/plain": [
       "0    1.0\n",
       "1      2\n",
       "dtype: object"
      ]
     },
     "execution_count": 3,
     "metadata": {},
     "output_type": "execute_result"
    }
   ],
   "source": [
    "pd.Series(data=[1.,2], dtype=\"str\")"
   ]
  },
  {
   "cell_type": "code",
   "execution_count": 4,
   "metadata": {
    "hideCode": false,
    "hidePrompt": false,
    "slideshow": {
     "slide_type": "slide"
    }
   },
   "outputs": [
    {
     "name": "stdout",
     "output_type": "stream",
     "text": [
      "0     a\n",
      "2     b\n",
      "4     c\n",
      "6     d\n",
      "8     e\n",
      "10    f\n",
      "12    g\n",
      "14    h\n",
      "16    i\n",
      "18    j\n",
      "Name: SeRiEs, dtype: object\n"
     ]
    }
   ],
   "source": [
    "data = list(\"abcdefghij\")\n",
    "index = range(0,20,2)\n",
    "s = pd.Series(data, index, name = \"SeRiEs\")\n",
    "print(s)"
   ]
  },
  {
   "cell_type": "code",
   "execution_count": 5,
   "metadata": {
    "hideCode": false,
    "hidePrompt": false
   },
   "outputs": [
    {
     "name": "stdout",
     "output_type": "stream",
     "text": [
      "Korea    Seoul\n",
      "Japan    Tokyo\n",
      "dtype: object\n"
     ]
    }
   ],
   "source": [
    "captital = pd.Series({'Korea':\"Seoul\", \"Japan\": \"Tokyo\"})\n",
    "print(captital)"
   ]
  },
  {
   "cell_type": "code",
   "execution_count": 6,
   "metadata": {
    "hideCode": false,
    "hidePrompt": false,
    "slideshow": {
     "slide_type": "slide"
    }
   },
   "outputs": [
    {
     "name": "stdout",
     "output_type": "stream",
     "text": [
      "{'a': 0, 'b': 1}\n",
      "\n",
      "a    0\n",
      "b    1\n",
      "dtype: int64\n"
     ]
    }
   ],
   "source": [
    "d = dict(zip(data,range(len(data)-8)))\n",
    "print(d)\n",
    "print()\n",
    "print(pd.Series(d))"
   ]
  },
  {
   "cell_type": "markdown",
   "metadata": {
    "hideCode": false,
    "hidePrompt": false,
    "slideshow": {
     "slide_type": "slide"
    }
   },
   "source": [
    "### Series의 속성 attributes\n",
    "\n",
    "`Series`는 Series의 이름인 name (string), 색인인 index (index), 자료값인 values (array)로 구성된다. <br>\n",
    "\n",
    "`name`을 지정하면 Series를 DataFrame으로 바꿀 때 column 이름이 된다."
   ]
  },
  {
   "cell_type": "code",
   "execution_count": 7,
   "metadata": {
    "hideCode": false,
    "hidePrompt": false,
    "slideshow": {
     "slide_type": "slide"
    }
   },
   "outputs": [
    {
     "name": "stdout",
     "output_type": "stream",
     "text": [
      "SeRiEs\n",
      "RangeIndex(start=0, stop=20, step=2)\n",
      "['a' 'b' 'c' 'd' 'e' 'f' 'g' 'h' 'i' 'j']\n"
     ]
    }
   ],
   "source": [
    "print(s.name)\n",
    "print(s.index)\n",
    "print(s.values)"
   ]
  },
  {
   "cell_type": "markdown",
   "metadata": {
    "hideCode": false,
    "hidePrompt": false
   },
   "source": [
    "### Series의 method\n",
    "\n",
    "\n",
    "#### 기초통계량\n",
    "\n",
    "도수분포표 - 계급구간(계급값) : 빈도수\n",
    "극대값, 극소값, 평균, 표준편차, 분산\n",
    "\n",
    "```python\n",
    "s.head()\n",
    "s.tail()\n",
    "s.value_counts()\n",
    "s.max()\n",
    "s.min()\n",
    "s.mean()\n",
    "s.std()\n",
    "s.var()\n",
    "s.cumsum()\n",
    "s.unique()\n",
    "s.nunique()\n",
    "```"
   ]
  },
  {
   "cell_type": "code",
   "execution_count": 8,
   "metadata": {
    "hideCode": false,
    "hidePrompt": false,
    "slideshow": {
     "slide_type": "slide"
    }
   },
   "outputs": [
    {
     "name": "stdout",
     "output_type": "stream",
     "text": [
      "[1 1 2 3 3 1 4 3 1 3 4 4 4 4 2 3 4 4 4 3]\n",
      "no of elements:  20\n",
      "mean:  2.9\n",
      "std:  1.1652874052533588\n",
      "var:  1.3578947368421057\n",
      "4    8\n",
      "3    6\n",
      "1    4\n",
      "2    2\n",
      "dtype: int64\n"
     ]
    }
   ],
   "source": [
    "x = pd.Series(np.random.randint(1, 5, 20))\n",
    "\n",
    "print(x.values.reshape(-1))\n",
    "\n",
    "print('no of elements: ', len(x))\n",
    "print('mean: ', x.mean())\n",
    "print('std: ', x.std())\n",
    "print('var: ', x.var())\n",
    "\n",
    "freq = x.value_counts()\n",
    "print(freq)"
   ]
  },
  {
   "cell_type": "markdown",
   "metadata": {
    "hideCode": false,
    "hidePrompt": false,
    "slideshow": {
     "slide_type": "slide"
    }
   },
   "source": [
    "#### 정렬 sort\n",
    "\n",
    "index나 값을 기준으로 정렬을 할 수 있다. \n",
    "\n",
    "```python\n",
    "s.sort_index(ascending=True, axis=0, level=None)\n",
    "s.sort_values(by, ascending=True, axis=0)\n",
    "```"
   ]
  },
  {
   "cell_type": "code",
   "execution_count": 9,
   "metadata": {
    "hideCode": false,
    "hidePrompt": false,
    "slideshow": {
     "slide_type": "slide"
    }
   },
   "outputs": [
    {
     "name": "stdout",
     "output_type": "stream",
     "text": [
      "1    4\n",
      "2    2\n",
      "3    6\n",
      "4    8\n",
      "dtype: int64\n",
      "\n",
      "4    8\n",
      "3    6\n",
      "1    4\n",
      "2    2\n",
      "dtype: int64\n"
     ]
    }
   ],
   "source": [
    "print(freq.sort_index(), end='\\n'*2)\n",
    "print(freq.sort_values(ascending=False))"
   ]
  },
  {
   "cell_type": "markdown",
   "metadata": {
    "hideCode": false,
    "hidePrompt": false,
    "slideshow": {
     "slide_type": "slide"
    }
   },
   "source": [
    "#### difference\n",
    "\n",
    "```python\n",
    "s.shift()\n",
    "s.diff()\n",
    "s.pct_change()\n",
    "```"
   ]
  },
  {
   "cell_type": "code",
   "execution_count": 10,
   "metadata": {
    "hideCode": false,
    "hidePrompt": false
   },
   "outputs": [
    {
     "name": "stdout",
     "output_type": "stream",
     "text": [
      "0    1\n",
      "1    1\n",
      "2    2\n",
      "3    3\n",
      "4    3\n",
      "dtype: int32\n",
      "0    NaN\n",
      "1    1.0\n",
      "2    1.0\n",
      "3    2.0\n",
      "4    3.0\n",
      "dtype: float64\n"
     ]
    }
   ],
   "source": [
    "z = x[:5]\n",
    "print(z)\n",
    "print(z.shift())"
   ]
  },
  {
   "cell_type": "code",
   "execution_count": 11,
   "metadata": {
    "hideCode": false,
    "hidePrompt": false
   },
   "outputs": [
    {
     "name": "stdout",
     "output_type": "stream",
     "text": [
      "0    NaN\n",
      "1    0.0\n",
      "2    1.0\n",
      "3    1.0\n",
      "4    0.0\n",
      "dtype: float64\n",
      "0    NaN\n",
      "1    NaN\n",
      "2    1.0\n",
      "3    2.0\n",
      "4    1.0\n",
      "dtype: float64\n"
     ]
    }
   ],
   "source": [
    "print(z.diff())\n",
    "print(z.diff(2))"
   ]
  },
  {
   "cell_type": "code",
   "execution_count": 12,
   "metadata": {
    "hideCode": false,
    "hidePrompt": false,
    "slideshow": {
     "slide_type": "slide"
    }
   },
   "outputs": [
    {
     "name": "stdout",
     "output_type": "stream",
     "text": [
      "0    NaN\n",
      "1    0.0\n",
      "2    1.0\n",
      "3    0.5\n",
      "4    0.0\n",
      "dtype: float64\n"
     ]
    }
   ],
   "source": [
    "print(z.pct_change())"
   ]
  },
  {
   "cell_type": "markdown",
   "metadata": {},
   "source": [
    "#### Pandas 자료유형\n",
    "\n",
    "Pandas dtype | Python type | NumPy type | Usage\n",
    ":--- | :--- | :--- | :---\n",
    "object | str or mixed | string_, unicode_, mixed types | Text or mixed numeric and non-numeric values\n",
    "int64 | int | int_, int8, int16, int32, int64, uint8, uint16, uint32, uint64 | Integer numbers\n",
    "float64 | float | float_, float16, float32, float64 | Floating point numbers\n",
    "bool | bool | bool_ | True/False values\n",
    "datetime64 | NA\t | Datetime64[ns] | Date and time values\n",
    "timedelta[ns] | NA | NA | Differences between two datetimes\n",
    "category | NA | NA | Finite list of text values\n",
    "\n",
    "\n",
    "- python 자료 유형 중 categorical data type은 범주 자료를 처리할 때 유용하다.\n",
    " - 원소는 문자열이나 숫자이지만 관련 연산은 정의되지 않는다."
   ]
  },
  {
   "cell_type": "markdown",
   "metadata": {
    "hideCode": false,
    "hidePrompt": false,
    "slideshow": {
     "slide_type": "slide"
    }
   },
   "source": [
    "#### 자료유형변환\n",
    "\n",
    "- Compatible한 자료 유형으로 바꾸거나, Series를 list나 ndarray로 변환할 수 있다.\n",
    "\n",
    "```python\n",
    "s.astype()\n",
    "s.tolist()\n",
    "s.to_numpy()\n",
    "```"
   ]
  },
  {
   "cell_type": "code",
   "execution_count": 13,
   "metadata": {},
   "outputs": [
    {
     "data": {
      "text/plain": [
       "0    1\n",
       "1    2\n",
       "2    2\n",
       "3    1\n",
       "dtype: category\n",
       "Categories (2, int64): [1, 2]"
      ]
     },
     "execution_count": 13,
     "metadata": {},
     "output_type": "execute_result"
    }
   ],
   "source": [
    "s = pd.Series([1,2,2,1], dtype=\"category\")\n",
    "s"
   ]
  },
  {
   "cell_type": "code",
   "execution_count": 14,
   "metadata": {
    "hideCode": false,
    "hidePrompt": false,
    "slideshow": {
     "slide_type": "slide"
    }
   },
   "outputs": [
    {
     "name": "stdout",
     "output_type": "stream",
     "text": [
      "a    0.605\n",
      "b   -0.243\n",
      "c    0.309\n",
      "d    2.636\n",
      "dtype: float64\n",
      "\n",
      "a    True\n",
      "b    True\n",
      "c    True\n",
      "d    True\n",
      "dtype: bool\n",
      "a    0.605\n",
      "b   -0.243\n",
      "c    0.309\n",
      "d    2.636\n",
      "dtype: float64\n",
      "[0.605, -0.243, 0.309, 2.636]\n",
      "[ 0.605 -0.243  0.309  2.636]\n"
     ]
    }
   ],
   "source": [
    "s = pd.Series(np.random.randn(4).round(3), list(\"abcd\"))\n",
    "\n",
    "print(s)\n",
    "print()\n",
    "print(s.astype(bool))\n",
    "print(s.astype(float))\n",
    "print(s.tolist())\n",
    "print(s.to_numpy())"
   ]
  },
  {
   "cell_type": "markdown",
   "metadata": {
    "hideCode": false,
    "hidePrompt": false
   },
   "source": [
    "- `s.array`나 `s.values` 대상 series의 유형에 따라 자료유형이 결정된다.<br>\n",
    "  - `array` attribute은 자료의 유형을 그대로 유지한 채 index만 제거한 PandaArray<br>\n",
    "  - `values` attribute은 복합적인 자료유형의 Series나 DataFrame에 적용하면 어떤 유형이 될 지 불확실해진다."
   ]
  },
  {
   "cell_type": "code",
   "execution_count": 15,
   "metadata": {
    "hideCode": false,
    "hidePrompt": false
   },
   "outputs": [
    {
     "name": "stdout",
     "output_type": "stream",
     "text": [
      "<PandasArray>\n",
      "[0.605, -0.243, 0.309, 2.636]\n",
      "Length: 4, dtype: float64\n",
      "[ 0.605 -0.243  0.309  2.636]\n"
     ]
    }
   ],
   "source": [
    "print(s.array)\n",
    "print(s.values)"
   ]
  },
  {
   "cell_type": "markdown",
   "metadata": {},
   "source": [
    "### Series.str\n",
    "\n",
    "- Series.str은 series의 각 원소에 string의 method를 적용할 수 있게 한다.\n",
    "  - Series.str.strip, Series.str.extract, Series.str.split, Series.str.len, ..."
   ]
  },
  {
   "cell_type": "markdown",
   "metadata": {
    "hideCode": false,
    "hidePrompt": false,
    "slideshow": {
     "slide_type": "slide"
    }
   },
   "source": [
    "### Series의 연산\n",
    "\n",
    "- Series의 연산은 array와 마찬가지로 element-wise operation이지만 **위치는 index를 기준**으로 한다.\n",
    "\n",
    "- 연산을 하는 series에 해당 index가 존재하지 않으면 np.nan으로 취급한다.\n",
    "\n",
    "```python\n",
    "+, s1.add(other, level=None, fill_value=None, axis=0)\n",
    "-, s1.substract(s2)\n",
    "*, s1.multiply(s2)\n",
    "/, s1.divide(s2)\n",
    "```"
   ]
  },
  {
   "cell_type": "code",
   "execution_count": 16,
   "metadata": {},
   "outputs": [
    {
     "name": "stdout",
     "output_type": "stream",
     "text": [
      "a    4\n",
      "b    5\n",
      "c    3\n",
      "dtype: int64\n"
     ]
    }
   ],
   "source": [
    "x = pd.Series([1, 2, 3], list('cba'))\n",
    "y = pd.Series([3, 2, 1], list('bca'))\n",
    "\n",
    "print(x+y)"
   ]
  },
  {
   "cell_type": "markdown",
   "metadata": {},
   "source": [
    "- 공통적인 index가 없는 Series에 연산을 적용하면 모든 결과값은 NaN이 된다.\n",
    "\n",
    "- Pandas에서 모든 연산은 index로 정렬을 한 뒤 이루어진다.\n",
    "- Series와 DataFrame에서는 broadcasting이 적용되지 않는다.\n",
    "- Series와 DataFrame의 단순한 연산에는 array를 사용한다.\n"
   ]
  },
  {
   "cell_type": "markdown",
   "metadata": {},
   "source": [
    "- 다음 예제에서와 같이 더하기는 같은 index에만 적용되므로 각 애완동물의 수를 구할 수 없다."
   ]
  },
  {
   "cell_type": "code",
   "execution_count": 17,
   "metadata": {},
   "outputs": [
    {
     "data": {
      "text/plain": [
       "anaconda    NaN\n",
       "cat         2.0\n",
       "dog         NaN\n",
       "hamster     NaN\n",
       "rabbit      NaN\n",
       "dtype: float64"
      ]
     },
     "execution_count": 17,
     "metadata": {},
     "output_type": "execute_result"
    }
   ],
   "source": [
    "idx1 = [\"cat\", \"dog\", \"anaconda\"]\n",
    "idx2 = [\"rabbit\", \"hamster\", \"cat\"]\n",
    "\n",
    "tower1 = pd.Series([1, 2, 3], idx1)\n",
    "tower2 = pd.Series([3, 2, 1], idx2)\n",
    "\n",
    "tower1 + tower2"
   ]
  },
  {
   "cell_type": "markdown",
   "metadata": {},
   "source": [
    "- 주어진 순서대로 연산을 하려면 index를 제거하고 사용한다."
   ]
  },
  {
   "cell_type": "code",
   "execution_count": 18,
   "metadata": {},
   "outputs": [
    {
     "name": "stdout",
     "output_type": "stream",
     "text": [
      "a    1.5\n",
      "b    2.0\n",
      "c    NaN\n",
      "d    NaN\n",
      "dtype: float64\n",
      "c    0.5\n",
      "b    2.0\n",
      "a    1.0\n",
      "dtype: float64\n",
      "a    0.5\n",
      "b    2.0\n",
      "d    1.0\n",
      "dtype: float64\n"
     ]
    }
   ],
   "source": [
    "x = pd.Series([1, 2, 3], list('cba'))\n",
    "z = pd.Series([2, 1, 3], list('abd'))\n",
    "\n",
    "print(x/z)\n",
    "print(x/z.values)\n",
    "print(x.values/z)"
   ]
  },
  {
   "cell_type": "markdown",
   "metadata": {
    "hideCode": false,
    "hidePrompt": false
   },
   "source": [
    "### map & apply\n",
    "\n",
    "```\n",
    "pd.Series.map(func)\n",
    "pd.Series.apply(func)\n",
    "```\n",
    "\n",
    "- map은 개별 원소에 대해 변환을 적용하고 apply는 열에 대해 함수 `func`을 적용한다.\n",
    "- 따라서 map은 `pd.Series`, apply는 DataFrame에 주로 사용한다.\n",
    "\n",
    "\n",
    "```python\n",
    "Series.map(arg)\n",
    "DataFrame.apply(func, axis=0, broadcast=None, raw=False, reduce=None, result_type=None, args=(), **kwds)\n",
    "```\n",
    "\n",
    "- `map`의 `arg`에는 dict나 함수 같은 mapping correspondence를 사용할 수 있다.\n",
    "- `apply`는 DataFrame의 row/column에 사용하며 여기서는 Series를 하나의 column으로 취급하는 것이다.   "
   ]
  },
  {
   "cell_type": "code",
   "execution_count": 19,
   "metadata": {},
   "outputs": [
    {
     "name": "stdout",
     "output_type": "stream",
     "text": [
      "temperature in Celsius    [-9, -11, -11, -8, -9, -8]\n",
      "dtype: object\n",
      "\n",
      " temperature in Fahrenheit:  temperature in Celsius    [15.8, 12.2, 12.2, 17.6, 15.8, 17.6]\n",
      "dtype: object\n"
     ]
    }
   ],
   "source": [
    "s = pd.Series({\"temperature in Celsius\": np.random.randint(-12,-7,6)})\n",
    "\n",
    "C_to_F = lambda x: (x * 9/5 + 32).round(1)\n",
    "\n",
    "print(s)\n",
    "print()\n",
    "print(' temperature in Fahrenheit: ', s.map(C_to_F))"
   ]
  },
  {
   "cell_type": "code",
   "execution_count": 20,
   "metadata": {
    "hideCode": false,
    "hidePrompt": false,
    "slideshow": {
     "slide_type": "slide"
    }
   },
   "outputs": [
    {
     "name": "stdout",
     "output_type": "stream",
     "text": [
      "{'a': 0, 'b': 1, 'c': 2, 'd': 3, 'e': 4, 'f': 5, 'g': 6, 'h': 7, 'i': 8, 'j': 9, 'k': 10, 'l': 11, 'm': 12, 'n': 13, 'o': 14, 'p': 15, 'q': 16, 'r': 17, 's': 18, 't': 19, 'u': 20, 'v': 21, 'w': 22, 'x': 23, 'y': 24, 'z': 25}\n",
      "0    b\n",
      "1    e\n",
      "2    a\n",
      "3    s\n",
      "4    p\n",
      "dtype: object\n",
      "0     1\n",
      "1     4\n",
      "2     0\n",
      "3    18\n",
      "4    15\n",
      "dtype: int64\n"
     ]
    }
   ],
   "source": [
    "alphabet = list(\"ABCDEFGHIJKLMNOPQRSTUVWXYZ\".lower())\n",
    "num = range(len(alphabet))\n",
    "trans = dict(zip(alphabet, num))\n",
    "print(trans)\n",
    "\n",
    "s = pd.Series(list(\"Be as proud of Sogang As Sogang is proud of you\".lower().replace(\" \",'')))\n",
    "\n",
    "print(s.head(5))\n",
    "print(s.map(trans).head(5))"
   ]
  },
  {
   "cell_type": "markdown",
   "metadata": {},
   "source": [
    "- 하나의 열에 함수를 적용할 때는 map과 apply 둘 모두 사용할 수 있다.\n",
    "- 연산에 여러 개의 열이 필요할 때는 apply를 사용해야 한다. "
   ]
  },
  {
   "cell_type": "code",
   "execution_count": 21,
   "metadata": {
    "hideCode": false,
    "hidePrompt": false
   },
   "outputs": [
    {
     "name": "stdout",
     "output_type": "stream",
     "text": [
      "c    1\n",
      "b    2\n",
      "a    3\n",
      "dtype: int64\n",
      "c   -9\n",
      "b   -6\n",
      "a   -1\n",
      "dtype: int64\n",
      "c   -9\n",
      "b   -6\n",
      "a   -1\n",
      "dtype: int64\n"
     ]
    }
   ],
   "source": [
    "print(x.head())\n",
    "print(x.map(lambda x: x**2 - 10).head())\n",
    "print(x.apply(lambda x: x**2 - 10).head())"
   ]
  },
  {
   "cell_type": "markdown",
   "metadata": {
    "hideCode": false,
    "hidePrompt": false,
    "slideshow": {
     "slide_type": "slide"
    }
   },
   "source": [
    "### Series의 결합\n",
    "\n",
    "```python\n",
    "s1.append(s2)\n",
    "pd.concat([s1,s2,...,sn], axis=0, join=\"outer\", ignore_index=False)\n",
    "```\n",
    "\n",
    "\n",
    "- append는 첫 축, 즉 0 축 방향으로 쌓아올린다.\n",
    "- append는 대부분의 container 유형에 정의된다. List와는 다르게 객체를 수정하지 않는다.\n",
    "- concat는 가능한 모든 축을 따라 series를 합칠 수 있다.<br>"
   ]
  },
  {
   "cell_type": "code",
   "execution_count": 22,
   "metadata": {
    "hideCode": false,
    "hidePrompt": false,
    "slideshow": {
     "slide_type": "slide"
    }
   },
   "outputs": [
    {
     "name": "stdout",
     "output_type": "stream",
     "text": [
      "None\n"
     ]
    }
   ],
   "source": [
    "x = [1,2]\n",
    "xx = x.append(4)\n",
    "print(xx)"
   ]
  },
  {
   "cell_type": "code",
   "execution_count": 23,
   "metadata": {
    "hideCode": false,
    "hidePrompt": false,
    "slideshow": {
     "slide_type": "slide"
    }
   },
   "outputs": [
    {
     "name": "stdout",
     "output_type": "stream",
     "text": [
      "a    1.769728\n",
      "b   -0.640584\n",
      "c   -0.620083\n",
      "d    0.458121\n",
      "dtype: float64\n",
      "\n",
      "a    1.769728\n",
      "b   -0.640584\n",
      "c   -0.620083\n",
      "d    0.458121\n",
      "c    0.000000\n",
      "d    1.000000\n",
      "e    2.000000\n",
      "f    3.000000\n",
      "dtype: float64\n"
     ]
    }
   ],
   "source": [
    "s1 = pd.Series(np.random.randn(4), list(\"abcd\"))\n",
    "s2 = pd.Series(range(4), list(\"cdef\"))\n",
    "\n",
    "s = s1.append(s2)\n",
    "print(s1)\n",
    "print()\n",
    "print(s)"
   ]
  },
  {
   "cell_type": "markdown",
   "metadata": {},
   "source": [
    "- pd.concat는 일반적인 결합방법으로 결합방향, 결합할 때 index의 처리방법 등을 지정할 수 있다.\n",
    "\n",
    "- `join=inner`(intersection)는 모든 Series에 공통적으로 포함된 index의 값만 결합하고 ,<br>\n",
    "`outer`(union)는 모든 index를 전부 고려한다."
   ]
  },
  {
   "cell_type": "code",
   "execution_count": 24,
   "metadata": {
    "hideCode": false,
    "hidePrompt": false,
    "slideshow": {
     "slide_type": "slide"
    }
   },
   "outputs": [
    {
     "name": "stdout",
     "output_type": "stream",
     "text": [
      "a    1.769728\n",
      "b   -0.640584\n",
      "c   -0.620083\n",
      "d    0.458121\n",
      "c    0.000000\n",
      "d    1.000000\n",
      "e    2.000000\n",
      "f    3.000000\n",
      "dtype: float64\n",
      "\n",
      "          0  1\n",
      "c -0.620083  0\n",
      "d  0.458121  1\n",
      "\n",
      "          0    1\n",
      "a  1.769728  NaN\n",
      "b -0.640584  NaN\n",
      "c -0.620083  0.0\n",
      "d  0.458121  1.0\n",
      "e       NaN  2.0\n",
      "f       NaN  3.0\n"
     ]
    }
   ],
   "source": [
    "print(pd.concat([s1,s2])) # axis=0\n",
    "print()\n",
    "print(pd.concat([s1,s2], axis=1, join='inner'))\n",
    "print()\n",
    "print(pd.concat([s1,s2], axis=1, join='outer'))"
   ]
  },
  {
   "cell_type": "markdown",
   "metadata": {
    "hideCode": false,
    "hidePrompt": false,
    "slideshow": {
     "slide_type": "slide"
    }
   },
   "source": [
    "### Missing value의 처리\n",
    "\n",
    "#### missing value의 확인과 삭제\n",
    "\n",
    "- missing value의 확인은 `s.isna()`, 삭제는 `s.dropna()`를 사용한다.\n",
    "\n",
    "```python\n",
    "pd.Series.isna()\n",
    "pd.Series.dropna(inplace=False)\n",
    "```\n",
    "\n",
    "- `s.notna()`은 NaN이 아닌 값에 True로 하는 Series를 만든다."
   ]
  },
  {
   "cell_type": "code",
   "execution_count": 25,
   "metadata": {
    "hideCode": false,
    "hidePrompt": false,
    "slideshow": {
     "slide_type": "slide"
    }
   },
   "outputs": [],
   "source": [
    "na = np.random.RandomState(42).randint(0, len(s), 3)\n",
    "s_with_nan = s.copy()\n",
    "s_with_nan.index = range(len(s_with_nan))\n",
    "s_with_nan[na] = np.nan"
   ]
  },
  {
   "cell_type": "code",
   "execution_count": 26,
   "metadata": {
    "hideCode": false,
    "hidePrompt": false,
    "slideshow": {
     "slide_type": "slide"
    }
   },
   "outputs": [
    {
     "name": "stdout",
     "output_type": "stream",
     "text": [
      "0    1.769728\n",
      "1   -0.640584\n",
      "2   -0.620083\n",
      "3         NaN\n",
      "4         NaN\n",
      "5    1.000000\n",
      "6         NaN\n",
      "7    3.000000\n",
      "dtype: float64\n",
      "0    False\n",
      "1    False\n",
      "2    False\n",
      "3     True\n",
      "4     True\n",
      "5    False\n",
      "6     True\n",
      "7    False\n",
      "dtype: bool\n"
     ]
    }
   ],
   "source": [
    "print(s_with_nan)\n",
    "print(s_with_nan.isna())"
   ]
  },
  {
   "cell_type": "code",
   "execution_count": 27,
   "metadata": {
    "hideCode": false,
    "hidePrompt": false,
    "slideshow": {
     "slide_type": "slide"
    }
   },
   "outputs": [
    {
     "name": "stdout",
     "output_type": "stream",
     "text": [
      "0      1.769728\n",
      "1     -0.640584\n",
      "2     -0.620083\n",
      "3   -999.000000\n",
      "4   -999.000000\n",
      "5      1.000000\n",
      "6   -999.000000\n",
      "7      3.000000\n",
      "dtype: float64\n"
     ]
    }
   ],
   "source": [
    "# with no copy\n",
    "s_with_nan.fillna(-999, inplace=True)\n",
    "print(s_with_nan)"
   ]
  },
  {
   "cell_type": "code",
   "execution_count": 28,
   "metadata": {
    "hideCode": false,
    "hidePrompt": false,
    "slideshow": {
     "slide_type": "slide"
    }
   },
   "outputs": [
    {
     "name": "stdout",
     "output_type": "stream",
     "text": [
      "a         NaN\n",
      "b         NaN\n",
      "c    1.769728\n",
      "d   -0.640584\n",
      "dtype: float64\n",
      "c    1.769728\n",
      "d   -0.640584\n",
      "dtype: float64\n"
     ]
    }
   ],
   "source": [
    "print(s1.shift(2))\n",
    "print(s1.shift(2).dropna())"
   ]
  },
  {
   "cell_type": "markdown",
   "metadata": {},
   "source": [
    "#### imputation\n",
    "\n",
    "- NaN을 지정한 값으로 변환\n",
    "\n",
    "```python\n",
    "pd.Series.fillna(value=None, method=None, axis=None, inplace=False, limit=None)\n",
    "```\n",
    "\n",
    "- method: 'backfill'/'bfill', 'pad'/'ffill', None, default None<br>\n",
    "- limit: 연속적으로 변환하는 횟수로 시계열자료에서 주로 사용\n"
   ]
  },
  {
   "cell_type": "markdown",
   "metadata": {
    "hideCode": false,
    "hidePrompt": false,
    "slideshow": {
     "slide_type": "slide"
    }
   },
   "source": [
    "### indexing 과 slicing\n",
    "\n",
    "- `pd.Series`의 indexing에는 index를 사용할 수 있다. <br>\n",
    "- 기본적인 indexing과 slicing 방법은 `ndarray`와 동일하다.\n",
    "\n",
    "\n",
    "- `pd.Series[index]`는 `pd.Series.loc[index]` 나 `pd.Series.iloc[integer]` 와 동일하다.\n",
    "\n",
    "\n",
    "- 대괄호 안의 단순한 index는 원소값을, 대괄호 안에 list를 사용하면 결과는 Series가 된다. (`s[0]` vs. `s[[0]]`)\n",
    "\n",
    "\n",
    "- 순서를 이용할 경우에는 `pd.Series.iloc[]`로 정수 index를 사용한다.<br>\n",
    "- `s.iloc[]`는 np.array의 slicing과 마찬가지로 마지막 index를 포함하지 않는다.<br>\n",
    "- 반면 `s.loc[start:stop:step]`는 마지막 index를 포함한다.<br>\n",
    "Partial slicing을 적용하려면 index가 정렬되어 있어야 한다."
   ]
  },
  {
   "cell_type": "code",
   "execution_count": 29,
   "metadata": {
    "hideCode": false,
    "hidePrompt": false,
    "slideshow": {
     "slide_type": "fragment"
    }
   },
   "outputs": [],
   "source": [
    "x = pd.Series([\"cat\", \"dog\", \"rabbit\", \"hamster\", \"parrot\", \"chameleon\"], index = list(\"mypets\"))"
   ]
  },
  {
   "cell_type": "code",
   "execution_count": 30,
   "metadata": {
    "hideCode": false,
    "hidePrompt": false
   },
   "outputs": [
    {
     "name": "stdout",
     "output_type": "stream",
     "text": [
      "rabbit\n",
      "rabbit\n",
      "m          cat\n",
      "y          dog\n",
      "s    chameleon\n",
      "dtype: object\n"
     ]
    }
   ],
   "source": [
    "print(x.iloc[2])\n",
    "print(x.loc[\"p\"])\n",
    "print(x[[True, True, False, False, False, True]])"
   ]
  },
  {
   "cell_type": "code",
   "execution_count": 31,
   "metadata": {
    "hideCode": false,
    "hidePrompt": false,
    "slideshow": {
     "slide_type": "fragment"
    }
   },
   "outputs": [
    {
     "data": {
      "text/plain": [
       "p       rabbit\n",
       "e      hamster\n",
       "t       parrot\n",
       "s    chameleon\n",
       "dtype: object"
      ]
     },
     "execution_count": 31,
     "metadata": {},
     "output_type": "execute_result"
    }
   ],
   "source": [
    "index = [True if len(a) > 3 else False for a in x]\n",
    "x[index]"
   ]
  },
  {
   "cell_type": "markdown",
   "metadata": {
    "hideCode": false,
    "hidePrompt": false
   },
   "source": [
    "### Hierarchical indexing ([MultiIndex](https://pandas.pydata.org/pandas-docs/stable/user_guide/advanced.html))\n",
    "\n",
    "- Pandas의 장점 중 하나는 여러 개의 index를 동시에 사용할 수 있다는 점이다. \n",
    "- Pandas 0.24까지 세 개의 축을 가진 `pd.Panel` 객체를 지원하였지만 이후 MultiIndex로 대체하었다.\n",
    "\n",
    "```python\n",
    "pd.MultiIndex(levels=None, codes=None)\n",
    "\n",
    "# from list of arrays\n",
    "pd.MultiIndex.from_arrays(arrays, sortorder=None, names=None) \n",
    "\n",
    "# from tuples\n",
    "pd.MultiIndex.from_tuples(tuples, sortorder=None, names=None)\n",
    "\n",
    "# Cartesian product of single indices\n",
    "pd.MultiIndex.from_product(iterables, sortorder=None, names=None) \n",
    "\n",
    "pd.MultiIndex.from_frame(df)\n",
    "```"
   ]
  },
  {
   "cell_type": "code",
   "execution_count": 32,
   "metadata": {
    "hideCode": false,
    "hidePrompt": false,
    "slideshow": {
     "slide_type": "slide"
    }
   },
   "outputs": [
    {
     "name": "stdout",
     "output_type": "stream",
     "text": [
      "year  name\n",
      "2015  Bob     37\n",
      "      Cam     30\n",
      "      Dan     25\n",
      "2016  Ari     28\n",
      "      Bob     36\n",
      "      Cam     28\n",
      "Name: weeks, dtype: int32\n"
     ]
    }
   ],
   "source": [
    "arrays = [['2015', '2015', '2015', '2016', '2016', '2016'],\n",
    "         [\"Bob\", \"Cam\", \"Dan\", \"Ari\", \"Bob\", \"Cam\"]]\n",
    "\n",
    "tuples = tuple(zip(*arrays))  # list() also works\n",
    "multi_index = pd.MultiIndex.from_tuples(tuples, names = [\"year\", \"name\"])\n",
    "\n",
    "s = pd.Series(np.random.RandomState(0).randint(25,40,6), \n",
    "              index = multi_index, name = \"weeks\")\n",
    "\n",
    "print(s)"
   ]
  },
  {
   "cell_type": "code",
   "execution_count": 33,
   "metadata": {
    "hideCode": false,
    "hidePrompt": false,
    "scrolled": true
   },
   "outputs": [
    {
     "data": {
      "text/plain": [
       "MultiIndex([('2015', 'Ari'),\n",
       "            ('2015', 'Bob'),\n",
       "            ('2015', 'Cam'),\n",
       "            ('2015', 'Dan'),\n",
       "            ('2016', 'Ari'),\n",
       "            ('2016', 'Bob'),\n",
       "            ('2016', 'Cam'),\n",
       "            ('2016', 'Dan')],\n",
       "           )"
      ]
     },
     "execution_count": 33,
     "metadata": {},
     "output_type": "execute_result"
    }
   ],
   "source": [
    "arrays = [['2015', '2016'], [\"Ari\", \"Bob\", \"Cam\", \"Dan\"]]\n",
    "m_idx = pd.MultiIndex.from_product(arrays)\n",
    "m_idx"
   ]
  },
  {
   "cell_type": "markdown",
   "metadata": {},
   "source": [
    "- MultiIndex에도 일반적인 indexing과 slicing 방법을 적용할 수 있다.\n",
    "- MultiIndex 역시 Partial slicing을 적용하려면 index가 정렬되어 있어야 한다."
   ]
  },
  {
   "cell_type": "code",
   "execution_count": 34,
   "metadata": {},
   "outputs": [
    {
     "name": "stdout",
     "output_type": "stream",
     "text": [
      "s['2015'] \n",
      " name\n",
      "Bob    37\n",
      "Cam    30\n",
      "Dan    25\n",
      "Name: weeks, dtype: int32 \n",
      "\n",
      "s['2015':'2016] \n",
      " year  name\n",
      "2015  Bob     37\n",
      "      Cam     30\n",
      "      Dan     25\n",
      "2016  Ari     28\n",
      "      Bob     36\n",
      "      Cam     28\n",
      "Name: weeks, dtype: int32 \n",
      "\n",
      "s['2015', 'Bob'] \n",
      " 37 \n",
      "\n",
      "s[:, 'Bob'] \n",
      " year\n",
      "2015    37\n",
      "2016    36\n",
      "Name: weeks, dtype: int32 \n",
      "\n",
      "s[s >35] \n",
      " year  name\n",
      "2015  Bob     37\n",
      "2016  Bob     36\n",
      "Name: weeks, dtype: int32\n"
     ]
    }
   ],
   "source": [
    "print(\"s['2015'] \\n\", s['2015'], \"\\n\")\n",
    "print(\"s['2015':'2016] \\n\", s['2015':'2016'], \"\\n\")\n",
    "print(\"s['2015', 'Bob'] \\n\", s['2015', 'Bob'], \"\\n\")\n",
    "print(\"s[:, 'Bob'] \\n\", s[:, 'Bob'], \"\\n\")\n",
    "print(\"s[s >35] \\n\", s[s >35])"
   ]
  },
  {
   "cell_type": "markdown",
   "metadata": {},
   "source": [
    "- MultiIndex의 slicing으로 많이 사용하는 방법은 `slice()`와 `pd.IndexSlice[]`이다. \n",
    "- Slice()는 기본적으로 해당 level의 내용을 선택하기 위해 사용한다.\n",
    "- IndexSlice는 자연스런 문법을 사용할 수 있다.\n",
    "- Series에선 특별한 장점이 없지만 여러 column을 갖는 DataFrame에서 읽기 쉽게 다른 유형의 자료와 비슷한 방법으로 slicing을 할 수 있게 해준다."
   ]
  },
  {
   "cell_type": "code",
   "execution_count": 35,
   "metadata": {},
   "outputs": [
    {
     "name": "stdout",
     "output_type": "stream",
     "text": [
      "year  name\n",
      "2015  Bob     37\n",
      "      Cam     30\n",
      "      Dan     25\n",
      "2016  Ari     28\n",
      "      Bob     36\n",
      "      Cam     28\n",
      "Name: weeks, dtype: int32\n",
      "\n",
      "year  name\n",
      "2015  Bob     37\n",
      "2016  Bob     36\n",
      "Name: weeks, dtype: int32\n"
     ]
    }
   ],
   "source": [
    "idx = pd.IndexSlice\n",
    "\n",
    "print(s.loc[slice('2015', 'Bob')]) # 주의!!!!!!\n",
    "print()\n",
    "print(s.loc[(idx['2015':'2016'], idx['Bob'])])"
   ]
  },
  {
   "cell_type": "markdown",
   "metadata": {},
   "source": [
    "- 일반적인 사용 예"
   ]
  },
  {
   "cell_type": "code",
   "execution_count": 36,
   "metadata": {},
   "outputs": [
    {
     "name": "stdout",
     "output_type": "stream",
     "text": [
      "year  name\n",
      "2015  Bob     37\n",
      "Name: weeks, dtype: int32\n",
      "year  name\n",
      "2015  Bob     37\n",
      "2016  Bob     36\n",
      "Name: weeks, dtype: int32\n"
     ]
    }
   ],
   "source": [
    "print(s.loc[(slice('2015'), slice('Bob'))])\n",
    "print(s.loc[idx['2015':'2016', 'Bob']])"
   ]
  },
  {
   "cell_type": "markdown",
   "metadata": {
    "hideCode": false,
    "hidePrompt": false,
    "slideshow": {
     "slide_type": "slide"
    }
   },
   "source": [
    "### hierarchical index 정리\n",
    "\n",
    "```python\n",
    "MultiIndex.reorder_levels(order, axis=0) \n",
    "s.reorder_levels(order, axis=0) \n",
    "\n",
    "MultiIndex.swaplevel(i=-2, j=-1)\n",
    "s.swaplevel(i=-2, j=-1, axis=0) \n",
    "\n",
    "MultiIndex.droplevel(level=0)\n",
    "s.droplevel(level, axis=0)\n",
    "```"
   ]
  },
  {
   "cell_type": "code",
   "execution_count": 37,
   "metadata": {},
   "outputs": [
    {
     "name": "stdout",
     "output_type": "stream",
     "text": [
      "year  name\n",
      "2015  Bob     37\n",
      "      Cam     30\n",
      "      Dan     25\n",
      "2016  Ari     28\n",
      "      Bob     36\n",
      "Name: weeks, dtype: int32\n",
      "\n",
      "name  year\n",
      "Bob   2015    37\n",
      "Cam   2015    30\n",
      "Dan   2015    25\n",
      "Ari   2016    28\n",
      "Bob   2016    36\n",
      "Name: weeks, dtype: int32\n",
      "\n",
      "name  year\n",
      "Bob   2015    37\n",
      "Cam   2015    30\n",
      "Dan   2015    25\n",
      "Ari   2016    28\n",
      "Bob   2016    36\n",
      "Name: weeks, dtype: int32\n"
     ]
    }
   ],
   "source": [
    "print(s[:5])\n",
    "print()\n",
    "print(s.reorder_levels((1,0)).head())\n",
    "print()\n",
    "print(s.swaplevel().head())"
   ]
  },
  {
   "cell_type": "markdown",
   "metadata": {
    "hideCode": false,
    "hidePrompt": false,
    "slideshow": {
     "slide_type": "slide"
    }
   },
   "source": [
    "### 수정 update\n",
    "\n",
    "- `s.replace()`는 해당값을 주어진 값으로, `s.where()`는 해당 원소에 대한 조건이 거짓일 경우 주어진 값으로 바꾼다.\n",
    "\n",
    "```python\n",
    "Series.replace(to_replace=None, value=None, inplace=False)\n",
    "Series.where(cond, other=nan, inplace=False)\n",
    "```\n",
    "\n",
    "- s1.where(cond, s2) 은 np.where(cond, s1, s2) 와 유사하다."
   ]
  },
  {
   "cell_type": "code",
   "execution_count": 38,
   "metadata": {
    "hideCode": false,
    "hidePrompt": false,
    "slideshow": {
     "slide_type": "slide"
    }
   },
   "outputs": [
    {
     "name": "stdout",
     "output_type": "stream",
     "text": [
      "m     tiger\n",
      "y       dog\n",
      "p    rabbit\n",
      "dtype: object\n",
      "\n",
      "m       cat\n",
      "y      wolf\n",
      "p    rabbit\n",
      "dtype: object\n"
     ]
    }
   ],
   "source": [
    "print(x[:3].replace({\"cat\": 'tiger'}))\n",
    "print()\n",
    "print(x[:3].replace(to_replace=\"dog\", value='wolf'))"
   ]
  },
  {
   "cell_type": "code",
   "execution_count": 39,
   "metadata": {
    "hideCode": false,
    "hidePrompt": false
   },
   "outputs": [
    {
     "data": {
      "text/plain": [
       "m       cat\n",
       "y       dog\n",
       "p    rabbit\n",
       "e      None\n",
       "t    parrot\n",
       "s      None\n",
       "dtype: object"
      ]
     },
     "execution_count": 39,
     "metadata": {},
     "output_type": "execute_result"
    }
   ],
   "source": [
    "x.where(x.map(lambda x: len(x)) <= 6, None) "
   ]
  },
  {
   "cell_type": "markdown",
   "metadata": {
    "hideCode": false,
    "hidePrompt": false,
    "slideshow": {
     "slide_type": "slide"
    }
   },
   "source": [
    "객체 복사와 update: view vs. copy\n",
    "\n",
    "- Python에선 변수의 이름은 pointer 역할이다. <br>\n",
    "- Pandas의 경우 연산의 종류에 따라 새로운 객체를 만들기도 하고, 어떤 경우에는 기존의 객체에서 일부분을 보여주는 역할을 하기도 한다. <br>\n",
    "- 변수를 update할 때는 이 두 유형을 구분해야 한다. <br>\n",
    "- 이와 관련하여 문제가 발생할 여지가 있을 때는 `SettingWithCopyWarning`를 보여주기도 하지만 아무런 경고 없이 진행되는 경우도 많다.\n",
    "\n",
    "<img src=\"https://www.dataquest.io/wp-content/uploads/2019/01/modifying.png\" width=600>"
   ]
  },
  {
   "cell_type": "code",
   "execution_count": 40,
   "metadata": {
    "hideCode": false,
    "hidePrompt": false
   },
   "outputs": [
    {
     "name": "stdout",
     "output_type": "stream",
     "text": [
      "x = 1, y = 1, z = 1\n",
      "x = 2, y = 2, z = 1\n"
     ]
    }
   ],
   "source": [
    "x = pd.Series(1)\n",
    "y = pd.Series(x)            # y = x\n",
    "z = pd.Series(x, copy=True) # z = x.copy()\n",
    "\n",
    "print(f\"x = {x[0]}, y = {y[0]}, z = {z[0]}\")\n",
    "\n",
    "x[0] = 2\n",
    "\n",
    "print(f\"x = {x[0]}, y = {y[0]}, z = {z[0]}\")"
   ]
  },
  {
   "cell_type": "code",
   "execution_count": 41,
   "metadata": {},
   "outputs": [
    {
     "name": "stdout",
     "output_type": "stream",
     "text": [
      "x = 1, y = 1, z = 1\n",
      "x = 2, y = 1, z = 1\n"
     ]
    }
   ],
   "source": [
    "x = pd.Series(1)\n",
    "y = x + 0                   # y = x\n",
    "z = pd.Series(x, copy=True) # z = x.copy()\n",
    "\n",
    "print(f\"x = {x[0]}, y = {y[0]}, z = {z[0]}\")\n",
    "\n",
    "x[0] = 2\n",
    "\n",
    "print(f\"x = {x[0]}, y = {y[0]}, z = {z[0]}\")"
   ]
  },
  {
   "cell_type": "markdown",
   "metadata": {},
   "source": [
    "### Series.plot\n",
    "\n",
    "- Series나  DataFrame은 plot method가 정의되어 있어 '알아서' plot을 만들어 준다.\n",
    "- 만들어진 그림판 위어서 matplotlib의 도구를 사용해서 추가작업을 할 수 있다."
   ]
  },
  {
   "cell_type": "code",
   "execution_count": 42,
   "metadata": {},
   "outputs": [
    {
     "data": {
      "image/png": "[encoded data removed]",
      "text/plain": [
       "<Figure size 720x216 with 4 Axes>"
      ]
     },
     "metadata": {
      "needs_background": "light"
     },
     "output_type": "display_data"
    }
   ],
   "source": [
    "x = pd.Series(np.random.randint(1, 5, 20))\n",
    "freq = x.value_counts()\n",
    "\n",
    "fig, ax = plt.subplots(1, 4, figsize=(10,3))\n",
    "\n",
    "x.plot(ax=ax[0], marker='o', title='line plot')\n",
    "x.plot.bar(ax=ax[1], title='bar plot')\n",
    "x.plot.hist(ax=ax[2], bins=4, width=.5, title='histogram', density=True)\n",
    "x.plot.kde(ax=ax[2])\n",
    "freq.plot.bar(ax=ax[3], title='bar plot')\n",
    "plt.tight_layout()"
   ]
  },
  {
   "cell_type": "markdown",
   "metadata": {},
   "source": [
    "#### bar plot\n",
    "\n",
    "- Bar plot은 자료를 category 로 해석하므로 주어진 label 이나 `range()`로 x label의 순서와 값을 정한다.\n",
    "\n",
    "#### Histogram\n",
    "\n",
    "- Histogram의 bins (bin size)는 갯수나 경계값으로 지정한다. \n",
    "- 갯수로 지정하면 입력자료의 범위를 같은 너비로 나누어 사용한다.\n",
    "- 각 막대는 경계에서 시작하기 때문에 label과 정확히 정렬하지 않을 수 있다."
   ]
  },
  {
   "cell_type": "code",
   "execution_count": 43,
   "metadata": {},
   "outputs": [
    {
     "data": {
      "text/plain": [
       "(0.997, 1.75]    5\n",
       "(1.75, 2.5]      2\n",
       "(2.5, 3.25]      7\n",
       "(3.25, 4.0]      6\n",
       "dtype: int64"
      ]
     },
     "execution_count": 43,
     "metadata": {},
     "output_type": "execute_result"
    }
   ],
   "source": [
    "pd.cut(x, 4).value_counts().sort_index()"
   ]
  },
  {
   "cell_type": "code",
   "execution_count": 44,
   "metadata": {},
   "outputs": [
    {
     "data": {
      "image/png": "[encoded data removed]",
      "text/plain": [
       "<Figure size 432x288 with 1 Axes>"
      ]
     },
     "metadata": {
      "needs_background": "light"
     },
     "output_type": "display_data"
    }
   ],
   "source": [
    "x.plot.hist(bins=np.arange(.75, 5.5, 1), width=.5, title='histogram', density=False)\n",
    "plt.gca().set_xticks(range(1,5));"
   ]
  },
  {
   "cell_type": "markdown",
   "metadata": {
    "hideCode": false,
    "hidePrompt": false,
    "slideshow": {
     "slide_type": "slide"
    }
   },
   "source": [
    "## DataFrame\n",
    "\n",
    "- `pd.DataFrame`은 2차원 ndarray와 동일한 형태로 2차원 표 형식의 자료유형이다.\n",
    "- List, tuple, dict와 비교해 계산 속도와 access의 편의성에 장점이 있다.\n",
    "\n",
    "\n",
    "- `pd.Series`는 변수 하나로 이루어진 자료를 정리하는데 사용하며, `pd.DataFrame`는 여러 개의 `pd.Series`를 하나로 모은 자료형태이다.\n",
    "- `pd.DataFrame`의 각 열은 개별 변수 `pd.Series`에 해당한다."
   ]
  },
  {
   "cell_type": "markdown",
   "metadata": {
    "hideCode": false,
    "hidePrompt": false,
    "slideshow": {
     "slide_type": "slide"
    }
   },
   "source": [
    "### DataFrame의 생성\n",
    "\n",
    "```python\n",
    "pd.DataFrame(data=None, index=None, columns=None, dtype=None, copy=False)\n",
    "```\n",
    "\n",
    "- `list`, `np.array`, `dict`를 사용하여 만들거나 `pd.Series`를 묶어서 만들기도 한다.\n",
    "\n",
    "\n",
    "- DataFrame과 관련된 연산의 기준 축은 column이다. \n",
    "- 일반적으로 자료를 정리할 때 관찰값을 행, 변수들을 열로 정한다."
   ]
  },
  {
   "cell_type": "code",
   "execution_count": 45,
   "metadata": {
    "hideCode": false,
    "hidePrompt": false,
    "slideshow": {
     "slide_type": "slide"
    }
   },
   "outputs": [
    {
     "name": "stdout",
     "output_type": "stream",
     "text": [
      "Empty DataFrame\n",
      "Columns: []\n",
      "Index: []\n"
     ]
    }
   ],
   "source": [
    "df0 = pd.DataFrame([])\n",
    "print(df0)"
   ]
  },
  {
   "cell_type": "code",
   "execution_count": 46,
   "metadata": {
    "hideCode": false,
    "hidePrompt": false,
    "slideshow": {
     "slide_type": "slide"
    }
   },
   "outputs": [
    {
     "data": {
      "text/html": [
       "<div>\n",
       "<style scoped>\n",
       "    .dataframe tbody tr th:only-of-type {\n",
       "        vertical-align: middle;\n",
       "    }\n",
       "\n",
       "    .dataframe tbody tr th {\n",
       "        vertical-align: top;\n",
       "    }\n",
       "\n",
       "    .dataframe thead th {\n",
       "        text-align: right;\n",
       "    }\n",
       "</style>\n",
       "<table border=\"1\" class=\"dataframe\">\n",
       "  <thead>\n",
       "    <tr style=\"text-align: right;\">\n",
       "      <th></th>\n",
       "      <th>0</th>\n",
       "      <th>1</th>\n",
       "      <th>2</th>\n",
       "    </tr>\n",
       "  </thead>\n",
       "  <tbody>\n",
       "    <tr>\n",
       "      <th>0</th>\n",
       "      <td>c</td>\n",
       "      <td>13</td>\n",
       "      <td>omnivore</td>\n",
       "    </tr>\n",
       "    <tr>\n",
       "      <th>1</th>\n",
       "      <td>d</td>\n",
       "      <td>18</td>\n",
       "      <td>carnivore</td>\n",
       "    </tr>\n",
       "  </tbody>\n",
       "</table>\n",
       "</div>"
      ],
      "text/plain": [
       "   0   1          2\n",
       "0  c  13   omnivore\n",
       "1  d  18  carnivore"
      ]
     },
     "execution_count": 46,
     "metadata": {},
     "output_type": "execute_result"
    }
   ],
   "source": [
    "df1 = pd.DataFrame([['c', 13, 'omnivore'], ['d', 18, 'carnivore']])\n",
    "df1"
   ]
  },
  {
   "cell_type": "markdown",
   "metadata": {
    "hideCode": false,
    "hidePrompt": false,
    "slideshow": {
     "slide_type": "slide"
    }
   },
   "source": [
    "- `index`(row index)와 `columns`(column index)는 `df.index`와 `df.columns`로 확인하고 수정할 수 있다."
   ]
  },
  {
   "cell_type": "code",
   "execution_count": 47,
   "metadata": {
    "hideCode": false,
    "hidePrompt": false,
    "slideshow": {
     "slide_type": "fragment"
    }
   },
   "outputs": [
    {
     "name": "stdout",
     "output_type": "stream",
     "text": [
      "    code  life span       diet\n",
      "cat    c         13   omnivore\n",
      "dog    d         18  carnivore\n"
     ]
    }
   ],
   "source": [
    "df1.index = [\"cat\", \"dog\"]\n",
    "df1.columns = ['code', 'life span', 'diet']\n",
    "print(df1)"
   ]
  },
  {
   "cell_type": "code",
   "execution_count": 48,
   "metadata": {
    "hideCode": false,
    "hidePrompt": false,
    "slideshow": {
     "slide_type": "fragment"
    }
   },
   "outputs": [
    {
     "name": "stdout",
     "output_type": "stream",
     "text": [
      "      code life span diet\n",
      "Adam     c        13  cat\n",
      "Belle    d        18  dog\n"
     ]
    }
   ],
   "source": [
    "df2 = pd.DataFrame(np.array([['c', 13, 'cat'], ['d', 18, 'dog']]),\n",
    "                   index = [\"Adam\", \"Belle\"],\n",
    "                   columns=['code', 'life span', 'diet'])\n",
    "print(df2)"
   ]
  },
  {
   "cell_type": "code",
   "execution_count": 49,
   "metadata": {
    "hideCode": false,
    "hidePrompt": false,
    "slideshow": {
     "slide_type": "fragment"
    }
   },
   "outputs": [],
   "source": [
    "df2 = pd.DataFrame({'code':['c', 'd'], 'life span':[13, 18], 'diet':['omnivore', 'carnivore']},\n",
    "                   index = [\"Adam\", \"Belle\"])"
   ]
  },
  {
   "cell_type": "code",
   "execution_count": 50,
   "metadata": {
    "hideCode": false,
    "hidePrompt": false,
    "slideshow": {
     "slide_type": "fragment"
    }
   },
   "outputs": [
    {
     "name": "stdout",
     "output_type": "stream",
     "text": [
      "  code life span       diet\n",
      "0    c        13   omnivore\n",
      "1    d        18  carnivore\n"
     ]
    }
   ],
   "source": [
    "x = np.array([['c', 13, 'omnivore'], ['d', 18, 'carnivore']])\n",
    "s0 = pd.Series(x[:,0])\n",
    "s1 = pd.Series(x[:,1])\n",
    "s2 = pd.Series(x[:,2])\n",
    "\n",
    "print(pd.DataFrame({'code':s0, 'life span':s1, 'diet':s2}))"
   ]
  },
  {
   "cell_type": "code",
   "execution_count": 51,
   "metadata": {
    "hideCode": false,
    "hidePrompt": false
   },
   "outputs": [
    {
     "name": "stdout",
     "output_type": "stream",
     "text": [
      "    code life span       diet\n",
      "cat    c        13   omnivore\n",
      "dog    d        18  carnivore\n"
     ]
    }
   ],
   "source": [
    "index = ['cat', 'dog']\n",
    "s0 = pd.Series(x[:,0], name='code', index=index)\n",
    "s1 = pd.Series(x[:,1], name='life span', index=index)\n",
    "s2 = pd.Series(x[:,2], name='diet', index=index)\n",
    "\n",
    "print(pd.concat([s0,s1,s2], axis=1))"
   ]
  },
  {
   "cell_type": "markdown",
   "metadata": {
    "hideCode": false,
    "hidePrompt": false,
    "slideshow": {
     "slide_type": "slide"
    }
   },
   "source": [
    "### indexing과 slicing\n",
    "\n",
    "- Pandas의 index는 행과 열의 위치나 이름 모두 사용 가능\n",
    "\n",
    "- `pd.DataFrame`의 원소는 행과 열로 구분하므로 index operator `[]` 안에는 comma로 구분한 두 개의 index가 필요\n",
    " - `df.loc`는 index와 열의 이름을 직접 사용\n",
    " - 둘 이상의 행과 열을 선택할 때는 list를 사용\n",
    " - `df.iloc[index]`나 `df.loc[index]`를 이용하여 구분\n",
    " - `df.iloc`는 행과 열의 위치를 정수로 표시\n",
    " - `df.iloc`는 series의 slicing과 마찬가지로 마지막 index를 포함하지 않는다."
   ]
  },
  {
   "cell_type": "code",
   "execution_count": 52,
   "metadata": {
    "hideCode": false,
    "hidePrompt": false,
    "slideshow": {
     "slide_type": "slide"
    }
   },
   "outputs": [
    {
     "name": "stdout",
     "output_type": "stream",
     "text": [
      "   cat  dog  rabbit  hamster  parrot\n",
      "0    0    1       0        1       1\n",
      "1    2    0       2        0       0\n",
      "2    0    2       1        2       2\n"
     ]
    }
   ],
   "source": [
    "df = pd.DataFrame(np.random.RandomState(0).randint(0,3,3*5).reshape(3,5),\n",
    "                  columns = [\"cat\", \"dog\", \"rabbit\", \"hamster\", \"parrot\"])\n",
    "\n",
    "print(df)"
   ]
  },
  {
   "cell_type": "code",
   "execution_count": 53,
   "metadata": {
    "hideCode": false,
    "hidePrompt": false,
    "slideshow": {
     "slide_type": "fragment"
    }
   },
   "outputs": [
    {
     "name": "stdout",
     "output_type": "stream",
     "text": [
      "   rabbit  hamster\n",
      "0       0        1\n",
      "\n",
      "   rabbit  hamster  parrot\n",
      "0       0        1       1\n",
      "\n",
      "   rabbit  hamster  parrot\n",
      "0       0        1       1\n",
      "1       2        0       0\n"
     ]
    }
   ],
   "source": [
    "print(df.iloc[:1, 2:4])  # df3.iloc[0, 2:4] 은 series\n",
    "print()\n",
    "print(df.iloc[:1, 2:])\n",
    "print()\n",
    "print(df.loc[:1, \"rabbit\":\"parrot\"])"
   ]
  },
  {
   "cell_type": "markdown",
   "metadata": {
    "hideCode": false,
    "hidePrompt": false
   },
   "source": [
    "- `[row, col]`을 기본으로 다음과 같은 예외들이 있다."
   ]
  },
  {
   "cell_type": "code",
   "execution_count": 54,
   "metadata": {
    "hideCode": false,
    "hidePrompt": false
   },
   "outputs": [
    {
     "name": "stdout",
     "output_type": "stream",
     "text": [
      "   cat  dog  rabbit  hamster  parrot\n",
      "0    0    1       0        1       1\n",
      "2    0    2       1        2       2\n",
      "\n",
      "   cat  parrot\n",
      "0    0       1\n",
      "1    2       0\n",
      "2    0       2\n",
      "\n",
      "0    0\n",
      "1    2\n",
      "2    0\n",
      "Name: cat, dtype: int32\n",
      "\n",
      "   cat  dog  rabbit  hamster  parrot\n",
      "1    2    0       2        0       0\n"
     ]
    }
   ],
   "source": [
    "print(df.loc[[0, 2]])        # loc에 하나의 list는 index로 해석\n",
    "print()\n",
    "print(df[[\"cat\",\"parrot\"]])  # 괄호만 사용하면 column으로 해석\n",
    "print()\n",
    "print(df.cat)                # attribute를 이용, column 이름에 space가 없어야 한다.\n",
    "print()\n",
    "print(df[df.cat >= 1])       # boolean index"
   ]
  },
  {
   "cell_type": "markdown",
   "metadata": {
    "hideCode": false,
    "hidePrompt": false,
    "slideshow": {
     "slide_type": "slide"
    }
   },
   "source": [
    "### Output format - Series or DataFrame\n",
    "\n",
    "- index operator `[]`안에 (하나의) 열의 이름을 사용하면 해당 열을 slicing하여 `pd.Series`을 return한다.\n",
    "- `df.col_name` 역시 같은 작용을 한다.\n",
    "\n",
    "\n",
    "- index operator `[]`안에 list를 사용하면 DataFrame 유형이 된다."
   ]
  },
  {
   "cell_type": "markdown",
   "metadata": {},
   "source": [
    "### filter와 query\n",
    "\n",
    "- 두 method는 row나 column의 index에만 적용\n",
    "- filter는 단순한 slicing, query는 조건을 적용할 수 있다.\n",
    "\n",
    "```python\n",
    "DataFrame.filter(items=None, like=None, regex=None, axis=None)\n",
    "DataFrame.query(expr, inplace=False, **kwargs)\n",
    "```\n",
    "\n",
    "- filter\n",
    " - 입력한 item, like, regex의 조건을 만족하는 index나 coulumn label로 자료를 추출한다.\n",
    "\n",
    "\n",
    "- query는 조건을 이용하여 boolean index를 생성하여 자료를 추출한다.\n",
    " - `expr`은 조건문의 표현이며 'string'으로 만들어 사용한다.\n",
    " - 조건에 변수를 사용할 경우에는 `@`를 붙여 사용한다."
   ]
  },
  {
   "cell_type": "markdown",
   "metadata": {
    "hideCode": false,
    "hidePrompt": false,
    "slideshow": {
     "slide_type": "slide"
    }
   },
   "source": [
    "### 새로운 행/열의 추가, 그리고 update\n",
    "\n",
    "- 새로운 행이나 열을 추가할 때는 `df1.append(row)`나 `pd.concat([df1,df2])`를 사용한다.\n",
    "\n",
    "\n",
    "- 열의 경우에는 `df[new_col] = values`와 같이 update 형식으로 새로운 열을 추가할 수 있다.\n",
    "- Documenet에는 `df.loc[new_col] = values`와 같이 가능하면 명시적인 방법을 사용할 것을 권한다. "
   ]
  },
  {
   "cell_type": "code",
   "execution_count": 55,
   "metadata": {
    "hideCode": false,
    "hidePrompt": false,
    "slideshow": {
     "slide_type": "slide"
    }
   },
   "outputs": [
    {
     "name": "stdout",
     "output_type": "stream",
     "text": [
      "   cat  dog  rabbit  hamster  parrot  silver_fox\n",
      "0    0    1       0        1       1           0\n",
      "1    2    0       2        0       0           0\n",
      "2    0    2       1        2       2           1\n"
     ]
    }
   ],
   "source": [
    "df.loc[:,\"silver_fox\"] = [0,0,1]\n",
    "print(df)"
   ]
  },
  {
   "cell_type": "code",
   "execution_count": 56,
   "metadata": {
    "hideCode": false,
    "hidePrompt": false
   },
   "outputs": [
    {
     "name": "stdout",
     "output_type": "stream",
     "text": [
      "   cat  dog  rabbit  hamster  parrot  silver_fox gardian\n",
      "0    0    1       0        1       1           0    Adam\n",
      "1    2    0       2        0       0           0   Betty\n",
      "2    0    2       1        2       2           1   Carol\n"
     ]
    }
   ],
   "source": [
    "df[\"gardian\"] = [\"Adam\", \"Betty\", \"Carol\"]\n",
    "print(df)"
   ]
  },
  {
   "cell_type": "markdown",
   "metadata": {
    "hideCode": false,
    "hidePrompt": false,
    "slideshow": {
     "slide_type": "slide"
    }
   },
   "source": [
    "- update를 할 경우 view와 copy를 확실히 구분할 자신이 없다면 명시적으로 처리한다."
   ]
  },
  {
   "cell_type": "code",
   "execution_count": 57,
   "metadata": {
    "hideCode": false,
    "hidePrompt": false
   },
   "outputs": [],
   "source": [
    "duplicate1 = df.copy()\n",
    "duplicate2 = df.copy()"
   ]
  },
  {
   "cell_type": "code",
   "execution_count": 58,
   "metadata": {
    "hideCode": false,
    "hidePrompt": false,
    "slideshow": {
     "slide_type": "slide"
    }
   },
   "outputs": [
    {
     "name": "stdout",
     "output_type": "stream",
     "text": [
      "duplicate1 before update: \n",
      "    cat  dog  rabbit  hamster  parrot  silver_fox gardian\n",
      "0    0    1       0        1       1           0    Adam\n",
      "1    2    0       2        0       0           0   Betty\n",
      "2    0    2       1        2       2           1   Carol\n",
      "\n",
      "updated view: \n",
      "    cat  dog  rabbit  hamster  parrot  silver_fox gardian\n",
      "0    0    1       0        1       1           0    Adam\n",
      "1    2    0       2        0       0           0   Betty\n",
      "2    0    2       1        2       2           2   Carol\n",
      "\n",
      "duplicate1 after updating view: \n",
      "    cat  dog  rabbit  hamster  parrot  silver_fox gardian\n",
      "0    0    1       0        1       1           0    Adam\n",
      "1    2    0       2        0       0           0   Betty\n",
      "2    0    2       1        2       2           2   Carol\n"
     ]
    }
   ],
   "source": [
    "print(\"duplicate1 before update: \\n\", duplicate1)\n",
    "\n",
    "view = duplicate1.iloc[:,:]\n",
    "view.loc[duplicate1.silver_fox >= 1, \"silver_fox\"] = 2\n",
    "print()\n",
    "print(\"updated view: \\n\", view)\n",
    "print()\n",
    "print(\"duplicate1 after updating view: \\n\", duplicate1)"
   ]
  },
  {
   "cell_type": "code",
   "execution_count": 59,
   "metadata": {
    "hideCode": false,
    "hidePrompt": false,
    "slideshow": {
     "slide_type": "slide"
    }
   },
   "outputs": [
    {
     "name": "stdout",
     "output_type": "stream",
     "text": [
      "updated copy: \n",
      "    cat  dog  rabbit  hamster  parrot  silver_fox gardian\n",
      "0    0    1       0        1       1           0    Adam\n",
      "1    2    0       2        0       0           0   Betty\n",
      "2    0    2       1        2       2           2   Carol\n",
      "\n",
      "duplicate2 after updating its copy: \n",
      "    cat  dog  rabbit  hamster  parrot  silver_fox gardian\n",
      "0    0    1       0        1       1           0    Adam\n",
      "1    2    0       2        0       0           0   Betty\n",
      "2    0    2       1        2       2           1   Carol\n"
     ]
    }
   ],
   "source": [
    "copy = duplicate2.copy()\n",
    "copy.loc[copy.silver_fox >= 1, \"silver_fox\"] = 2\n",
    "\n",
    "print(\"updated copy: \\n\", copy)\n",
    "print()\n",
    "print(\"duplicate2 after updating its copy: \\n\", duplicate2)"
   ]
  },
  {
   "cell_type": "markdown",
   "metadata": {
    "hideCode": false,
    "hidePrompt": false
   },
   "source": [
    "#### Deepcopy\n",
    "\n",
    "- Mutable object가 포함된 DataFrame을 복사하여 여러 작업에 사용하는 것은 가급적 피하는 것이 좋다.<br>\n",
    "- DataFrame의 경우 `copy.deepcopy()`역시 전체 구조를 온전히 복사하지 못하므로 다음과 같이 복사한다.\n",
    "\n",
    "```python\n",
    "pd.DataFrame(columns = df.columns, data = copy.deepcopy(df.values))\n",
    "```"
   ]
  },
  {
   "cell_type": "markdown",
   "metadata": {
    "hideCode": false,
    "hidePrompt": false,
    "slideshow": {
     "slide_type": "slide"
    }
   },
   "source": [
    "- 기초 통계량이나 기타 method들은 Series와 비슷하게 사용할 수 있다.\n",
    "\n",
    "\n",
    "- 다만 기준이 되는 축을 지정해 주어야 한다. \n",
    "- Pandas의 default는 세로방향, axis=0, 즉 각 열을 따라 위치한 원소들이다."
   ]
  },
  {
   "cell_type": "code",
   "execution_count": 60,
   "metadata": {
    "hideCode": false,
    "hidePrompt": false,
    "slideshow": {
     "slide_type": "slide"
    }
   },
   "outputs": [
    {
     "data": {
      "text/plain": [
       "cat           2\n",
       "dog           2\n",
       "rabbit        2\n",
       "hamster       2\n",
       "parrot        2\n",
       "silver_fox    1\n",
       "dtype: int64"
      ]
     },
     "execution_count": 60,
     "metadata": {},
     "output_type": "execute_result"
    }
   ],
   "source": [
    "df.iloc[:,:-1].max()"
   ]
  },
  {
   "cell_type": "markdown",
   "metadata": {
    "hideCode": false,
    "hidePrompt": false,
    "slideshow": {
     "slide_type": "slide"
    }
   },
   "source": [
    "### Index 정리\n",
    "\n",
    "- Default index는 `np.arange`이다. \n",
    "- 여러 DataFrame을 결합할 때는 기존 index를 유지할 수도, 새로 만들 수 있다.\n",
    "\n",
    "```\n",
    "DataFrame.reset_index(level=None, drop=False, inplace=False)\n",
    "```\n",
    "\n",
    "- 열의 값을 index로 사용할 수도 있다.\n",
    "\n",
    "```\n",
    "DataFrame.set_index(keys, drop=True, append=False, inplace=False)\n",
    "```"
   ]
  },
  {
   "cell_type": "code",
   "execution_count": 61,
   "metadata": {
    "hideCode": false,
    "hidePrompt": false
   },
   "outputs": [
    {
     "name": "stdout",
     "output_type": "stream",
     "text": [
      "   cat  dog  rabbit  hamster  parrot  silver_fox gardian\n",
      "b    0    1       0        1       1           0    Adam\n",
      "c    2    0       2        0       0           0   Betty\n",
      "a    0    2       1        2       2           1   Carol\n"
     ]
    }
   ],
   "source": [
    "df.index = list(\"bca\")\n",
    "print(df)"
   ]
  },
  {
   "cell_type": "code",
   "execution_count": 62,
   "metadata": {
    "hideCode": false,
    "hidePrompt": false,
    "slideshow": {
     "slide_type": "slide"
    }
   },
   "outputs": [
    {
     "name": "stdout",
     "output_type": "stream",
     "text": [
      "  index  cat  dog  rabbit  hamster  parrot  silver_fox gardian\n",
      "0     b    0    1       0        1       1           0    Adam\n",
      "1     c    2    0       2        0       0           0   Betty\n",
      "2     a    0    2       1        2       2           1   Carol\n",
      "\n",
      "         cat  dog  rabbit  hamster  parrot  silver_fox\n",
      "gardian                                               \n",
      "Adam       0    1       0        1       1           0\n",
      "Betty      2    0       2        0       0           0\n",
      "Carol      0    2       1        2       2           1\n"
     ]
    }
   ],
   "source": [
    "print(df.reset_index())\n",
    "print()\n",
    "df = df.set_index(\"gardian\")\n",
    "print(df)"
   ]
  },
  {
   "cell_type": "code",
   "execution_count": 63,
   "metadata": {
    "hideCode": false,
    "hidePrompt": false,
    "hide_input": false
   },
   "outputs": [
    {
     "data": {
      "text/plain": [
       "'gardian'"
      ]
     },
     "execution_count": 63,
     "metadata": {},
     "output_type": "execute_result"
    }
   ],
   "source": [
    "df.index.name  # df.index.names"
   ]
  },
  {
   "cell_type": "code",
   "execution_count": 64,
   "metadata": {
    "hideCode": false,
    "hidePrompt": false,
    "slideshow": {
     "slide_type": "slide"
    }
   },
   "outputs": [
    {
     "name": "stdout",
     "output_type": "stream",
     "text": [
      "         cat  dog  rabbit  hamster  parrot  silver_fox\n",
      "gardian                                               \n",
      "Carol      0    2       1        2       2           1\n",
      "Betty      2    0       2        0       0           0\n",
      "Adam       0    1       0        1       1           0\n",
      "\n",
      "         cat  dog  rabbit  hamster  parrot  silver_fox\n",
      "gardian                                               \n",
      "Betty      2    0       2        0       0           0\n",
      "Adam       0    1       0        1       1           0\n",
      "Carol      0    2       1        2       2           1\n"
     ]
    }
   ],
   "source": [
    "print(df.sort_index(ascending=False))\n",
    "print()\n",
    "print(df.sort_values(by=\"parrot\"))"
   ]
  },
  {
   "cell_type": "markdown",
   "metadata": {
    "hideCode": false,
    "hidePrompt": false
   },
   "source": [
    "### columns to index\n",
    "\n",
    "- `df.set_index()`는 column의 값으로 기존의 index로 대체한다.\n",
    "- column을 MultiIndex 중의 하나로 사용하고 싶을 때는 `stack`을 사용할 수 있다.\n",
    "\n",
    "```\n",
    "df.stack(level=-1, dropna=True)\n",
    "```\n",
    "\n",
    "- 반대로 `df.unstack()`는 index를 column으로 사용할 수 있게 한다."
   ]
  },
  {
   "cell_type": "code",
   "execution_count": 65,
   "metadata": {},
   "outputs": [
    {
     "name": "stdout",
     "output_type": "stream",
     "text": [
      "         cat  dog  rabbit  hamster  parrot  silver_fox\n",
      "gardian                                               \n",
      "Adam       0    1       0        1       1           0\n",
      "Betty      2    0       2        0       0           0\n",
      "Carol      0    2       1        2       2           1\n",
      "\n",
      "gardian            \n",
      "Adam     cat           0\n",
      "         dog           1\n",
      "         rabbit        0\n",
      "         hamster       1\n",
      "         parrot        1\n",
      "         silver_fox    0\n",
      "Betty    cat           2\n",
      "         dog           0\n",
      "         rabbit        2\n",
      "         hamster       0\n",
      "         parrot        0\n",
      "         silver_fox    0\n",
      "Carol    cat           0\n",
      "         dog           2\n",
      "         rabbit        1\n",
      "         hamster       2\n",
      "         parrot        2\n",
      "         silver_fox    1\n",
      "dtype: int64\n"
     ]
    }
   ],
   "source": [
    "print(df)\n",
    "print()\n",
    "stacked_df = df.stack()\n",
    "print(stacked_df)"
   ]
  },
  {
   "cell_type": "code",
   "execution_count": 66,
   "metadata": {},
   "outputs": [
    {
     "data": {
      "text/html": [
       "<div>\n",
       "<style scoped>\n",
       "    .dataframe tbody tr th:only-of-type {\n",
       "        vertical-align: middle;\n",
       "    }\n",
       "\n",
       "    .dataframe tbody tr th {\n",
       "        vertical-align: top;\n",
       "    }\n",
       "\n",
       "    .dataframe thead th {\n",
       "        text-align: right;\n",
       "    }\n",
       "</style>\n",
       "<table border=\"1\" class=\"dataframe\">\n",
       "  <thead>\n",
       "    <tr style=\"text-align: right;\">\n",
       "      <th></th>\n",
       "      <th>cat</th>\n",
       "      <th>dog</th>\n",
       "      <th>rabbit</th>\n",
       "      <th>hamster</th>\n",
       "      <th>parrot</th>\n",
       "      <th>silver_fox</th>\n",
       "    </tr>\n",
       "    <tr>\n",
       "      <th>gardian</th>\n",
       "      <th></th>\n",
       "      <th></th>\n",
       "      <th></th>\n",
       "      <th></th>\n",
       "      <th></th>\n",
       "      <th></th>\n",
       "    </tr>\n",
       "  </thead>\n",
       "  <tbody>\n",
       "    <tr>\n",
       "      <th>Adam</th>\n",
       "      <td>0</td>\n",
       "      <td>1</td>\n",
       "      <td>0</td>\n",
       "      <td>1</td>\n",
       "      <td>1</td>\n",
       "      <td>0</td>\n",
       "    </tr>\n",
       "    <tr>\n",
       "      <th>Betty</th>\n",
       "      <td>2</td>\n",
       "      <td>0</td>\n",
       "      <td>2</td>\n",
       "      <td>0</td>\n",
       "      <td>0</td>\n",
       "      <td>0</td>\n",
       "    </tr>\n",
       "    <tr>\n",
       "      <th>Carol</th>\n",
       "      <td>0</td>\n",
       "      <td>2</td>\n",
       "      <td>1</td>\n",
       "      <td>2</td>\n",
       "      <td>2</td>\n",
       "      <td>1</td>\n",
       "    </tr>\n",
       "  </tbody>\n",
       "</table>\n",
       "</div>"
      ],
      "text/plain": [
       "         cat  dog  rabbit  hamster  parrot  silver_fox\n",
       "gardian                                               \n",
       "Adam       0    1       0        1       1           0\n",
       "Betty      2    0       2        0       0           0\n",
       "Carol      0    2       1        2       2           1"
      ]
     },
     "execution_count": 66,
     "metadata": {},
     "output_type": "execute_result"
    }
   ],
   "source": [
    "stacked_df.unstack()"
   ]
  },
  {
   "cell_type": "markdown",
   "metadata": {
    "hideCode": false,
    "hidePrompt": false,
    "slideshow": {
     "slide_type": "slide"
    }
   },
   "source": [
    "### Indexing and Slicing\n",
    "\n",
    "- `MultiIndex` 여부에 관계없이 `df.iloc[]`는 순서에만 고려한다. 즉 행과 열에 해당하는 2개의 수만 지정한다.\n",
    "- MultiIndex에 `df.loc[]`를 적용할 때는 index를 순서대로 정리한 tuple을 이용한다.\n",
    "\n",
    "\n",
    "- Slicing한 결과물이 하나의 행이나 열인 경우 Series로 출력한다.<br>\n",
    "- DataFrame이 필요하다면 `Series.to_frame()`으로 변환한다."
   ]
  },
  {
   "cell_type": "code",
   "execution_count": 67,
   "metadata": {
    "hideCode": false,
    "hidePrompt": false,
    "slideshow": {
     "slide_type": "slide"
    }
   },
   "outputs": [
    {
     "name": "stdout",
     "output_type": "stream",
     "text": [
      "                  a         b         c         d\n",
      "year name                                        \n",
      "2015 Bob   1.764052  0.400157  0.978738  2.240893\n",
      "     Cam   1.867558 -0.977278  0.950088 -0.151357\n",
      "     Dan  -0.103219  0.410599  0.144044  1.454274\n",
      "2016 Ari   0.761038  0.121675  0.443863  0.333674\n",
      "     Bob   1.494079 -0.205158  0.313068 -0.854096\n",
      "     Cam  -2.552990  0.653619  0.864436 -0.742165\n",
      "\n",
      "a    1.867558\n",
      "b   -0.977278\n",
      "c    0.950088\n",
      "d   -0.151357\n",
      "Name: (2015, Cam), dtype: float64\n",
      "\n",
      "       2015\n",
      "        Cam\n",
      "a  1.867558\n",
      "b -0.977278\n",
      "c  0.950088\n",
      "d -0.151357\n"
     ]
    }
   ],
   "source": [
    "panel = pd.DataFrame(np.random.RandomState(0).randn(6,4), index = multi_index, columns = list(\"abcd\"))\n",
    "print(panel)\n",
    "print()\n",
    "print(panel.loc[(\"2015\",\"Cam\"),:])\n",
    "print()\n",
    "print(panel.loc[(\"2015\",\"Cam\"),:].to_frame())"
   ]
  },
  {
   "cell_type": "markdown",
   "metadata": {
    "slideshow": {
     "slide_type": "slide"
    }
   },
   "source": [
    "#### `slice`\n",
    "\n",
    "- `df.loc[]`에는 `slice()` 혹은 `pd.IndexSlice`를 사용할 수 있다.<br>\n",
    "\n",
    "```\n",
    "slice(start, stop, step)\n",
    "```\n",
    "\n",
    "- Slicing에선 순서상 나중 것이 앞에 올 수 없기 때문에, MultiIndex를 slicing할 때 index의 '순서'에 주의한다.\n",
    "- 따라서 slice를 사용할 때는 `df.sort_index(level=None)`를 먼저 적용할 필요가 있다.\n",
    "\n",
    "\n",
    "- `slice(None)`은 wild card 역할을 한다."
   ]
  },
  {
   "cell_type": "code",
   "execution_count": 68,
   "metadata": {
    "hideCode": false,
    "hidePrompt": false,
    "slideshow": {
     "slide_type": "slide"
    }
   },
   "outputs": [
    {
     "name": "stdout",
     "output_type": "stream",
     "text": [
      "                  a         b         c         d\n",
      "year name                                        \n",
      "2015 Bob   1.764052  0.400157  0.978738  2.240893\n",
      "2016 Ari   0.761038  0.121675  0.443863  0.333674\n",
      "     Bob   1.494079 -0.205158  0.313068 -0.854096\n",
      "\n",
      "                  a         b         c         d\n",
      "year name                                        \n",
      "2015 Bob   1.764052  0.400157  0.978738  2.240893\n",
      "2016 Ari   0.761038  0.121675  0.443863  0.333674\n",
      "     Bob   1.494079 -0.205158  0.313068 -0.854096\n",
      "\n",
      "                  a         c\n",
      "year name                    \n",
      "2015 Bob   1.764052  0.978738\n",
      "2016 Ari   0.761038  0.443863\n",
      "     Bob   1.494079  0.313068\n"
     ]
    }
   ],
   "source": [
    "print(panel.loc[((\"2015\", \"2016\"), (\"Ari\",\"Bob\")),:])\n",
    "print()\n",
    "print(panel.loc[(slice(None), slice(\"Ari\",\"Bob\")),:])\n",
    "print()\n",
    "print(panel.loc[(slice(None), slice(\"Ari\",\"Bob\")) , slice(\"a\",\"d\", 2)])"
   ]
  },
  {
   "cell_type": "markdown",
   "metadata": {
    "hideCode": false,
    "hidePrompt": false,
    "slideshow": {
     "slide_type": "slide"
    }
   },
   "source": [
    "- `pd.IndexSlice[]`는 slice를 대괄호 문법(`[level 0, level 1]`)과 같이 직관적으로 시용할 수 있게 해준다.\n",
    "- `pd.IndexSlice`는 보통 변수로 지정하여 사용한다."
   ]
  },
  {
   "cell_type": "code",
   "execution_count": 69,
   "metadata": {
    "hideCode": false,
    "hidePrompt": false,
    "slideshow": {
     "slide_type": "slide"
    }
   },
   "outputs": [
    {
     "data": {
      "text/html": [
       "<div>\n",
       "<style scoped>\n",
       "    .dataframe tbody tr th:only-of-type {\n",
       "        vertical-align: middle;\n",
       "    }\n",
       "\n",
       "    .dataframe tbody tr th {\n",
       "        vertical-align: top;\n",
       "    }\n",
       "\n",
       "    .dataframe thead th {\n",
       "        text-align: right;\n",
       "    }\n",
       "</style>\n",
       "<table border=\"1\" class=\"dataframe\">\n",
       "  <thead>\n",
       "    <tr style=\"text-align: right;\">\n",
       "      <th></th>\n",
       "      <th></th>\n",
       "      <th>a</th>\n",
       "      <th>b</th>\n",
       "      <th>c</th>\n",
       "    </tr>\n",
       "    <tr>\n",
       "      <th>year</th>\n",
       "      <th>name</th>\n",
       "      <th></th>\n",
       "      <th></th>\n",
       "      <th></th>\n",
       "    </tr>\n",
       "  </thead>\n",
       "  <tbody>\n",
       "    <tr>\n",
       "      <th>2015</th>\n",
       "      <th>Cam</th>\n",
       "      <td>1.867558</td>\n",
       "      <td>-0.977278</td>\n",
       "      <td>0.950088</td>\n",
       "    </tr>\n",
       "    <tr>\n",
       "      <th>2016</th>\n",
       "      <th>Cam</th>\n",
       "      <td>-2.552990</td>\n",
       "      <td>0.653619</td>\n",
       "      <td>0.864436</td>\n",
       "    </tr>\n",
       "  </tbody>\n",
       "</table>\n",
       "</div>"
      ],
      "text/plain": [
       "                  a         b         c\n",
       "year name                              \n",
       "2015 Cam   1.867558 -0.977278  0.950088\n",
       "2016 Cam  -2.552990  0.653619  0.864436"
      ]
     },
     "execution_count": 69,
     "metadata": {},
     "output_type": "execute_result"
    }
   ],
   "source": [
    "idx = pd.IndexSlice\n",
    "panel.loc[idx[:, \"Cam\"], idx[:'c']]"
   ]
  },
  {
   "cell_type": "markdown",
   "metadata": {},
   "source": [
    "- column 역시 hierarchical indexing이 가능하지만 pivot이나 unstack을 사용해 간접적으로 만들어야 한다."
   ]
  },
  {
   "cell_type": "markdown",
   "metadata": {
    "hideCode": false,
    "hidePrompt": false,
    "slideshow": {
     "slide_type": "slide"
    }
   },
   "source": [
    "#### function and method\n",
    "\n",
    "function and method | description | function and method | description\n",
    ":--|:-- | :-- | :--\n",
    "dtype() | data type | size()|\tgroup sizes \n",
    "head(n=5) | display the first n rows | tail(n=5) | display the last n rows\n",
    "count()|\tcount of group | sum() |\tsum of group values \n",
    "abs() | Absolute value | prod() | prod of group values\n",
    "mean()|\tmean of groups | std()|\tStandard deviation of groups \n",
    "var()|\tvariance of groups | mode()| Mode\n",
    "mad()| Mean absolute deviation | median() | Arithmetic median of values\n",
    "skew() | Sample skewness | kurt() | Sample kurtosis\n",
    "cumsum()| cumulative sum | cumprod() | cumulative product\n",
    "rank() | the rank of values within each group | sem()|\tStandard error of the mean of groups \n",
    "first()|\tinitial period of time series | last()|\tlast period of time series\n",
    "nth()|\tTake nth value, or a subset if n is a list |quantile()| sample quantile (value at %)\n",
    "min()| Compute min of group values | max()| Compute max of group values\n",
    "cummin() | cumulative min of group values  | cummax() | cumulative max of group values"
   ]
  },
  {
   "cell_type": "markdown",
   "metadata": {
    "hideCode": false,
    "hidePrompt": false,
    "slideshow": {
     "slide_type": "slide"
    }
   },
   "source": [
    "## DataFrame 의 결합\n",
    "\n",
    "```python\n",
    "df1.append(df2, sort=)\n",
    "pd.concat([s1,s2,...,sn], axis=0, join=\"outer\", ignore_index=False, sort=)     \n",
    "```"
   ]
  },
  {
   "cell_type": "markdown",
   "metadata": {},
   "source": [
    "### join\n",
    "\n",
    "- join keyword는 결합하면서 남겨야할 index(axis=1 일 때)나 column(axis=0 일 때)을 결정한다."
   ]
  },
  {
   "cell_type": "code",
   "execution_count": 70,
   "metadata": {
    "hideCode": false,
    "hidePrompt": false,
    "slideshow": {
     "slide_type": "slide"
    }
   },
   "outputs": [],
   "source": [
    "df1 = pd.DataFrame([['a', 1], ['b', 2]], columns=['letter', 'number'])\n",
    "df2 = pd.DataFrame([['c', 3], ['d', 4]], columns=['letter', 'number'])\n",
    "df3 = pd.DataFrame([['c', 3, 'cat'], ['d', 4, 'dog']], columns=['letter', 'number', 'animal'])"
   ]
  },
  {
   "cell_type": "code",
   "execution_count": 71,
   "metadata": {
    "hideCode": false,
    "hidePrompt": false,
    "slideshow": {
     "slide_type": "fragment"
    }
   },
   "outputs": [
    {
     "data": {
      "text/html": [
       "<div>\n",
       "<style scoped>\n",
       "    .dataframe tbody tr th:only-of-type {\n",
       "        vertical-align: middle;\n",
       "    }\n",
       "\n",
       "    .dataframe tbody tr th {\n",
       "        vertical-align: top;\n",
       "    }\n",
       "\n",
       "    .dataframe thead th {\n",
       "        text-align: right;\n",
       "    }\n",
       "</style>\n",
       "<table border=\"1\" class=\"dataframe\">\n",
       "  <thead>\n",
       "    <tr style=\"text-align: right;\">\n",
       "      <th></th>\n",
       "      <th>letter</th>\n",
       "      <th>number</th>\n",
       "    </tr>\n",
       "  </thead>\n",
       "  <tbody>\n",
       "    <tr>\n",
       "      <th>0</th>\n",
       "      <td>a</td>\n",
       "      <td>1</td>\n",
       "    </tr>\n",
       "    <tr>\n",
       "      <th>1</th>\n",
       "      <td>b</td>\n",
       "      <td>2</td>\n",
       "    </tr>\n",
       "    <tr>\n",
       "      <th>0</th>\n",
       "      <td>c</td>\n",
       "      <td>3</td>\n",
       "    </tr>\n",
       "    <tr>\n",
       "      <th>1</th>\n",
       "      <td>d</td>\n",
       "      <td>4</td>\n",
       "    </tr>\n",
       "  </tbody>\n",
       "</table>\n",
       "</div>"
      ],
      "text/plain": [
       "  letter  number\n",
       "0      a       1\n",
       "1      b       2\n",
       "0      c       3\n",
       "1      d       4"
      ]
     },
     "execution_count": 71,
     "metadata": {},
     "output_type": "execute_result"
    }
   ],
   "source": [
    "pd.concat([df1, df2])"
   ]
  },
  {
   "cell_type": "code",
   "execution_count": 72,
   "metadata": {
    "hideCode": false,
    "hidePrompt": false,
    "slideshow": {
     "slide_type": "fragment"
    }
   },
   "outputs": [
    {
     "data": {
      "text/html": [
       "<div>\n",
       "<style scoped>\n",
       "    .dataframe tbody tr th:only-of-type {\n",
       "        vertical-align: middle;\n",
       "    }\n",
       "\n",
       "    .dataframe tbody tr th {\n",
       "        vertical-align: top;\n",
       "    }\n",
       "\n",
       "    .dataframe thead th {\n",
       "        text-align: right;\n",
       "    }\n",
       "</style>\n",
       "<table border=\"1\" class=\"dataframe\">\n",
       "  <thead>\n",
       "    <tr style=\"text-align: right;\">\n",
       "      <th></th>\n",
       "      <th>letter</th>\n",
       "      <th>number</th>\n",
       "    </tr>\n",
       "  </thead>\n",
       "  <tbody>\n",
       "    <tr>\n",
       "      <th>0</th>\n",
       "      <td>a</td>\n",
       "      <td>1</td>\n",
       "    </tr>\n",
       "    <tr>\n",
       "      <th>1</th>\n",
       "      <td>b</td>\n",
       "      <td>2</td>\n",
       "    </tr>\n",
       "    <tr>\n",
       "      <th>0</th>\n",
       "      <td>c</td>\n",
       "      <td>3</td>\n",
       "    </tr>\n",
       "    <tr>\n",
       "      <th>1</th>\n",
       "      <td>d</td>\n",
       "      <td>4</td>\n",
       "    </tr>\n",
       "  </tbody>\n",
       "</table>\n",
       "</div>"
      ],
      "text/plain": [
       "  letter  number\n",
       "0      a       1\n",
       "1      b       2\n",
       "0      c       3\n",
       "1      d       4"
      ]
     },
     "execution_count": 72,
     "metadata": {},
     "output_type": "execute_result"
    }
   ],
   "source": [
    "pd.concat([df1, df3], join=\"inner\")"
   ]
  },
  {
   "cell_type": "code",
   "execution_count": 73,
   "metadata": {
    "hideCode": false,
    "hidePrompt": false,
    "slideshow": {
     "slide_type": "fragment"
    }
   },
   "outputs": [
    {
     "data": {
      "text/html": [
       "<div>\n",
       "<style scoped>\n",
       "    .dataframe tbody tr th:only-of-type {\n",
       "        vertical-align: middle;\n",
       "    }\n",
       "\n",
       "    .dataframe tbody tr th {\n",
       "        vertical-align: top;\n",
       "    }\n",
       "\n",
       "    .dataframe thead th {\n",
       "        text-align: right;\n",
       "    }\n",
       "</style>\n",
       "<table border=\"1\" class=\"dataframe\">\n",
       "  <thead>\n",
       "    <tr style=\"text-align: right;\">\n",
       "      <th></th>\n",
       "      <th>letter</th>\n",
       "      <th>number</th>\n",
       "      <th>animal</th>\n",
       "    </tr>\n",
       "  </thead>\n",
       "  <tbody>\n",
       "    <tr>\n",
       "      <th>0</th>\n",
       "      <td>a</td>\n",
       "      <td>1</td>\n",
       "      <td>NaN</td>\n",
       "    </tr>\n",
       "    <tr>\n",
       "      <th>1</th>\n",
       "      <td>b</td>\n",
       "      <td>2</td>\n",
       "      <td>NaN</td>\n",
       "    </tr>\n",
       "    <tr>\n",
       "      <th>0</th>\n",
       "      <td>c</td>\n",
       "      <td>3</td>\n",
       "      <td>cat</td>\n",
       "    </tr>\n",
       "    <tr>\n",
       "      <th>1</th>\n",
       "      <td>d</td>\n",
       "      <td>4</td>\n",
       "      <td>dog</td>\n",
       "    </tr>\n",
       "  </tbody>\n",
       "</table>\n",
       "</div>"
      ],
      "text/plain": [
       "  letter  number animal\n",
       "0      a       1    NaN\n",
       "1      b       2    NaN\n",
       "0      c       3    cat\n",
       "1      d       4    dog"
      ]
     },
     "execution_count": 73,
     "metadata": {},
     "output_type": "execute_result"
    }
   ],
   "source": [
    "pd.concat([df1, df3], join=\"outer\")"
   ]
  },
  {
   "cell_type": "markdown",
   "metadata": {},
   "source": [
    "### 수직 합치기: append, concat\n",
    "\n",
    "- DataFrame을 axis=0 으로 결합한다.\n",
    "같은 columns 이름을 공유하지 않으면 NaN으로 처리한다.\n",
    "\n",
    "```python\n",
    "df1.append(df1)\n",
    "pd.concat([df1, df2], axis=0)\n",
    "```"
   ]
  },
  {
   "cell_type": "code",
   "execution_count": 74,
   "metadata": {},
   "outputs": [
    {
     "data": {
      "text/html": [
       "<div>\n",
       "<style scoped>\n",
       "    .dataframe tbody tr th:only-of-type {\n",
       "        vertical-align: middle;\n",
       "    }\n",
       "\n",
       "    .dataframe tbody tr th {\n",
       "        vertical-align: top;\n",
       "    }\n",
       "\n",
       "    .dataframe thead th {\n",
       "        text-align: right;\n",
       "    }\n",
       "</style>\n",
       "<table border=\"1\" class=\"dataframe\">\n",
       "  <thead>\n",
       "    <tr style=\"text-align: right;\">\n",
       "      <th></th>\n",
       "      <th>0</th>\n",
       "      <th>1</th>\n",
       "    </tr>\n",
       "  </thead>\n",
       "  <tbody>\n",
       "    <tr>\n",
       "      <th>0</th>\n",
       "      <td>1</td>\n",
       "      <td>NaN</td>\n",
       "    </tr>\n",
       "    <tr>\n",
       "      <th>1</th>\n",
       "      <td>2</td>\n",
       "      <td>NaN</td>\n",
       "    </tr>\n",
       "    <tr>\n",
       "      <th>0</th>\n",
       "      <td>1</td>\n",
       "      <td>2.0</td>\n",
       "    </tr>\n",
       "    <tr>\n",
       "      <th>1</th>\n",
       "      <td>3</td>\n",
       "      <td>4.0</td>\n",
       "    </tr>\n",
       "  </tbody>\n",
       "</table>\n",
       "</div>"
      ],
      "text/plain": [
       "   0    1\n",
       "0  1  NaN\n",
       "1  2  NaN\n",
       "0  1  2.0\n",
       "1  3  4.0"
      ]
     },
     "execution_count": 74,
     "metadata": {},
     "output_type": "execute_result"
    }
   ],
   "source": [
    "a = pd.DataFrame([1,2])\n",
    "b = pd.DataFrame([[1,2],[3,4]])\n",
    "\n",
    "a.append(b)\n",
    "pd.concat([a,b])"
   ]
  },
  {
   "cell_type": "markdown",
   "metadata": {},
   "source": [
    "### 수평 합치기: concat, merge\n",
    "\n",
    "- 동일한 index 혹은 index를 기준으로 여러개의 열을 결합"
   ]
  },
  {
   "cell_type": "code",
   "execution_count": 75,
   "metadata": {},
   "outputs": [
    {
     "name": "stdout",
     "output_type": "stream",
     "text": [
      "   0  0  1\n",
      "0  1  1  2\n",
      "1  2  3  4\n",
      "   0    1\n",
      "0  1  2.0\n",
      "1  2  NaN\n",
      "2  3  4.0\n"
     ]
    }
   ],
   "source": [
    "print(pd.concat([a,b], 1))\n",
    "print(pd.merge(a, b, how='outer'))"
   ]
  },
  {
   "cell_type": "markdown",
   "metadata": {},
   "source": [
    "#### 같은 이름과 유형의 열을 기준으로 합치기: merge\n",
    "\n",
    "- 이 때 기준이 되는 열, 행의 데이터를 키(key)라고 한다.\n",
    "- key index, key colum\n",
    "\n",
    "\n",
    "```python\n",
    "pd.merge(left, right, how='inner', on=None, left_on=None, right_on=None, left_index=False, right_index=False)\n",
    "df.merge(right, how='inner', ...)         \n",
    "```\n",
    "    - 왼쪽 DataFrame의 index를 기준: left_index=True, right_index=True, how='left'\n",
    "    - 오른쪽 DataFrame의 index를 기준: left_index=True, right_index=True, how='right'\n",
    "    - 공통된 index만 고려: left_index=True, right_index=True, how='inner'\n",
    "    - 모든 index를 고려: left_index=True, right_index=True, how='outer'\n",
    "\n",
    "- key는 같은 이름을 갖는 모든 column이며 일부를 사용하려면 on을 지정한다.\n",
    "- key가 두 DataFrame에서 다르다면 left_on='col_left', right_on=\"col_right\"\n",
    "\n",
    "\n",
    "    - 왼쪽 DataFrame의 column을 기준: how='left', on='col_name'\n",
    "    - 오른쪽 DataFrame의 column을 기준: how='right', on='col_name'\n",
    "\n",
    "\n",
    "- column을 index와 같이 취급하여 결합\n",
    "- 결합하는 DataFrame이 동일한 column 이름과 자료 유형을 갖는다.\n"
   ]
  },
  {
   "cell_type": "markdown",
   "metadata": {
    "collapsed": true,
    "hideCode": false,
    "hidePrompt": false,
    "slideshow": {
     "slide_type": "slide"
    }
   },
   "source": [
    "### `pd.DataFrame`의 연결\n",
    "\n",
    "`pd.DataFrame`은 merge, join, concaternate로 결합이 가능하다.\n",
    "\n",
    "`pandas.concat([obj1, obj2, ...], axis=0, join='outer')`"
   ]
  },
  {
   "cell_type": "markdown",
   "metadata": {
    "hideCode": false,
    "hidePrompt": false,
    "slideshow": {
     "slide_type": "slide"
    }
   },
   "source": [
    "## 조건부 통계량과 groupby()\n",
    "\n",
    "- 자료의 일부를 추출하거나 일부에 연산을 적용할 때는 `boolean index`, `df.filter()`, `np.where()`, `df.query()`를 많이 사용한다.\n",
    "\n",
    "\n",
    "- 주어진 자료에서 원하는 조건부 통계량을 구할 때는 groupby와 pivot_table을 사용한다. EDA의 가장 중요한 tool 중 하나로 다음의 단계로 이루어진다.<br>\n",
    "\n",
    "\n",
    "1. 객체의 분할 splitting the Object\n",
    "2. 분할한 각 group에 원하는 함수 적용 applying a function \n",
    " - aggregation - summary statistic, group에 적용할 수 있는 일반적인 function\n",
    " - transformation - group-specific operation\n",
    " - filteration - discarding the data with some conditions\n",
    "3. 결과를 통합 combine"
   ]
  },
  {
   "cell_type": "markdown",
   "metadata": {
    "hideCode": false,
    "hidePrompt": false
   },
   "source": [
    "### Groupby\n",
    "\n",
    "1. Sort by keys\n",
    "2. apply a function to each group\n",
    "3. combine the results"
   ]
  },
  {
   "cell_type": "code",
   "execution_count": 76,
   "metadata": {
    "hideCode": false,
    "hidePrompt": false,
    "slideshow": {
     "slide_type": "slide"
    }
   },
   "outputs": [
    {
     "name": "stdout",
     "output_type": "stream",
     "text": [
      "a    0.251871\n",
      "b   -0.482900\n",
      "c   -0.333411\n",
      "dtype: float64\n"
     ]
    }
   ],
   "source": [
    "s = pd.Series(np.random.RandomState(42).randn(30), index=list('abc')*10)\n",
    "print(s.groupby(by=s.index).mean())"
   ]
  },
  {
   "cell_type": "markdown",
   "metadata": {
    "hideCode": false,
    "hidePrompt": false,
    "slideshow": {
     "slide_type": "slide"
    }
   },
   "source": [
    "- Titanic 자료를 예제로 사용한다.\n",
    "\n",
    "- 분석 전에 자료의 기초 정보를 확인한다.\n",
    " - 지나치게 크거나 작은 값이 있는지 확인한다.\n",
    " - missing value를 확인한다.\n",
    " - 특정 조건을 만족하는 관찰값을 확인한다."
   ]
  },
  {
   "cell_type": "code",
   "execution_count": 77,
   "metadata": {
    "hideCode": false,
    "hidePrompt": false,
    "slideshow": {
     "slide_type": "fragment"
    }
   },
   "outputs": [
    {
     "data": {
      "text/html": [
       "<div>\n",
       "<style scoped>\n",
       "    .dataframe tbody tr th:only-of-type {\n",
       "        vertical-align: middle;\n",
       "    }\n",
       "\n",
       "    .dataframe tbody tr th {\n",
       "        vertical-align: top;\n",
       "    }\n",
       "\n",
       "    .dataframe thead th {\n",
       "        text-align: right;\n",
       "    }\n",
       "</style>\n",
       "<table border=\"1\" class=\"dataframe\">\n",
       "  <thead>\n",
       "    <tr style=\"text-align: right;\">\n",
       "      <th></th>\n",
       "      <th>survived</th>\n",
       "      <th>pclass</th>\n",
       "      <th>sex</th>\n",
       "      <th>age</th>\n",
       "      <th>sibsp</th>\n",
       "      <th>parch</th>\n",
       "      <th>fare</th>\n",
       "      <th>embarked</th>\n",
       "    </tr>\n",
       "  </thead>\n",
       "  <tbody>\n",
       "    <tr>\n",
       "      <th>0</th>\n",
       "      <td>1</td>\n",
       "      <td>1</td>\n",
       "      <td>female</td>\n",
       "      <td>29.0000</td>\n",
       "      <td>0</td>\n",
       "      <td>0</td>\n",
       "      <td>211.3375</td>\n",
       "      <td>S</td>\n",
       "    </tr>\n",
       "    <tr>\n",
       "      <th>1</th>\n",
       "      <td>1</td>\n",
       "      <td>1</td>\n",
       "      <td>male</td>\n",
       "      <td>0.9167</td>\n",
       "      <td>1</td>\n",
       "      <td>2</td>\n",
       "      <td>151.5500</td>\n",
       "      <td>S</td>\n",
       "    </tr>\n",
       "    <tr>\n",
       "      <th>2</th>\n",
       "      <td>0</td>\n",
       "      <td>1</td>\n",
       "      <td>female</td>\n",
       "      <td>2.0000</td>\n",
       "      <td>1</td>\n",
       "      <td>2</td>\n",
       "      <td>151.5500</td>\n",
       "      <td>S</td>\n",
       "    </tr>\n",
       "    <tr>\n",
       "      <th>3</th>\n",
       "      <td>0</td>\n",
       "      <td>1</td>\n",
       "      <td>male</td>\n",
       "      <td>30.0000</td>\n",
       "      <td>1</td>\n",
       "      <td>2</td>\n",
       "      <td>151.5500</td>\n",
       "      <td>S</td>\n",
       "    </tr>\n",
       "    <tr>\n",
       "      <th>4</th>\n",
       "      <td>0</td>\n",
       "      <td>1</td>\n",
       "      <td>female</td>\n",
       "      <td>25.0000</td>\n",
       "      <td>1</td>\n",
       "      <td>2</td>\n",
       "      <td>151.5500</td>\n",
       "      <td>S</td>\n",
       "    </tr>\n",
       "  </tbody>\n",
       "</table>\n",
       "</div>"
      ],
      "text/plain": [
       "   survived  pclass     sex      age  sibsp  parch      fare embarked\n",
       "0         1       1  female  29.0000      0      0  211.3375        S\n",
       "1         1       1    male   0.9167      1      2  151.5500        S\n",
       "2         0       1  female   2.0000      1      2  151.5500        S\n",
       "3         0       1    male  30.0000      1      2  151.5500        S\n",
       "4         0       1  female  25.0000      1      2  151.5500        S"
      ]
     },
     "execution_count": 77,
     "metadata": {},
     "output_type": "execute_result"
    }
   ],
   "source": [
    "titanic_processed = 'https://raw.githubusercontent.com/k5yi/econ2005/master/datasets/titanic_processed.csv'\n",
    "df = pd.read_csv(titanic_processed)\n",
    "df.head()"
   ]
  },
  {
   "cell_type": "code",
   "execution_count": 78,
   "metadata": {},
   "outputs": [
    {
     "name": "stdout",
     "output_type": "stream",
     "text": [
      "<class 'pandas.core.frame.DataFrame'>\n",
      "RangeIndex: 1305 entries, 0 to 1304\n",
      "Data columns (total 8 columns):\n",
      " #   Column    Non-Null Count  Dtype  \n",
      "---  ------    --------------  -----  \n",
      " 0   survived  1305 non-null   int64  \n",
      " 1   pclass    1305 non-null   int64  \n",
      " 2   sex       1305 non-null   object \n",
      " 3   age       1305 non-null   float64\n",
      " 4   sibsp     1305 non-null   int64  \n",
      " 5   parch     1305 non-null   int64  \n",
      " 6   fare      1305 non-null   float64\n",
      " 7   embarked  1305 non-null   object \n",
      "dtypes: float64(2), int64(4), object(2)\n",
      "memory usage: 81.7+ KB\n"
     ]
    },
    {
     "data": {
      "text/html": [
       "<div>\n",
       "<style scoped>\n",
       "    .dataframe tbody tr th:only-of-type {\n",
       "        vertical-align: middle;\n",
       "    }\n",
       "\n",
       "    .dataframe tbody tr th {\n",
       "        vertical-align: top;\n",
       "    }\n",
       "\n",
       "    .dataframe thead th {\n",
       "        text-align: right;\n",
       "    }\n",
       "</style>\n",
       "<table border=\"1\" class=\"dataframe\">\n",
       "  <thead>\n",
       "    <tr style=\"text-align: right;\">\n",
       "      <th></th>\n",
       "      <th>survived</th>\n",
       "      <th>pclass</th>\n",
       "      <th>age</th>\n",
       "      <th>sibsp</th>\n",
       "      <th>parch</th>\n",
       "      <th>fare</th>\n",
       "    </tr>\n",
       "  </thead>\n",
       "  <tbody>\n",
       "    <tr>\n",
       "      <th>count</th>\n",
       "      <td>1305.000000</td>\n",
       "      <td>1305.000000</td>\n",
       "      <td>1305.000000</td>\n",
       "      <td>1305.000000</td>\n",
       "      <td>1305.000000</td>\n",
       "      <td>1305.000000</td>\n",
       "    </tr>\n",
       "    <tr>\n",
       "      <th>mean</th>\n",
       "      <td>0.381609</td>\n",
       "      <td>2.297318</td>\n",
       "      <td>29.387101</td>\n",
       "      <td>0.500383</td>\n",
       "      <td>0.386207</td>\n",
       "      <td>33.464153</td>\n",
       "    </tr>\n",
       "    <tr>\n",
       "      <th>std</th>\n",
       "      <td>0.485968</td>\n",
       "      <td>0.836587</td>\n",
       "      <td>13.139617</td>\n",
       "      <td>1.042888</td>\n",
       "      <td>0.866624</td>\n",
       "      <td>51.683545</td>\n",
       "    </tr>\n",
       "    <tr>\n",
       "      <th>min</th>\n",
       "      <td>0.000000</td>\n",
       "      <td>1.000000</td>\n",
       "      <td>0.166700</td>\n",
       "      <td>0.000000</td>\n",
       "      <td>0.000000</td>\n",
       "      <td>3.170800</td>\n",
       "    </tr>\n",
       "    <tr>\n",
       "      <th>25%</th>\n",
       "      <td>0.000000</td>\n",
       "      <td>2.000000</td>\n",
       "      <td>22.000000</td>\n",
       "      <td>0.000000</td>\n",
       "      <td>0.000000</td>\n",
       "      <td>7.925000</td>\n",
       "    </tr>\n",
       "    <tr>\n",
       "      <th>50%</th>\n",
       "      <td>0.000000</td>\n",
       "      <td>3.000000</td>\n",
       "      <td>29.000000</td>\n",
       "      <td>0.000000</td>\n",
       "      <td>0.000000</td>\n",
       "      <td>14.458300</td>\n",
       "    </tr>\n",
       "    <tr>\n",
       "      <th>75%</th>\n",
       "      <td>1.000000</td>\n",
       "      <td>3.000000</td>\n",
       "      <td>35.500000</td>\n",
       "      <td>1.000000</td>\n",
       "      <td>0.000000</td>\n",
       "      <td>31.275000</td>\n",
       "    </tr>\n",
       "    <tr>\n",
       "      <th>max</th>\n",
       "      <td>1.000000</td>\n",
       "      <td>3.000000</td>\n",
       "      <td>80.000000</td>\n",
       "      <td>8.000000</td>\n",
       "      <td>9.000000</td>\n",
       "      <td>512.329200</td>\n",
       "    </tr>\n",
       "  </tbody>\n",
       "</table>\n",
       "</div>"
      ],
      "text/plain": [
       "          survived       pclass          age        sibsp        parch  \\\n",
       "count  1305.000000  1305.000000  1305.000000  1305.000000  1305.000000   \n",
       "mean      0.381609     2.297318    29.387101     0.500383     0.386207   \n",
       "std       0.485968     0.836587    13.139617     1.042888     0.866624   \n",
       "min       0.000000     1.000000     0.166700     0.000000     0.000000   \n",
       "25%       0.000000     2.000000    22.000000     0.000000     0.000000   \n",
       "50%       0.000000     3.000000    29.000000     0.000000     0.000000   \n",
       "75%       1.000000     3.000000    35.500000     1.000000     0.000000   \n",
       "max       1.000000     3.000000    80.000000     8.000000     9.000000   \n",
       "\n",
       "              fare  \n",
       "count  1305.000000  \n",
       "mean     33.464153  \n",
       "std      51.683545  \n",
       "min       3.170800  \n",
       "25%       7.925000  \n",
       "50%      14.458300  \n",
       "75%      31.275000  \n",
       "max     512.329200  "
      ]
     },
     "execution_count": 78,
     "metadata": {},
     "output_type": "execute_result"
    }
   ],
   "source": [
    "df.info()\n",
    "df.describe()"
   ]
  },
  {
   "cell_type": "markdown",
   "metadata": {
    "hideCode": false,
    "hidePrompt": false,
    "slideshow": {
     "slide_type": "slide"
    }
   },
   "source": [
    "자료에서 나이가 가장 많은 사람의 자료를 확인해보자.\n",
    "\n",
    "idxmax는 np.argmax와 동일한 기능을 한다. DataFrame의 argmax method는 0.21.0에서 deprecated 되었다."
   ]
  },
  {
   "cell_type": "code",
   "execution_count": 79,
   "metadata": {
    "hideCode": false,
    "hidePrompt": false,
    "scrolled": true
   },
   "outputs": [
    {
     "name": "stdout",
     "output_type": "stream",
     "text": [
      "the index of the eldest passenger : 14 \n",
      "\n",
      "survived       1\n",
      "pclass         1\n",
      "sex         male\n",
      "age         80.0\n",
      "sibsp          0\n",
      "parch          0\n",
      "fare        30.0\n",
      "embarked       S\n",
      "Name: 14, dtype: object\n"
     ]
    }
   ],
   "source": [
    "eldest = df[\"age\"].idxmax()\n",
    "\n",
    "print(\"the index of the eldest passenger :\", eldest, \"\\n\")\n",
    "print(df.iloc[eldest])"
   ]
  },
  {
   "cell_type": "markdown",
   "metadata": {
    "hideCode": false,
    "hidePrompt": false,
    "slideshow": {
     "slide_type": "slide"
    }
   },
   "source": [
    "나이의 도수분포표를 만들어 본다."
   ]
  },
  {
   "cell_type": "code",
   "execution_count": 80,
   "metadata": {},
   "outputs": [
    {
     "data": {
      "text/plain": [
       "(0.0869, 8.15]       80\n",
       "(8.15, 16.133]       62\n",
       "(16.133, 24.117]    324\n",
       "(24.117, 32.1]      426\n",
       "(32.1, 40.083]      187\n",
       "(40.083, 48.067]    108\n",
       "(48.067, 56.05]      65\n",
       "(56.05, 64.033]      40\n",
       "(64.033, 72.017]     10\n",
       "(72.017, 80.0]        3\n",
       "Name: age, dtype: int64"
      ]
     },
     "execution_count": 80,
     "metadata": {},
     "output_type": "execute_result"
    }
   ],
   "source": [
    "pd.cut(df[\"age\"], 10).value_counts().sort_index()"
   ]
  },
  {
   "cell_type": "code",
   "execution_count": 81,
   "metadata": {
    "hideCode": false,
    "hidePrompt": false,
    "slideshow": {
     "slide_type": "fragment"
    }
   },
   "outputs": [
    {
     "data": {
      "image/png": "[encoded data removed]",
      "text/plain": [
       "<Figure size 432x288 with 1 Axes>"
      ]
     },
     "metadata": {
      "needs_background": "light"
     },
     "output_type": "display_data"
    }
   ],
   "source": [
    "age_dist = df['age'].value_counts().sort_index()\n",
    "ax = age_dist.plot.kde(bw_method=.1)\n",
    "ax.set_xlim(0,80);"
   ]
  },
  {
   "cell_type": "markdown",
   "metadata": {
    "hideCode": false,
    "hidePrompt": false,
    "slideshow": {
     "slide_type": "slide"
    }
   },
   "source": [
    "### GroupBy 객체 생성\n",
    "\n",
    "```\n",
    "df.groupby(keys, by=None, axis=0, level=None, as_index=True, sort=True, group_keys=True, squeeze=False, observed=False, **kwargs)\n",
    "```\n",
    "\n",
    "`df.groupby()`는 하나 이상의 변수 값을 기준으로 자료를 나누고, `GroupBy` 객체를 생성한다.\n",
    "\n",
    "기준 변수가 하나일 경우에는 column의 이름을, 두 개 이상일 경우에는 list로 만들어 사용한다.\n",
    "\n",
    "![](groupby.png)"
   ]
  },
  {
   "cell_type": "markdown",
   "metadata": {
    "hideCode": false,
    "hidePrompt": false,
    "slideshow": {
     "slide_type": "slide"
    }
   },
   "source": [
    "이 `GroupBy` 객체는 MultiIndex를 이용해 정리되어 있다.\n",
    "\n",
    "gender<br>(level 0) | index <br> (level 1) | value\n",
    ":--|:--:|--:\n",
    "\"female\" | 0 | 29.0\n",
    " | 2 | 2.0\n",
    " ...||\n",
    " \"male\" | 1 | 0.9167\n",
    "  | 3 | 30.0000\n",
    " ... ||\n",
    "\n",
    "`df.groupby(\"sex\")`에서 필요한 column을 추출하려면 `df.groupby(\"sex\").column_name`과 같은 통상적인 DataFrame slicing 방법을 사용한다."
   ]
  },
  {
   "cell_type": "code",
   "execution_count": 82,
   "metadata": {
    "hideCode": false,
    "hidePrompt": false,
    "slideshow": {
     "slide_type": "slide"
    }
   },
   "outputs": [],
   "source": [
    "#list(df.iloc[:4,:].groupby(\"sex\").age)"
   ]
  },
  {
   "cell_type": "markdown",
   "metadata": {
    "hideCode": false,
    "hidePrompt": false,
    "slideshow": {
     "slide_type": "slide"
    }
   },
   "source": [
    "#### 외부의 key를 이용한 객체 생성\n",
    "\n",
    "- 자료에서 유도할 수 없는 특성을 이용하여 분류할 수 있다. 기준을 만들어 열 이름 대신 사용한다."
   ]
  },
  {
   "cell_type": "code",
   "execution_count": 83,
   "metadata": {
    "hideCode": false,
    "hidePrompt": false,
    "slideshow": {
     "slide_type": "fragment"
    }
   },
   "outputs": [
    {
     "data": {
      "text/plain": [
       "[('dumpty',\n",
       "        survived  pclass     sex   age  sibsp  parch      fare embarked\n",
       "  2            0       1  female   2.0      1      2  151.5500        S\n",
       "  4            0       1  female  25.0      1      2  151.5500        S\n",
       "  7            0       1    male  39.0      0      0   30.0000        S\n",
       "  8            1       1  female  53.0      2      0   51.4792        S\n",
       "  10           0       1    male  47.0      1      0  227.5250        C\n",
       "  ...        ...     ...     ...   ...    ...    ...       ...      ...\n",
       "  1296         1       3  female  15.0      1      0   14.4542        C\n",
       "  1298         0       3    male  29.0      0      0    7.2250        C\n",
       "  1300         0       3  female  14.5      1      0   14.4542        C\n",
       "  1303         0       3    male  27.0      0      0    7.2250        C\n",
       "  1304         0       3    male  29.0      0      0    7.8750        S\n",
       "  \n",
       "  [656 rows x 8 columns]),\n",
       " ('humpty',\n",
       "        survived  pclass     sex      age  sibsp  parch      fare embarked\n",
       "  0            1       1  female  29.0000      0      0  211.3375        S\n",
       "  1            1       1    male   0.9167      1      2  151.5500        S\n",
       "  3            0       1    male  30.0000      1      2  151.5500        S\n",
       "  5            1       1    male  48.0000      0      0   26.5500        S\n",
       "  6            1       1  female  63.0000      1      0   77.9583        S\n",
       "  ...        ...     ...     ...      ...    ...    ...       ...      ...\n",
       "  1295         0       3    male  27.0000      1      0   14.4542        C\n",
       "  1297         0       3    male  45.5000      0      0    7.2250        C\n",
       "  1299         0       3    male  29.0000      0      0   14.4583        C\n",
       "  1301         0       3  female  22.0000      1      0   14.4542        C\n",
       "  1302         0       3    male  26.5000      0      0    7.2250        C\n",
       "  \n",
       "  [649 rows x 8 columns])]"
      ]
     },
     "execution_count": 83,
     "metadata": {},
     "output_type": "execute_result"
    }
   ],
   "source": [
    "external_keys = np.array([\"humpty\", \"dumpty\"])\n",
    "values = np.random.randint(0,2, len(df))\n",
    "keys = external_keys[values]\n",
    "\n",
    "list(df.groupby(keys))"
   ]
  },
  {
   "cell_type": "markdown",
   "metadata": {
    "hideCode": false,
    "hidePrompt": false,
    "slideshow": {
     "slide_type": "slide"
    }
   },
   "source": [
    "### 자료의 분할\n",
    "\n",
    "- `groupBy.groups`는 사전형 자료로 구분에 사용한 변수의 값을 key로 사용한다.\n",
    "\n",
    "- `df.groupby(\"embarked\").groups`는 전체 자료를 embarked의 값으로 구분하여 embarked의 값을 key로하는 dict를 만든다. dict 이므로 dict에 정의된 attributes와 methods를 사용할 수 있다.\n",
    "\n",
    "```python\n",
    "df.groupby(\"embarked\").groups.keys()\n",
    "df.groupby(\"embarked\").groups.values()\n",
    "```"
   ]
  },
  {
   "cell_type": "code",
   "execution_count": 84,
   "metadata": {
    "hideCode": false,
    "hidePrompt": false,
    "slideshow": {
     "slide_type": "fragment"
    }
   },
   "outputs": [
    {
     "name": "stdout",
     "output_type": "stream",
     "text": [
      "<class 'pandas.io.formats.printing.PrettyDict'>\n"
     ]
    },
    {
     "data": {
      "text/plain": [
       "{'C': [9], 'S': [0, 1, 2, 3, 4, 5, 6, 7, 8]}"
      ]
     },
     "execution_count": 84,
     "metadata": {},
     "output_type": "execute_result"
    }
   ],
   "source": [
    "print(type(df.groupby(\"embarked\").groups))  # a dictionary\n",
    "\n",
    "df.iloc[:10,:].groupby(\"embarked\").groups"
   ]
  },
  {
   "cell_type": "code",
   "execution_count": 85,
   "metadata": {
    "hideCode": false,
    "hidePrompt": false,
    "slideshow": {
     "slide_type": "fragment"
    }
   },
   "outputs": [
    {
     "data": {
      "text/plain": [
       "{('C', 1): [9], ('S', 1): [0, 1, 2, 3, 4, 5, 6, 7, 8]}"
      ]
     },
     "execution_count": 85,
     "metadata": {},
     "output_type": "execute_result"
    }
   ],
   "source": [
    "df.iloc[:10,:].groupby([\"embarked\",\"pclass\"]).groups"
   ]
  },
  {
   "cell_type": "markdown",
   "metadata": {
    "collapsed": true,
    "hideCode": false,
    "hidePrompt": false,
    "slideshow": {
     "slide_type": "fragment"
    }
   },
   "source": [
    "- `get_group()` method는 선택한 group의 자료를 `pd.DataFrame`으로 분리한다."
   ]
  },
  {
   "cell_type": "code",
   "execution_count": 86,
   "metadata": {
    "hideCode": false,
    "hidePrompt": false
   },
   "outputs": [
    {
     "data": {
      "text/html": [
       "<div>\n",
       "<style scoped>\n",
       "    .dataframe tbody tr th:only-of-type {\n",
       "        vertical-align: middle;\n",
       "    }\n",
       "\n",
       "    .dataframe tbody tr th {\n",
       "        vertical-align: top;\n",
       "    }\n",
       "\n",
       "    .dataframe thead th {\n",
       "        text-align: right;\n",
       "    }\n",
       "</style>\n",
       "<table border=\"1\" class=\"dataframe\">\n",
       "  <thead>\n",
       "    <tr style=\"text-align: right;\">\n",
       "      <th></th>\n",
       "      <th>survived</th>\n",
       "      <th>pclass</th>\n",
       "      <th>sex</th>\n",
       "      <th>age</th>\n",
       "      <th>sibsp</th>\n",
       "      <th>parch</th>\n",
       "      <th>fare</th>\n",
       "      <th>embarked</th>\n",
       "    </tr>\n",
       "  </thead>\n",
       "  <tbody>\n",
       "    <tr>\n",
       "      <th>0</th>\n",
       "      <td>1</td>\n",
       "      <td>1</td>\n",
       "      <td>female</td>\n",
       "      <td>29.0000</td>\n",
       "      <td>0</td>\n",
       "      <td>0</td>\n",
       "      <td>211.3375</td>\n",
       "      <td>S</td>\n",
       "    </tr>\n",
       "    <tr>\n",
       "      <th>1</th>\n",
       "      <td>1</td>\n",
       "      <td>1</td>\n",
       "      <td>male</td>\n",
       "      <td>0.9167</td>\n",
       "      <td>1</td>\n",
       "      <td>2</td>\n",
       "      <td>151.5500</td>\n",
       "      <td>S</td>\n",
       "    </tr>\n",
       "    <tr>\n",
       "      <th>2</th>\n",
       "      <td>0</td>\n",
       "      <td>1</td>\n",
       "      <td>female</td>\n",
       "      <td>2.0000</td>\n",
       "      <td>1</td>\n",
       "      <td>2</td>\n",
       "      <td>151.5500</td>\n",
       "      <td>S</td>\n",
       "    </tr>\n",
       "    <tr>\n",
       "      <th>3</th>\n",
       "      <td>0</td>\n",
       "      <td>1</td>\n",
       "      <td>male</td>\n",
       "      <td>30.0000</td>\n",
       "      <td>1</td>\n",
       "      <td>2</td>\n",
       "      <td>151.5500</td>\n",
       "      <td>S</td>\n",
       "    </tr>\n",
       "    <tr>\n",
       "      <th>4</th>\n",
       "      <td>0</td>\n",
       "      <td>1</td>\n",
       "      <td>female</td>\n",
       "      <td>25.0000</td>\n",
       "      <td>1</td>\n",
       "      <td>2</td>\n",
       "      <td>151.5500</td>\n",
       "      <td>S</td>\n",
       "    </tr>\n",
       "  </tbody>\n",
       "</table>\n",
       "</div>"
      ],
      "text/plain": [
       "   survived  pclass     sex      age  sibsp  parch      fare embarked\n",
       "0         1       1  female  29.0000      0      0  211.3375        S\n",
       "1         1       1    male   0.9167      1      2  151.5500        S\n",
       "2         0       1  female   2.0000      1      2  151.5500        S\n",
       "3         0       1    male  30.0000      1      2  151.5500        S\n",
       "4         0       1  female  25.0000      1      2  151.5500        S"
      ]
     },
     "execution_count": 86,
     "metadata": {},
     "output_type": "execute_result"
    }
   ],
   "source": [
    "df.groupby(\"embarked\").get_group(\"S\").head() # df.loc[df[\"embarked\"] == \"S\"]"
   ]
  },
  {
   "cell_type": "markdown",
   "metadata": {},
   "source": [
    "- df.groupby(key_variables): key_variables를 index로 하는 DataFrame\n",
    "- df.groupby(key_variables).groups: key_variables를 key로 하는 dict\n",
    "- df.groupby(key_variables).get_group(key_value): key_variables로 분류한 자료에서 key_value 해당 자료를 DataFrame으로 정리"
   ]
  },
  {
   "cell_type": "markdown",
   "metadata": {
    "hideCode": false,
    "hidePrompt": false,
    "slideshow": {
     "slide_type": "slide"
    }
   },
   "source": [
    "### GroupBy 의 활용\n",
    "\n",
    "- `pd.DataFrame`에 정의된 attritbutes와 methods는 대부분 GroupBy객체에 사용할 수 있다. 이를 이용하면 자료의 선택, 삭제, 변환, 통계량 계산, 기본적인 시각화작업을 할 수 있다."
   ]
  },
  {
   "cell_type": "markdown",
   "metadata": {
    "hideCode": false,
    "hidePrompt": false
   },
   "source": [
    "#### Aggreation\n",
    "\n",
    "- 각 group의 기초통계량을 계산할 때는 `df.agg(args, *args, **kwargs)`를 사용한다.\n",
    " - string function name\n",
    " - function\n",
    " - list of functions\n",
    " - dict of column names $\\rightarrow$ functions (or list of functions)"
   ]
  },
  {
   "cell_type": "code",
   "execution_count": 87,
   "metadata": {
    "hideCode": false,
    "hidePrompt": false
   },
   "outputs": [
    {
     "name": "stdout",
     "output_type": "stream",
     "text": [
      "embarked\n",
      "C    31.466233\n",
      "Q    26.950820\n",
      "S    29.100383\n",
      "Name: age, dtype: float64\n",
      "embarked\n",
      "C    31.466233\n",
      "Q    26.950820\n",
      "S    29.100383\n",
      "Name: age, dtype: float64\n",
      "embarked\n",
      "C    31.466233\n",
      "Q    26.950820\n",
      "S    29.100383\n",
      "Name: age, dtype: float64\n"
     ]
    }
   ],
   "source": [
    "print(df.groupby([\"embarked\"])[\"age\"].mean())\n",
    "print(df.groupby([\"embarked\"])[\"age\"].agg(np.mean))\n",
    "print(df.groupby([\"embarked\"])[\"age\"].agg(\"mean\"))"
   ]
  },
  {
   "cell_type": "code",
   "execution_count": 88,
   "metadata": {
    "hideCode": false,
    "hidePrompt": false
   },
   "outputs": [
    {
     "data": {
      "text/html": [
       "<div>\n",
       "<style scoped>\n",
       "    .dataframe tbody tr th:only-of-type {\n",
       "        vertical-align: middle;\n",
       "    }\n",
       "\n",
       "    .dataframe tbody tr th {\n",
       "        vertical-align: top;\n",
       "    }\n",
       "\n",
       "    .dataframe thead th {\n",
       "        text-align: right;\n",
       "    }\n",
       "</style>\n",
       "<table border=\"1\" class=\"dataframe\">\n",
       "  <thead>\n",
       "    <tr style=\"text-align: right;\">\n",
       "      <th></th>\n",
       "      <th>mean</th>\n",
       "      <th>std</th>\n",
       "    </tr>\n",
       "    <tr>\n",
       "      <th>embarked</th>\n",
       "      <th></th>\n",
       "      <th></th>\n",
       "    </tr>\n",
       "  </thead>\n",
       "  <tbody>\n",
       "    <tr>\n",
       "      <th>C</th>\n",
       "      <td>31.466233</td>\n",
       "      <td>14.062061</td>\n",
       "    </tr>\n",
       "    <tr>\n",
       "      <th>Q</th>\n",
       "      <td>26.950820</td>\n",
       "      <td>10.080340</td>\n",
       "    </tr>\n",
       "    <tr>\n",
       "      <th>S</th>\n",
       "      <td>29.100383</td>\n",
       "      <td>13.150196</td>\n",
       "    </tr>\n",
       "  </tbody>\n",
       "</table>\n",
       "</div>"
      ],
      "text/plain": [
       "               mean        std\n",
       "embarked                      \n",
       "C         31.466233  14.062061\n",
       "Q         26.950820  10.080340\n",
       "S         29.100383  13.150196"
      ]
     },
     "execution_count": 88,
     "metadata": {},
     "output_type": "execute_result"
    }
   ],
   "source": [
    "df.groupby([\"embarked\"])[\"age\"].agg([np.mean, \"std\"])"
   ]
  },
  {
   "cell_type": "code",
   "execution_count": 89,
   "metadata": {
    "hideCode": false,
    "hidePrompt": false
   },
   "outputs": [
    {
     "data": {
      "text/html": [
       "<div>\n",
       "<style scoped>\n",
       "    .dataframe tbody tr th:only-of-type {\n",
       "        vertical-align: middle;\n",
       "    }\n",
       "\n",
       "    .dataframe tbody tr th {\n",
       "        vertical-align: top;\n",
       "    }\n",
       "\n",
       "    .dataframe thead th {\n",
       "        text-align: right;\n",
       "    }\n",
       "</style>\n",
       "<table border=\"1\" class=\"dataframe\">\n",
       "  <thead>\n",
       "    <tr style=\"text-align: right;\">\n",
       "      <th></th>\n",
       "      <th>age</th>\n",
       "      <th>pclass</th>\n",
       "    </tr>\n",
       "    <tr>\n",
       "      <th>embarked</th>\n",
       "      <th></th>\n",
       "      <th></th>\n",
       "    </tr>\n",
       "  </thead>\n",
       "  <tbody>\n",
       "    <tr>\n",
       "      <th>C</th>\n",
       "      <td>31.466233</td>\n",
       "      <td>1</td>\n",
       "    </tr>\n",
       "    <tr>\n",
       "      <th>Q</th>\n",
       "      <td>26.950820</td>\n",
       "      <td>3</td>\n",
       "    </tr>\n",
       "    <tr>\n",
       "      <th>S</th>\n",
       "      <td>29.100383</td>\n",
       "      <td>3</td>\n",
       "    </tr>\n",
       "  </tbody>\n",
       "</table>\n",
       "</div>"
      ],
      "text/plain": [
       "                age  pclass\n",
       "embarked                   \n",
       "C         31.466233       1\n",
       "Q         26.950820       3\n",
       "S         29.100383       3"
      ]
     },
     "execution_count": 89,
     "metadata": {},
     "output_type": "execute_result"
    }
   ],
   "source": [
    "df.groupby([\"embarked\"]).agg({\"age\": \"mean\",       # find the sum of the durations for each group\n",
    "                              \"pclass\": \"median\"})    # find the number of network type entries"
   ]
  },
  {
   "cell_type": "code",
   "execution_count": 90,
   "metadata": {
    "hideCode": false,
    "hidePrompt": false
   },
   "outputs": [
    {
     "data": {
      "text/html": [
       "<div>\n",
       "<style scoped>\n",
       "    .dataframe tbody tr th:only-of-type {\n",
       "        vertical-align: middle;\n",
       "    }\n",
       "\n",
       "    .dataframe tbody tr th {\n",
       "        vertical-align: top;\n",
       "    }\n",
       "\n",
       "    .dataframe thead th {\n",
       "        text-align: right;\n",
       "    }\n",
       "</style>\n",
       "<table border=\"1\" class=\"dataframe\">\n",
       "  <thead>\n",
       "    <tr style=\"text-align: right;\">\n",
       "      <th></th>\n",
       "      <th>age</th>\n",
       "      <th>fare</th>\n",
       "    </tr>\n",
       "    <tr>\n",
       "      <th>embarked</th>\n",
       "      <th></th>\n",
       "      <th></th>\n",
       "    </tr>\n",
       "  </thead>\n",
       "  <tbody>\n",
       "    <tr>\n",
       "      <th>C</th>\n",
       "      <td>70.5833</td>\n",
       "      <td>508.3167</td>\n",
       "    </tr>\n",
       "    <tr>\n",
       "      <th>Q</th>\n",
       "      <td>68.5000</td>\n",
       "      <td>83.2500</td>\n",
       "    </tr>\n",
       "    <tr>\n",
       "      <th>S</th>\n",
       "      <td>79.8333</td>\n",
       "      <td>259.8292</td>\n",
       "    </tr>\n",
       "  </tbody>\n",
       "</table>\n",
       "</div>"
      ],
      "text/plain": [
       "              age      fare\n",
       "embarked                   \n",
       "C         70.5833  508.3167\n",
       "Q         68.5000   83.2500\n",
       "S         79.8333  259.8292"
      ]
     },
     "execution_count": 90,
     "metadata": {},
     "output_type": "execute_result"
    }
   ],
   "source": [
    "df.groupby([\"embarked\"])[[\"age\", \"fare\"]].agg(lambda x: max(x) - min(x))"
   ]
  },
  {
   "cell_type": "markdown",
   "metadata": {
    "hideCode": false,
    "hidePrompt": false
   },
   "source": [
    "#### transformation\n",
    "\n",
    "- Transformation은 column-specific한 연산을 적용하며, 입력과 동일한 크기, 동일한 index 를 사용한 결과를 return한다.\n",
    "\n",
    "```python\n",
    "DataFrame.transform(func, *args, **kwargs)\n",
    "```"
   ]
  },
  {
   "cell_type": "code",
   "execution_count": 91,
   "metadata": {
    "hideCode": false,
    "hidePrompt": false
   },
   "outputs": [
    {
     "data": {
      "text/html": [
       "<div>\n",
       "<style scoped>\n",
       "    .dataframe tbody tr th:only-of-type {\n",
       "        vertical-align: middle;\n",
       "    }\n",
       "\n",
       "    .dataframe tbody tr th {\n",
       "        vertical-align: top;\n",
       "    }\n",
       "\n",
       "    .dataframe thead th {\n",
       "        text-align: right;\n",
       "    }\n",
       "</style>\n",
       "<table border=\"1\" class=\"dataframe\">\n",
       "  <thead>\n",
       "    <tr style=\"text-align: right;\">\n",
       "      <th></th>\n",
       "      <th>survived</th>\n",
       "      <th>pclass</th>\n",
       "      <th>age</th>\n",
       "      <th>sibsp</th>\n",
       "      <th>parch</th>\n",
       "      <th>fare</th>\n",
       "    </tr>\n",
       "  </thead>\n",
       "  <tbody>\n",
       "    <tr>\n",
       "      <th>0</th>\n",
       "      <td>0.667396</td>\n",
       "      <td>-1.347921</td>\n",
       "      <td>-0.100383</td>\n",
       "      <td>-0.550328</td>\n",
       "      <td>-0.426696</td>\n",
       "      <td>183.590269</td>\n",
       "    </tr>\n",
       "    <tr>\n",
       "      <th>1</th>\n",
       "      <td>0.667396</td>\n",
       "      <td>-1.347921</td>\n",
       "      <td>-28.183683</td>\n",
       "      <td>0.449672</td>\n",
       "      <td>1.573304</td>\n",
       "      <td>123.802769</td>\n",
       "    </tr>\n",
       "    <tr>\n",
       "      <th>2</th>\n",
       "      <td>-0.332604</td>\n",
       "      <td>-1.347921</td>\n",
       "      <td>-27.100383</td>\n",
       "      <td>0.449672</td>\n",
       "      <td>1.573304</td>\n",
       "      <td>123.802769</td>\n",
       "    </tr>\n",
       "    <tr>\n",
       "      <th>3</th>\n",
       "      <td>-0.332604</td>\n",
       "      <td>-1.347921</td>\n",
       "      <td>0.899617</td>\n",
       "      <td>0.449672</td>\n",
       "      <td>1.573304</td>\n",
       "      <td>123.802769</td>\n",
       "    </tr>\n",
       "    <tr>\n",
       "      <th>4</th>\n",
       "      <td>-0.332604</td>\n",
       "      <td>-1.347921</td>\n",
       "      <td>-4.100383</td>\n",
       "      <td>0.449672</td>\n",
       "      <td>1.573304</td>\n",
       "      <td>123.802769</td>\n",
       "    </tr>\n",
       "  </tbody>\n",
       "</table>\n",
       "</div>"
      ],
      "text/plain": [
       "   survived    pclass        age     sibsp     parch        fare\n",
       "0  0.667396 -1.347921  -0.100383 -0.550328 -0.426696  183.590269\n",
       "1  0.667396 -1.347921 -28.183683  0.449672  1.573304  123.802769\n",
       "2 -0.332604 -1.347921 -27.100383  0.449672  1.573304  123.802769\n",
       "3 -0.332604 -1.347921   0.899617  0.449672  1.573304  123.802769\n",
       "4 -0.332604 -1.347921  -4.100383  0.449672  1.573304  123.802769"
      ]
     },
     "execution_count": 91,
     "metadata": {},
     "output_type": "execute_result"
    }
   ],
   "source": [
    "df.groupby(\"embarked\").transform(lambda x: x - x.mean()).head()"
   ]
  },
  {
   "cell_type": "markdown",
   "metadata": {
    "hideCode": false,
    "hidePrompt": false,
    "slideshow": {
     "slide_type": "slide"
    }
   },
   "source": [
    "#### aggregate, tranform, and apply\n",
    "\n",
    "`GroupBy.apply(func, *args, **kwargs)` <br>\n",
    "Apply function group-wise and combine the results together.\n",
    "\n",
    "GroupBy.agg: $\\mathbb{R}^n \\longrightarrow \\mathbb{R}$ <br>\n",
    "GroupBy.transform: $\\mathbb{R}^{m+n} \\longrightarrow \\mathbb{R}^{m+n}$ <br>\n",
    "GroupBy.apply: $\\mathbb{R}^{m+n} \\longrightarrow \\mathbb{R}^{k+l}$"
   ]
  },
  {
   "cell_type": "code",
   "execution_count": 92,
   "metadata": {
    "hideCode": false,
    "hidePrompt": false
   },
   "outputs": [
    {
     "data": {
      "text/html": [
       "<div>\n",
       "<style scoped>\n",
       "    .dataframe tbody tr th:only-of-type {\n",
       "        vertical-align: middle;\n",
       "    }\n",
       "\n",
       "    .dataframe tbody tr th {\n",
       "        vertical-align: top;\n",
       "    }\n",
       "\n",
       "    .dataframe thead th {\n",
       "        text-align: right;\n",
       "    }\n",
       "</style>\n",
       "<table border=\"1\" class=\"dataframe\">\n",
       "  <thead>\n",
       "    <tr style=\"text-align: right;\">\n",
       "      <th></th>\n",
       "      <th>age</th>\n",
       "      <th>fare</th>\n",
       "    </tr>\n",
       "  </thead>\n",
       "  <tbody>\n",
       "    <tr>\n",
       "      <th>0</th>\n",
       "      <td>0.576193</td>\n",
       "      <td>182.913693</td>\n",
       "    </tr>\n",
       "    <tr>\n",
       "      <th>1</th>\n",
       "      <td>-27.507107</td>\n",
       "      <td>123.126193</td>\n",
       "    </tr>\n",
       "    <tr>\n",
       "      <th>2</th>\n",
       "      <td>-26.423807</td>\n",
       "      <td>123.126193</td>\n",
       "    </tr>\n",
       "    <tr>\n",
       "      <th>3</th>\n",
       "      <td>1.576193</td>\n",
       "      <td>123.126193</td>\n",
       "    </tr>\n",
       "    <tr>\n",
       "      <th>4</th>\n",
       "      <td>-3.423807</td>\n",
       "      <td>123.126193</td>\n",
       "    </tr>\n",
       "  </tbody>\n",
       "</table>\n",
       "</div>"
      ],
      "text/plain": [
       "         age        fare\n",
       "0   0.576193  182.913693\n",
       "1 -27.507107  123.126193\n",
       "2 -26.423807  123.126193\n",
       "3   1.576193  123.126193\n",
       "4  -3.423807  123.126193"
      ]
     },
     "execution_count": 92,
     "metadata": {},
     "output_type": "execute_result"
    }
   ],
   "source": [
    "df.groupby([\"embarked\"]).agg(lambda x: x.max() - x.mean())\n",
    "df.groupby([\"embarked\"]).transform(lambda x: x - x.mean()).head()\n",
    "df.groupby([\"embarked\"])[[\"age\"]].apply(lambda x: x - x.mean()).head()\n",
    "# broadcasting: (n,2) - (1,2)\n",
    "df.groupby([\"embarked\"])[[\"age\",\"fare\"]].apply(lambda x: x - x.mean()).head()\n",
    "df.groupby([\"embarked\"])[[\"age\",\"fare\"]].apply(lambda x: x - x.mean().mean()).head()"
   ]
  },
  {
   "cell_type": "markdown",
   "metadata": {
    "hideCode": false,
    "hidePrompt": false
   },
   "source": [
    "## pd.pivot, pd.pivot_table, pd.crosstab\n",
    "\n",
    "- python에서 pivot table을 만들 때는 `pd.pivot_table()`이나 `pd.crosstab()` 함수를 사용한다. 이 두 함수는 거의 동일\n",
    "\n",
    "\n",
    "- `pd.pivot_table()`이 DataFrame을 input으로 `pd.crosstab()`은 array를 input으로 사용\n",
    "  - `DataFrame`으로 작업할 때는 `pivot_table`, `Series`로 간단하게 그릴 때는 `crosstab`\n",
    "\n",
    "\n",
    "- 자료를 요약할 때 흔히 사용한다.\n",
    "\n",
    "```python\n",
    "df.pivot(index=None, columns=None, values=None)\n",
    "\n",
    "pd.pivot_table(data, values=None, index=None, columns=None, aggfunc='mean', fill_value=None, margins=False, dropna=True, margins_name='All', observed=False)\n",
    "\n",
    "df.pivot_table(values=None, index=None, ...)\n",
    "\n",
    "pd.crosstab(index, columns, values=None, rownames=None, colnames=None, aggfunc=None, margins=False, margins_name='All', dropna=True, normalize=False)\n",
    "```"
   ]
  },
  {
   "cell_type": "markdown",
   "metadata": {
    "hideCode": false,
    "hidePrompt": false
   },
   "source": [
    "### pivoting\n",
    "\n",
    "`df.pivot`으로 index와 column을 지정하여 새로운 DataFrame을 생성할 수 있다.<br>\n",
    "연산결과를 이용하여 표를 만들려면 `pd.pivot_table`이나 `pd.crosstab`을 사용핟다.\n",
    "\n",
    "```\n",
    "DataFrame.pivot(index=None, columns=None, values=None)\n",
    "```"
   ]
  },
  {
   "cell_type": "code",
   "execution_count": 93,
   "metadata": {},
   "outputs": [
    {
     "data": {
      "text/html": [
       "<div>\n",
       "<style scoped>\n",
       "    .dataframe tbody tr th:only-of-type {\n",
       "        vertical-align: middle;\n",
       "    }\n",
       "\n",
       "    .dataframe tbody tr th {\n",
       "        vertical-align: top;\n",
       "    }\n",
       "\n",
       "    .dataframe thead th {\n",
       "        text-align: right;\n",
       "    }\n",
       "</style>\n",
       "<table border=\"1\" class=\"dataframe\">\n",
       "  <thead>\n",
       "    <tr style=\"text-align: right;\">\n",
       "      <th></th>\n",
       "      <th>date</th>\n",
       "      <th>item</th>\n",
       "      <th>sales</th>\n",
       "    </tr>\n",
       "  </thead>\n",
       "  <tbody>\n",
       "    <tr>\n",
       "      <th>0</th>\n",
       "      <td>2021-01-01</td>\n",
       "      <td>A</td>\n",
       "      <td>15</td>\n",
       "    </tr>\n",
       "    <tr>\n",
       "      <th>1</th>\n",
       "      <td>2021-02-01</td>\n",
       "      <td>A</td>\n",
       "      <td>17</td>\n",
       "    </tr>\n",
       "    <tr>\n",
       "      <th>2</th>\n",
       "      <td>2021-01-01</td>\n",
       "      <td>B</td>\n",
       "      <td>11</td>\n",
       "    </tr>\n",
       "    <tr>\n",
       "      <th>3</th>\n",
       "      <td>2021-02-01</td>\n",
       "      <td>B</td>\n",
       "      <td>15</td>\n",
       "    </tr>\n",
       "    <tr>\n",
       "      <th>4</th>\n",
       "      <td>2021-01-01</td>\n",
       "      <td>C</td>\n",
       "      <td>15</td>\n",
       "    </tr>\n",
       "    <tr>\n",
       "      <th>5</th>\n",
       "      <td>2021-02-01</td>\n",
       "      <td>C</td>\n",
       "      <td>13</td>\n",
       "    </tr>\n",
       "  </tbody>\n",
       "</table>\n",
       "</div>"
      ],
      "text/plain": [
       "        date item  sales\n",
       "0 2021-01-01    A     15\n",
       "1 2021-02-01    A     17\n",
       "2 2021-01-01    B     11\n",
       "3 2021-02-01    B     15\n",
       "4 2021-01-01    C     15\n",
       "5 2021-02-01    C     13"
      ]
     },
     "execution_count": 93,
     "metadata": {},
     "output_type": "execute_result"
    }
   ],
   "source": [
    "df_pivot = pd.DataFrame([])\n",
    "df_pivot['date'] = np.resize(np.arange('2021-01', '2021-03', dtype='datetime64[M]'), 6,)\n",
    "df_pivot['item'] = np.array(list('AABBCC'))\n",
    "df_pivot['sales'] = np.random.randint(8, 20, len(df_pivot.date))\n",
    "\n",
    "df_pivot"
   ]
  },
  {
   "cell_type": "code",
   "execution_count": 94,
   "metadata": {},
   "outputs": [
    {
     "data": {
      "text/html": [
       "<div>\n",
       "<style scoped>\n",
       "    .dataframe tbody tr th:only-of-type {\n",
       "        vertical-align: middle;\n",
       "    }\n",
       "\n",
       "    .dataframe tbody tr th {\n",
       "        vertical-align: top;\n",
       "    }\n",
       "\n",
       "    .dataframe thead th {\n",
       "        text-align: right;\n",
       "    }\n",
       "</style>\n",
       "<table border=\"1\" class=\"dataframe\">\n",
       "  <thead>\n",
       "    <tr style=\"text-align: right;\">\n",
       "      <th>item</th>\n",
       "      <th>A</th>\n",
       "      <th>B</th>\n",
       "      <th>C</th>\n",
       "    </tr>\n",
       "    <tr>\n",
       "      <th>date</th>\n",
       "      <th></th>\n",
       "      <th></th>\n",
       "      <th></th>\n",
       "    </tr>\n",
       "  </thead>\n",
       "  <tbody>\n",
       "    <tr>\n",
       "      <th>2021-01-01</th>\n",
       "      <td>15</td>\n",
       "      <td>11</td>\n",
       "      <td>15</td>\n",
       "    </tr>\n",
       "    <tr>\n",
       "      <th>2021-02-01</th>\n",
       "      <td>17</td>\n",
       "      <td>15</td>\n",
       "      <td>13</td>\n",
       "    </tr>\n",
       "  </tbody>\n",
       "</table>\n",
       "</div>"
      ],
      "text/plain": [
       "item         A   B   C\n",
       "date                  \n",
       "2021-01-01  15  11  15\n",
       "2021-02-01  17  15  13"
      ]
     },
     "execution_count": 94,
     "metadata": {},
     "output_type": "execute_result"
    }
   ],
   "source": [
    "df_pivot.pivot(index='date', columns='item', values='sales')"
   ]
  },
  {
   "cell_type": "code",
   "execution_count": 95,
   "metadata": {
    "hideCode": false,
    "hidePrompt": false
   },
   "outputs": [
    {
     "name": "stdout",
     "output_type": "stream",
     "text": [
      "   A   B   C\n",
      "0  1  14  11\n",
      "1  3  10   5\n",
      "2  1   3  13\n",
      "3  1   8   3\n"
     ]
    },
    {
     "data": {
      "text/html": [
       "<div>\n",
       "<style scoped>\n",
       "    .dataframe tbody tr th:only-of-type {\n",
       "        vertical-align: middle;\n",
       "    }\n",
       "\n",
       "    .dataframe tbody tr th {\n",
       "        vertical-align: top;\n",
       "    }\n",
       "\n",
       "    .dataframe thead th {\n",
       "        text-align: right;\n",
       "    }\n",
       "</style>\n",
       "<table border=\"1\" class=\"dataframe\">\n",
       "  <thead>\n",
       "    <tr style=\"text-align: right;\">\n",
       "      <th>B</th>\n",
       "      <th>3</th>\n",
       "      <th>8</th>\n",
       "      <th>10</th>\n",
       "      <th>14</th>\n",
       "    </tr>\n",
       "    <tr>\n",
       "      <th>A</th>\n",
       "      <th></th>\n",
       "      <th></th>\n",
       "      <th></th>\n",
       "      <th></th>\n",
       "    </tr>\n",
       "  </thead>\n",
       "  <tbody>\n",
       "    <tr>\n",
       "      <th>1</th>\n",
       "      <td>13.0</td>\n",
       "      <td>3.0</td>\n",
       "      <td>NaN</td>\n",
       "      <td>11.0</td>\n",
       "    </tr>\n",
       "    <tr>\n",
       "      <th>3</th>\n",
       "      <td>NaN</td>\n",
       "      <td>NaN</td>\n",
       "      <td>5.0</td>\n",
       "      <td>NaN</td>\n",
       "    </tr>\n",
       "  </tbody>\n",
       "</table>\n",
       "</div>"
      ],
      "text/plain": [
       "B    3    8    10    14\n",
       "A                      \n",
       "1  13.0  3.0  NaN  11.0\n",
       "3   NaN  NaN  5.0   NaN"
      ]
     },
     "execution_count": 95,
     "metadata": {},
     "output_type": "execute_result"
    }
   ],
   "source": [
    "random_df = pd.DataFrame({'A':np.random.randint(1,5,4), 'B':np.random.randint(1,15,4), 'C':np.random.randint(1,15,4)})\n",
    "print(random_df)\n",
    "random_df.pivot('A', 'B', 'C')"
   ]
  },
  {
   "cell_type": "code",
   "execution_count": 96,
   "metadata": {
    "hideCode": false,
    "hidePrompt": false
   },
   "outputs": [
    {
     "name": "stdout",
     "output_type": "stream",
     "text": [
      "              age       fare     parch    pclass     sibsp  survived\n",
      "sex                                                                 \n",
      "female  28.270159  46.135125  0.637149  2.157667  0.656587  0.727862\n",
      "male    30.001287  26.496624  0.248219  2.374109  0.414489  0.191211\n",
      "\n",
      "\n",
      "\n",
      "                age                  fare                parch            \\\n",
      "sex          female       male     female       male    female      male   \n",
      "embarked                                                                   \n",
      "C         31.433628  31.489851  81.128540  48.869662  0.513274  0.269231   \n",
      "Q         23.635593  30.055556  12.632207  12.273941  0.135593  0.095238   \n",
      "S         27.981386  29.623060  39.339305  22.332635  0.786942  0.258427   \n",
      "\n",
      "            pclass               sibsp            survived            \n",
      "sex         female      male    female      male    female      male  \n",
      "embarked                                                              \n",
      "C         1.646018  2.006410  0.504425  0.326923  0.902655  0.307692  \n",
      "Q         2.898305  2.888889  0.203390  0.476190  0.627119  0.111111  \n",
      "S         2.206186  2.414125  0.807560  0.430177  0.680412  0.170144  \n"
     ]
    }
   ],
   "source": [
    "print(pd.pivot_table(df, index=\"sex\"))\n",
    "print('\\n\\n')\n",
    "print(pd.pivot_table(df, index=\"embarked\", columns = \"sex\"))"
   ]
  },
  {
   "cell_type": "code",
   "execution_count": 97,
   "metadata": {},
   "outputs": [
    {
     "data": {
      "image/png": "[encoded data removed]",
      "text/plain": [
       "<Figure size 864x288 with 3 Axes>"
      ]
     },
     "metadata": {
      "needs_background": "light"
     },
     "output_type": "display_data"
    }
   ],
   "source": [
    "fig, ax = plt.subplots(1,3,figsize=(12,4))\n",
    "ax = ax.flatten()\n",
    "\n",
    "categorial_variables = ['sex', 'embarked', 'pclass']\n",
    "y = df.survived\n",
    "\n",
    "for i, feature in enumerate(categorial_variables):\n",
    "    \n",
    "    frequency_table = pd.pivot_table(df, index = y.astype(int), values = \"age\",\n",
    "                                     columns = feature, aggfunc=\"count\").T\n",
    "    frequency_table.plot(kind=\"bar\", ax=ax[i], \n",
    "                         color=[\"pink\", \"skyblue\"], edgecolor=[\"crimson\", \"navy\"])\n",
    "    ax[i].set_xticklabels(df[feature].unique(), rotation=0, fontsize=12)\n",
    "    ax[i].legend([\"dead\", \"survived\"], fontsize=12)\n",
    "    ax[i].set_xlabel(\"\")\n",
    "    ax[i].set_title(feature, fontsize=16)\n",
    "    \n",
    "plt.suptitle(\"Conditional Frequencies of Categorical Features\", fontsize=18)\n",
    "plt.tight_layout()"
   ]
  }
 ],
 "metadata": {
  "celltoolbar": "Slideshow",
  "hide_code_all_hidden": false,
  "hide_input": false,
  "kernelspec": {
   "display_name": "Python 3",
   "language": "python",
   "name": "python3"
  },
  "language_info": {
   "codemirror_mode": {
    "name": "ipython",
    "version": 3
   },
   "file_extension": ".py",
   "mimetype": "text/x-python",
   "name": "python",
   "nbconvert_exporter": "python",
   "pygments_lexer": "ipython3",
   "version": "3.8.8"
  },
  "toc": {
   "base_numbering": 1,
   "nav_menu": {},
   "number_sections": true,
   "sideBar": true,
   "skip_h1_title": true,
   "title_cell": "Table of Contents",
   "title_sidebar": "Contents",
   "toc_cell": false,
   "toc_position": {
    "height": "calc(100% - 180px)",
    "left": "10px",
    "top": "150px",
    "width": "220.25px"
   },
   "toc_section_display": true,
   "toc_window_display": true
  }
 },
 "nbformat": 4,
 "nbformat_minor": 2
}
